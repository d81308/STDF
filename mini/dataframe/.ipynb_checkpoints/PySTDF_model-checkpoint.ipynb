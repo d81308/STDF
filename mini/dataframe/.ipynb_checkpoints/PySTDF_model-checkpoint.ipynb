{
 "cells": [
  {
   "cell_type": "markdown",
   "id": "94bf0333",
   "metadata": {},
   "source": [
    "Objective:\n",
    "Do work-flow in model"
   ]
  },
  {
   "cell_type": "markdown",
   "id": "ec15ae5d",
   "metadata": {},
   "source": [
    "# pystdf"
   ]
  },
  {
   "cell_type": "code",
   "execution_count": null,
   "id": "a6e8459f",
   "metadata": {},
   "outputs": [],
   "source": [
    "!pip install pystdf"
   ]
  },
  {
   "cell_type": "code",
   "execution_count": 2,
   "id": "7d2bac7e",
   "metadata": {},
   "outputs": [],
   "source": [
    "fname=\"/Users/jianlin/Documents/Project_STDF_wafermap/main_Lot_1_Wafer_1_Oct_13_09h33m41s_STDF\""
   ]
  },
  {
   "cell_type": "code",
   "execution_count": 3,
   "id": "f0079589",
   "metadata": {},
   "outputs": [],
   "source": [
    "import numpy as np\n",
    "import pandas as pd\n",
    "from pystdf.IO import Parser\n",
    "from pystdf.Writers import TextWriter\n",
    "\n",
    "class MemoryWriter:\n",
    "    def __init__(self):\n",
    "        self.data = []\n",
    "    def after_send(self, dataSource, data):\n",
    "        self.data.append(data)\n",
    "    def write(self,line):\n",
    "        self.data.append(line)\n",
    "    def flush(self):\n",
    "        pass # Do nothing\n",
    "\n",
    "def ImportSTDF(fname):\n",
    "    with open(fname,'rb') as fin:\n",
    "        p = Parser(inp=fin)\n",
    "        storage = MemoryWriter()\n",
    "        p.addSink(storage)\n",
    "        p.parse()\n",
    "    return storage.data\n",
    "\n",
    "def STDF2Text(fname,delimiter='|'):\n",
    "    \"\"\" Convert STDF to a list of text representation\n",
    "    \"\"\"\n",
    "    with open(fname,'rb') as fin:\n",
    "        p = Parser(inp=fin)\n",
    "        storage = MemoryWriter()\n",
    "        p.addSink(TextWriter(storage,delimiter=delimiter))\n",
    "        p.parse()\n",
    "        return storage.data\n",
    "    return None\n",
    "\n",
    "def STDF2Dict(fname):\n",
    "    \"\"\" Convert STDF to a list of dictionary objects\n",
    "    \"\"\"\n",
    "    data = ImportSTDF(fname)\n",
    "    data_out = []\n",
    "    for datum in data:\n",
    "        datum_out = {}\n",
    "        RecType = datum[0].__class__.__name__.upper()\n",
    "        datum_out['RecType'] = RecType\n",
    "        for k,v in zip(datum[0].fieldMap,datum[1]):\n",
    "            datum_out[k[0]] = v\n",
    "        data_out.append(datum_out)\n",
    "    return data_out\n",
    "\n",
    "def STDF2DataFrame(fname):\n",
    "    \"\"\" Convert STDF to a dictionary of DataFrame objects\n",
    "    \"\"\"\n",
    "    data = ImportSTDF(fname)\n",
    "    BigTable = {}\n",
    "    for datum in data:\n",
    "        RecType = datum[0].__class__.__name__.upper()\n",
    "        if RecType not in BigTable.keys():\n",
    "            BigTable[RecType] = {}\n",
    "        Rec = BigTable[RecType]\n",
    "        for k,v in zip(datum[0].fieldMap,datum[1]):\n",
    "            if k[0] not in Rec.keys():\n",
    "                Rec[k[0]] = []\n",
    "            Rec[k[0]].append(v)\n",
    "    for k,v in BigTable.items():\n",
    "        BigTable[k] = pd.DataFrame(v)\n",
    "    return BigTable"
   ]
  },
  {
   "cell_type": "code",
   "execution_count": null,
   "id": "efc25cd8",
   "metadata": {},
   "outputs": [],
   "source": [
    "read_file = STDF2DataFrame(fname)\n",
    "read_file"
   ]
  },
  {
   "cell_type": "markdown",
   "id": "482dbbd7",
   "metadata": {},
   "source": [
    "# parse step by step"
   ]
  },
  {
   "cell_type": "code",
   "execution_count": null,
   "id": "23848fff",
   "metadata": {},
   "outputs": [],
   "source": [
    "#read and parsing\n",
    "with open(fname,'rb') as fin:\n",
    "    p = Parser(inp=fin)\n",
    "    storage = MemoryWriter()\n",
    "    p.addSink(storage)\n",
    "    p.parse()\n",
    "    for line in storage.data:\n",
    "        print(line)"
   ]
  },
  {
   "cell_type": "code",
   "execution_count": 4,
   "id": "ca775e6d",
   "metadata": {},
   "outputs": [
    {
     "name": "stdout",
     "output_type": "stream",
     "text": [
      "<pystdf.V4.Prr object at 0x7ff2683dc640>\n",
      "<pystdf.V4.Prr object at 0x7ff2683dc640>\n",
      "<pystdf.V4.Prr object at 0x7ff2683dc640>\n",
      "<pystdf.V4.Prr object at 0x7ff2683dc640>\n",
      "<pystdf.V4.Prr object at 0x7ff2683dc640>\n",
      "<pystdf.V4.Prr object at 0x7ff2683dc640>\n",
      "<pystdf.V4.Prr object at 0x7ff2683dc640>\n",
      "<pystdf.V4.Prr object at 0x7ff2683dc640>\n",
      "<pystdf.V4.Prr object at 0x7ff2683dc640>\n",
      "<pystdf.V4.Prr object at 0x7ff2683dc640>\n",
      "<pystdf.V4.Prr object at 0x7ff2683dc640>\n",
      "<pystdf.V4.Prr object at 0x7ff2683dc640>\n",
      "<pystdf.V4.Prr object at 0x7ff2683dc640>\n"
     ]
    }
   ],
   "source": [
    "#to dataframe\n",
    "data = ImportSTDF(fname)\n",
    "for datum in data:\n",
    "    if datum[0].__class__.__name__.upper()=='PRR':\n",
    "        print(datum[0])"
   ]
  },
  {
   "cell_type": "code",
   "execution_count": 5,
   "id": "9d2df40b",
   "metadata": {},
   "outputs": [
    {
     "name": "stdout",
     "output_type": "stream",
     "text": [
      "(('HEAD_NUM', 'U1'), ('SITE_NUM', 'U1'), ('PART_FLG', 'B1'), ('NUM_TEST', 'U2'), ('HARD_BIN', 'U2'), ('SOFT_BIN', 'U2'), ('X_COORD', 'I2'), ('Y_COORD', 'I2'), ('TEST_T', 'U4'), ('PART_ID', 'Cn'), ('PART_TXT', 'Cn'), ('PART_FIX', 'Bn')) \n",
      "\n",
      "(('HEAD_NUM', 'U1'), ('SITE_NUM', 'U1'), ('PART_FLG', 'B1'), ('NUM_TEST', 'U2'), ('HARD_BIN', 'U2'), ('SOFT_BIN', 'U2'), ('X_COORD', 'I2'), ('Y_COORD', 'I2'), ('TEST_T', 'U4'), ('PART_ID', 'Cn'), ('PART_TXT', 'Cn'), ('PART_FIX', 'Bn')) \n",
      "\n",
      "(('HEAD_NUM', 'U1'), ('SITE_NUM', 'U1'), ('PART_FLG', 'B1'), ('NUM_TEST', 'U2'), ('HARD_BIN', 'U2'), ('SOFT_BIN', 'U2'), ('X_COORD', 'I2'), ('Y_COORD', 'I2'), ('TEST_T', 'U4'), ('PART_ID', 'Cn'), ('PART_TXT', 'Cn'), ('PART_FIX', 'Bn')) \n",
      "\n",
      "(('HEAD_NUM', 'U1'), ('SITE_NUM', 'U1'), ('PART_FLG', 'B1'), ('NUM_TEST', 'U2'), ('HARD_BIN', 'U2'), ('SOFT_BIN', 'U2'), ('X_COORD', 'I2'), ('Y_COORD', 'I2'), ('TEST_T', 'U4'), ('PART_ID', 'Cn'), ('PART_TXT', 'Cn'), ('PART_FIX', 'Bn')) \n",
      "\n",
      "(('HEAD_NUM', 'U1'), ('SITE_NUM', 'U1'), ('PART_FLG', 'B1'), ('NUM_TEST', 'U2'), ('HARD_BIN', 'U2'), ('SOFT_BIN', 'U2'), ('X_COORD', 'I2'), ('Y_COORD', 'I2'), ('TEST_T', 'U4'), ('PART_ID', 'Cn'), ('PART_TXT', 'Cn'), ('PART_FIX', 'Bn')) \n",
      "\n",
      "(('HEAD_NUM', 'U1'), ('SITE_NUM', 'U1'), ('PART_FLG', 'B1'), ('NUM_TEST', 'U2'), ('HARD_BIN', 'U2'), ('SOFT_BIN', 'U2'), ('X_COORD', 'I2'), ('Y_COORD', 'I2'), ('TEST_T', 'U4'), ('PART_ID', 'Cn'), ('PART_TXT', 'Cn'), ('PART_FIX', 'Bn')) \n",
      "\n",
      "(('HEAD_NUM', 'U1'), ('SITE_NUM', 'U1'), ('PART_FLG', 'B1'), ('NUM_TEST', 'U2'), ('HARD_BIN', 'U2'), ('SOFT_BIN', 'U2'), ('X_COORD', 'I2'), ('Y_COORD', 'I2'), ('TEST_T', 'U4'), ('PART_ID', 'Cn'), ('PART_TXT', 'Cn'), ('PART_FIX', 'Bn')) \n",
      "\n",
      "(('HEAD_NUM', 'U1'), ('SITE_NUM', 'U1'), ('PART_FLG', 'B1'), ('NUM_TEST', 'U2'), ('HARD_BIN', 'U2'), ('SOFT_BIN', 'U2'), ('X_COORD', 'I2'), ('Y_COORD', 'I2'), ('TEST_T', 'U4'), ('PART_ID', 'Cn'), ('PART_TXT', 'Cn'), ('PART_FIX', 'Bn')) \n",
      "\n",
      "(('HEAD_NUM', 'U1'), ('SITE_NUM', 'U1'), ('PART_FLG', 'B1'), ('NUM_TEST', 'U2'), ('HARD_BIN', 'U2'), ('SOFT_BIN', 'U2'), ('X_COORD', 'I2'), ('Y_COORD', 'I2'), ('TEST_T', 'U4'), ('PART_ID', 'Cn'), ('PART_TXT', 'Cn'), ('PART_FIX', 'Bn')) \n",
      "\n",
      "(('HEAD_NUM', 'U1'), ('SITE_NUM', 'U1'), ('PART_FLG', 'B1'), ('NUM_TEST', 'U2'), ('HARD_BIN', 'U2'), ('SOFT_BIN', 'U2'), ('X_COORD', 'I2'), ('Y_COORD', 'I2'), ('TEST_T', 'U4'), ('PART_ID', 'Cn'), ('PART_TXT', 'Cn'), ('PART_FIX', 'Bn')) \n",
      "\n",
      "(('HEAD_NUM', 'U1'), ('SITE_NUM', 'U1'), ('PART_FLG', 'B1'), ('NUM_TEST', 'U2'), ('HARD_BIN', 'U2'), ('SOFT_BIN', 'U2'), ('X_COORD', 'I2'), ('Y_COORD', 'I2'), ('TEST_T', 'U4'), ('PART_ID', 'Cn'), ('PART_TXT', 'Cn'), ('PART_FIX', 'Bn')) \n",
      "\n",
      "(('HEAD_NUM', 'U1'), ('SITE_NUM', 'U1'), ('PART_FLG', 'B1'), ('NUM_TEST', 'U2'), ('HARD_BIN', 'U2'), ('SOFT_BIN', 'U2'), ('X_COORD', 'I2'), ('Y_COORD', 'I2'), ('TEST_T', 'U4'), ('PART_ID', 'Cn'), ('PART_TXT', 'Cn'), ('PART_FIX', 'Bn')) \n",
      "\n",
      "(('HEAD_NUM', 'U1'), ('SITE_NUM', 'U1'), ('PART_FLG', 'B1'), ('NUM_TEST', 'U2'), ('HARD_BIN', 'U2'), ('SOFT_BIN', 'U2'), ('X_COORD', 'I2'), ('Y_COORD', 'I2'), ('TEST_T', 'U4'), ('PART_ID', 'Cn'), ('PART_TXT', 'Cn'), ('PART_FIX', 'Bn')) \n",
      "\n"
     ]
    }
   ],
   "source": [
    "#to dataframe\n",
    "data = ImportSTDF(fname)\n",
    "for datum in data:\n",
    "    if datum[0].__class__.__name__.upper()=='PRR':\n",
    "        print(datum[0].fieldMap,\"\\n\")"
   ]
  },
  {
   "cell_type": "code",
   "execution_count": null,
   "id": "653bc215",
   "metadata": {},
   "outputs": [],
   "source": []
  }
 ],
 "metadata": {
  "kernelspec": {
   "display_name": "Python 3 (ipykernel)",
   "language": "python",
   "name": "python3"
  },
  "language_info": {
   "codemirror_mode": {
    "name": "ipython",
    "version": 3
   },
   "file_extension": ".py",
   "mimetype": "text/x-python",
   "name": "python",
   "nbconvert_exporter": "python",
   "pygments_lexer": "ipython3",
   "version": "3.8.8"
  }
 },
 "nbformat": 4,
 "nbformat_minor": 5
}
