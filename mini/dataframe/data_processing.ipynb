{
 "cells": [
  {
   "cell_type": "code",
   "execution_count": 2,
   "id": "0c7531c1",
   "metadata": {},
   "outputs": [],
   "source": [
    "import pandas as pd"
   ]
  },
  {
   "cell_type": "markdown",
   "id": "f462f30a",
   "metadata": {},
   "source": [
    "# creator"
   ]
  },
  {
   "cell_type": "code",
   "execution_count": 71,
   "id": "6fe66f7f",
   "metadata": {},
   "outputs": [],
   "source": [
    "a = ['a','b','c','a','b','c']\n",
    "b = [1,2,3,4,5,6]"
   ]
  },
  {
   "cell_type": "code",
   "execution_count": 72,
   "id": "64710665",
   "metadata": {},
   "outputs": [
    {
     "name": "stdout",
     "output_type": "stream",
     "text": [
      "a 1\n",
      "b 2\n",
      "c 3\n",
      "a 4\n",
      "b 5\n",
      "c 6\n"
     ]
    }
   ],
   "source": [
    "for k,v in zip(a,b):\n",
    "    print(k,v)"
   ]
  },
  {
   "cell_type": "code",
   "execution_count": 73,
   "id": "9b330020",
   "metadata": {},
   "outputs": [
    {
     "name": "stdout",
     "output_type": "stream",
     "text": [
      "a 1\n",
      "b 2\n",
      "c 3\n",
      "a 4\n",
      "b 5\n",
      "c 6\n",
      "6\n"
     ]
    }
   ],
   "source": [
    "sheet=zip(a,b)\n",
    "count=0\n",
    "for k,v in sheet:\n",
    "    print(k,v)\n",
    "    count+=1\n",
    "print(count)"
   ]
  },
  {
   "cell_type": "markdown",
   "id": "a706b5d0",
   "metadata": {},
   "source": [
    "# method:if not in, classi"
   ]
  },
  {
   "cell_type": "code",
   "execution_count": 74,
   "id": "5ef0a423",
   "metadata": {},
   "outputs": [
    {
     "name": "stdout",
     "output_type": "stream",
     "text": [
      "a 1\n",
      "b 2\n",
      "c 3\n",
      "a 4\n",
      "b 5\n",
      "c 6\n",
      "dict_keys(['a', 'b', 'c'])\n",
      "dict_items([('a', [1, 4]), ('b', [2, 5]), ('c', [3, 6])])\n"
     ]
    }
   ],
   "source": [
    "dict={}\n",
    "for k,v in zip(a,b):\n",
    "    print(k,v)\n",
    "    if k not in dict.keys():\n",
    "        dict[k]=[v]\n",
    "    else:\n",
    "        dict[k].append(v)\n",
    "\n",
    "print(dict.keys())\n",
    "print(dict.items())"
   ]
  },
  {
   "cell_type": "code",
   "execution_count": 68,
   "id": "86011c2d",
   "metadata": {},
   "outputs": [
    {
     "data": {
      "text/plain": [
       "3"
      ]
     },
     "execution_count": 68,
     "metadata": {},
     "output_type": "execute_result"
    }
   ],
   "source": [
    "len(dict.keys())"
   ]
  },
  {
   "cell_type": "code",
   "execution_count": null,
   "id": "9615ccad",
   "metadata": {},
   "outputs": [],
   "source": []
  },
  {
   "cell_type": "markdown",
   "id": "a9ca53fe",
   "metadata": {},
   "source": [
    "# zip method into df"
   ]
  },
  {
   "cell_type": "code",
   "execution_count": 36,
   "id": "3494d2b1",
   "metadata": {},
   "outputs": [],
   "source": [
    "zip_data = zip('a','b')"
   ]
  },
  {
   "cell_type": "code",
   "execution_count": 37,
   "id": "b9564eb8",
   "metadata": {},
   "outputs": [
    {
     "data": {
      "text/plain": [
       "[('a', 'b')]"
      ]
     },
     "execution_count": 37,
     "metadata": {},
     "output_type": "execute_result"
    }
   ],
   "source": [
    "list(zip_data)"
   ]
  },
  {
   "cell_type": "code",
   "execution_count": 76,
   "id": "864ab147",
   "metadata": {},
   "outputs": [
    {
     "data": {
      "text/plain": [
       "list"
      ]
     },
     "execution_count": 76,
     "metadata": {},
     "output_type": "execute_result"
    }
   ],
   "source": [
    "type(dict['a'])"
   ]
  },
  {
   "cell_type": "code",
   "execution_count": 81,
   "id": "adf32bfd",
   "metadata": {},
   "outputs": [
    {
     "name": "stdout",
     "output_type": "stream",
     "text": [
      "['a', 'b', 'c']\n"
     ]
    }
   ],
   "source": [
    "print(list(dict.keys()))"
   ]
  },
  {
   "cell_type": "code",
   "execution_count": 86,
   "id": "431d1b94",
   "metadata": {},
   "outputs": [
    {
     "data": {
      "text/html": [
       "<div>\n",
       "<style scoped>\n",
       "    .dataframe tbody tr th:only-of-type {\n",
       "        vertical-align: middle;\n",
       "    }\n",
       "\n",
       "    .dataframe tbody tr th {\n",
       "        vertical-align: top;\n",
       "    }\n",
       "\n",
       "    .dataframe thead th {\n",
       "        text-align: right;\n",
       "    }\n",
       "</style>\n",
       "<table border=\"1\" class=\"dataframe\">\n",
       "  <thead>\n",
       "    <tr style=\"text-align: right;\">\n",
       "      <th></th>\n",
       "      <th>a</th>\n",
       "      <th>b</th>\n",
       "      <th>c</th>\n",
       "    </tr>\n",
       "  </thead>\n",
       "  <tbody>\n",
       "    <tr>\n",
       "      <th>0</th>\n",
       "      <td>1</td>\n",
       "      <td>2</td>\n",
       "      <td>3</td>\n",
       "    </tr>\n",
       "    <tr>\n",
       "      <th>1</th>\n",
       "      <td>4</td>\n",
       "      <td>5</td>\n",
       "      <td>6</td>\n",
       "    </tr>\n",
       "  </tbody>\n",
       "</table>\n",
       "</div>"
      ],
      "text/plain": [
       "   a  b  c\n",
       "0  1  2  3\n",
       "1  4  5  6"
      ]
     },
     "execution_count": 86,
     "metadata": {},
     "output_type": "execute_result"
    }
   ],
   "source": [
    "df = pd.DataFrame()\n",
    "for key in dict.keys():\n",
    "    df[key]=dict[key]\n",
    "df"
   ]
  },
  {
   "cell_type": "code",
   "execution_count": null,
   "id": "e54f27fd",
   "metadata": {},
   "outputs": [],
   "source": []
  }
 ],
 "metadata": {
  "kernelspec": {
   "display_name": "Python 3 (ipykernel)",
   "language": "python",
   "name": "python3"
  },
  "language_info": {
   "codemirror_mode": {
    "name": "ipython",
    "version": 3
   },
   "file_extension": ".py",
   "mimetype": "text/x-python",
   "name": "python",
   "nbconvert_exporter": "python",
   "pygments_lexer": "ipython3",
   "version": "3.8.8"
  }
 },
 "nbformat": 4,
 "nbformat_minor": 5
}
