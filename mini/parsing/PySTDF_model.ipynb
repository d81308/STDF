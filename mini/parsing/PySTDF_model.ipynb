{
 "cells": [
  {
   "cell_type": "markdown",
   "id": "94bf0333",
   "metadata": {},
   "source": [
    "Objective:\n",
    "Do work-flow in model"
   ]
  },
  {
   "cell_type": "markdown",
   "id": "ec15ae5d",
   "metadata": {},
   "source": [
    "# pystdf"
   ]
  },
  {
   "cell_type": "code",
   "execution_count": 2,
   "id": "a6e8459f",
   "metadata": {},
   "outputs": [
    {
     "name": "stdout",
     "output_type": "stream",
     "text": [
      "Collecting pystdf\n",
      "  Downloading pystdf-1.3.4-py2.py3-none-any.whl.metadata (2.0 kB)\n",
      "Requirement already satisfied: numpy in /Users/jianlin/.local/lib/python3.8/site-packages (from pystdf) (1.23.4)\n",
      "Requirement already satisfied: openpyxl in /Users/jianlin/opt/anaconda3/lib/python3.8/site-packages (from pystdf) (3.0.7)\n",
      "Requirement already satisfied: pandas in /Users/jianlin/opt/anaconda3/lib/python3.8/site-packages (from pystdf) (1.1.5)\n",
      "Requirement already satisfied: et-xmlfile in /Users/jianlin/opt/anaconda3/lib/python3.8/site-packages (from openpyxl->pystdf) (1.0.1)\n",
      "Requirement already satisfied: python-dateutil>=2.7.3 in /Users/jianlin/opt/anaconda3/lib/python3.8/site-packages (from pandas->pystdf) (2.8.1)\n",
      "Requirement already satisfied: pytz>=2017.2 in /Users/jianlin/opt/anaconda3/lib/python3.8/site-packages (from pandas->pystdf) (2021.1)\n",
      "Requirement already satisfied: six>=1.5 in /Users/jianlin/opt/anaconda3/lib/python3.8/site-packages (from python-dateutil>=2.7.3->pandas->pystdf) (1.15.0)\n",
      "Downloading pystdf-1.3.4-py2.py3-none-any.whl (56 kB)\n",
      "\u001b[2K   \u001b[90m━━━━━━━━━━━━━━━━━━━━━━━━━━━━━━━━━━━━━━━━\u001b[0m \u001b[32m56.7/56.7 kB\u001b[0m \u001b[31m455.6 kB/s\u001b[0m eta \u001b[36m0:00:00\u001b[0ma \u001b[36m0:00:01\u001b[0m\n",
      "\u001b[?25h\u001b[33mDEPRECATION: pyodbc 4.0.0-unsupported has a non-standard version number. pip 24.0 will enforce this behaviour change. A possible replacement is to upgrade to a newer version of pyodbc or contact the author to suggest that they release a version with a conforming version number. Discussion can be found at https://github.com/pypa/pip/issues/12063\u001b[0m\u001b[33m\n",
      "\u001b[0mInstalling collected packages: pystdf\n",
      "Successfully installed pystdf-1.3.4\n"
     ]
    }
   ],
   "source": [
    "!pip install pystdf"
   ]
  },
  {
   "cell_type": "code",
   "execution_count": 3,
   "id": "7423134f",
   "metadata": {},
   "outputs": [],
   "source": [
    "import numpy as np\n",
    "import pandas as pd\n",
    "from pystdf.IO import Parser\n",
    "from pystdf.Writers import TextWriter"
   ]
  },
  {
   "cell_type": "code",
   "execution_count": 4,
   "id": "7d2bac7e",
   "metadata": {},
   "outputs": [],
   "source": [
    "fname=\"/Users/jianlin/Documents/Project_STDF_wafermap/main_Lot_1_Wafer_1_Oct_13_09h33m41s_STDF\""
   ]
  },
  {
   "cell_type": "code",
   "execution_count": 5,
   "id": "f0079589",
   "metadata": {},
   "outputs": [],
   "source": [
    "import numpy as np\n",
    "import pandas as pd\n",
    "from pystdf.IO import Parser\n",
    "from pystdf.Writers import TextWriter\n",
    "\n",
    "class MemoryWriter:\n",
    "    def __init__(self):\n",
    "        self.data = []\n",
    "    def after_send(self, dataSource, data):\n",
    "        self.data.append(data)\n",
    "    def write(self,line):\n",
    "        self.data.append(line)\n",
    "    def flush(self):\n",
    "        pass # Do nothing\n",
    "\n",
    "def ImportSTDF(fname):\n",
    "    with open(fname,'rb') as fin:\n",
    "        p = Parser(inp=fin)\n",
    "        storage = MemoryWriter()\n",
    "        p.addSink(storage)\n",
    "        p.parse()\n",
    "    return storage.data\n",
    "\n",
    "def STDF2Text(fname,delimiter='|'):\n",
    "    \"\"\" Convert STDF to a list of text representation\n",
    "    \"\"\"\n",
    "    with open(fname,'rb') as fin:\n",
    "        p = Parser(inp=fin)\n",
    "        storage = MemoryWriter()\n",
    "        p.addSink(TextWriter(storage,delimiter=delimiter))\n",
    "        p.parse()\n",
    "        return storage.data\n",
    "    return None\n",
    "\n",
    "def STDF2Dict(fname):\n",
    "    \"\"\" Convert STDF to a list of dictionary objects\n",
    "    \"\"\"\n",
    "    data = ImportSTDF(fname)\n",
    "    data_out = []\n",
    "    for datum in data:\n",
    "        datum_out = {}\n",
    "        RecType = datum[0].__class__.__name__.upper()\n",
    "        datum_out['RecType'] = RecType\n",
    "        for k,v in zip(datum[0].fieldMap,datum[1]):\n",
    "            datum_out[k[0]] = v\n",
    "        data_out.append(datum_out)\n",
    "    return data_out\n",
    "\n",
    "def STDF2DataFrame(fname):\n",
    "    \"\"\" Convert STDF to a dictionary of DataFrame objects\n",
    "    \"\"\"\n",
    "    data = ImportSTDF(fname)\n",
    "    BigTable = {}\n",
    "    for datum in data:\n",
    "        RecType = datum[0].__class__.__name__.upper()\n",
    "        if RecType not in BigTable.keys():\n",
    "            BigTable[RecType] = {}\n",
    "        Rec = BigTable[RecType]\n",
    "        for k,v in zip(datum[0].fieldMap,datum[1]):\n",
    "            if k[0] not in Rec.keys():\n",
    "                Rec[k[0]] = []\n",
    "            Rec[k[0]].append(v)\n",
    "    for k,v in BigTable.items():\n",
    "        BigTable[k] = pd.DataFrame(v)\n",
    "    return BigTable"
   ]
  },
  {
   "cell_type": "code",
   "execution_count": 8,
   "id": "966c5814",
   "metadata": {},
   "outputs": [
    {
     "data": {
      "text/plain": [
       "['FAR|2|4\\n',\n",
       " 'ATR|1476351224|dataformatter tester config; Ver: SmarTest s/w rev. 7.1.4.3 (E), 15-Oct-12; dataformatter 2.0.9 Oct 15 2012 18:37:15\\n',\n",
       " 'MIR|17:33:30 13-Oct-2016|17:33:44 13-Oct-2016|1| |N| |65535| |1||localhost.localdomain|93000-SOC|cp_32|||vincent|93000|s/w rev. 7.1.4.3 (E), 15-Oct-12\\n||25.25||||||||||||||||||\\n',\n",
       " 'SDR|1|2|1|1||||||||||||||||\\n',\n",
       " 'PMR|1|1|Xin|10101|1|1|1\\n',\n",
       " 'PMR|2|2|Xout|10102|2|1|1\\n',\n",
       " 'PMR|3|0|VCC|11||1|1\\n',\n",
       " 'WCR|0.0|0.0|0.0|0| |-32768|-32768| | \\n',\n",
       " 'WIR|1|2|1476351224|\\n',\n",
       " 'PIR|1|1\\n',\n",
       " 'PMR|1|1|Xin|10101|1|1|1\\n',\n",
       " 'PMR|2|2|Xout|10102|2|1|1\\n',\n",
       " 'PMR|3|0|VCC|11||1|1\\n',\n",
       " 'PRR|1|1|0|0|1|1|-5|-4|515|1|0.000|[]\\n',\n",
       " 'PIR|1|1\\n',\n",
       " 'PRR|1|1|0|0|1|1|-1|-4|1|2|1.750|[]\\n',\n",
       " 'PIR|1|1\\n',\n",
       " 'PRR|1|1|0|0|1|1|4|-4|1|3|2.201|[]\\n',\n",
       " 'PIR|1|1\\n',\n",
       " 'PRR|1|1|0|0|1|1|6|-4|1|4|2.803|[]\\n',\n",
       " 'PIR|1|1\\n',\n",
       " 'PRR|1|1|0|0|1|1|7|-4|1|5|2.547|[]\\n',\n",
       " 'PIR|1|1\\n',\n",
       " 'PRR|1|1|0|0|1|1|-7|-3|1|6|2.702|[]\\n',\n",
       " 'PIR|1|1\\n',\n",
       " 'PRR|1|1|0|0|1|1|-3|-3|1|7|2.700|[]\\n',\n",
       " 'PIR|1|1\\n',\n",
       " 'PRR|1|1|0|0|1|1|-2|-3|1|8|2.101|[]\\n',\n",
       " 'PIR|1|1\\n',\n",
       " 'PRR|1|1|0|0|1|1|3|-3|1|9|2.600|[]\\n',\n",
       " 'PIR|1|1\\n',\n",
       " 'PRR|1|1|0|0|1|1|4|-3|1|10|2.765|[]\\n',\n",
       " 'PIR|1|1\\n',\n",
       " 'PRR|1|1|0|0|1|1|6|-3|1|11|2.704|[]\\n',\n",
       " 'PIR|1|1\\n',\n",
       " 'PRR|1|1|0|0|1|1|-6|0|1|12|2.802|[]\\n',\n",
       " 'PIR|1|1\\n',\n",
       " 'PRR|1|1|0|0|1|1|-4|0|1|13|2.304|[]\\n',\n",
       " 'WRR|1|2|1476351281|13|0|4294967295|13|4294967295||||||\\n',\n",
       " 'HBR|1|1|1|13|P|PASS\\n',\n",
       " 'HBR|255|0|1|13|P|PASS\\n',\n",
       " 'SBR|1|1|1|13|P|PASS\\n',\n",
       " 'SBR|255|0|1|13|P|PASS\\n',\n",
       " 'PCR|1|1|13|0|4294967295|13|4294967295\\n',\n",
       " 'PCR|255|0|13|0|4294967295|13|4294967295\\n',\n",
       " 'MRR|17:34:41 13-Oct-2016| ||\\n']"
      ]
     },
     "execution_count": 8,
     "metadata": {},
     "output_type": "execute_result"
    }
   ],
   "source": [
    "STDF2Text(fname)"
   ]
  },
  {
   "cell_type": "code",
   "execution_count": 62,
   "id": "efc25cd8",
   "metadata": {},
   "outputs": [
    {
     "data": {
      "text/plain": [
       "{'FAR':    CPU_TYPE  STDF_VER\n",
       " 0         2         4,\n",
       " 'ATR':       MOD_TIM                                           CMD_LINE\n",
       " 0  1476351224  dataformatter tester config; Ver: SmarTest s/w...,\n",
       " 'MIR':       SETUP_T     START_T  STAT_NUM MODE_COD RTST_COD PROT_COD  BURN_TIM  \\\n",
       " 0  1476351210  1476351224         1                 N              65535   \n",
       " \n",
       "   CMOD_COD LOT_ID PART_TYP  ... OPER_FRQ SPEC_NAM SPEC_VER FLOW_ID SETUP_ID  \\\n",
       " 0               1           ...                                               \n",
       " \n",
       "   DSGN_REV ENG_ID ROM_COD SERL_NUM SUPR_NAM  \n",
       " 0                                            \n",
       " \n",
       " [1 rows x 38 columns],\n",
       " 'SDR':    HEAD_NUM  SITE_GRP  SITE_CNT SITE_NUM HAND_TYP HAND_ID CARD_TYP CARD_ID  \\\n",
       " 0         1         2         1      [1]                                     \n",
       " \n",
       "   LOAD_TYP LOAD_ID DIB_TYP DIB_ID CABL_TYP CABL_ID CONT_TYP CONT_ID LASR_TYP  \\\n",
       " 0                                                                              \n",
       " \n",
       "   LASR_ID EXTR_TYP EXTR_ID  \n",
       " 0                           ,\n",
       " 'PMR':    PMR_INDX  CHAN_TYP CHAN_NAM PHY_NAM LOG_NAM  HEAD_NUM  SITE_NUM\n",
       " 0         1         1      Xin   10101       1         1         1\n",
       " 1         2         2     Xout   10102       2         1         1\n",
       " 2         3         0      VCC      11                 1         1\n",
       " 3         1         1      Xin   10101       1         1         1\n",
       " 4         2         2     Xout   10102       2         1         1\n",
       " 5         3         0      VCC      11                 1         1,\n",
       " 'WCR':    WAFR_SIZ  DIE_HT  DIE_WID  WF_UNITS WF_FLAT  CENTER_X  CENTER_Y POS_X POS_Y\n",
       " 0       0.0     0.0      0.0         0            -32768    -32768            ,\n",
       " 'WIR':    HEAD_NUM  SITE_GRP     START_T WAFER_ID\n",
       " 0         1         2  1476351224         ,\n",
       " 'PIR':     HEAD_NUM  SITE_NUM\n",
       " 0          1         1\n",
       " 1          1         1\n",
       " 2          1         1\n",
       " 3          1         1\n",
       " 4          1         1\n",
       " 5          1         1\n",
       " 6          1         1\n",
       " 7          1         1\n",
       " 8          1         1\n",
       " 9          1         1\n",
       " 10         1         1\n",
       " 11         1         1\n",
       " 12         1         1,\n",
       " 'PRR':     HEAD_NUM  SITE_NUM  PART_FLG  NUM_TEST  HARD_BIN  SOFT_BIN  X_COORD  \\\n",
       " 0          1         1         0         0         1         1       -5   \n",
       " 1          1         1         0         0         1         1       -1   \n",
       " 2          1         1         0         0         1         1        4   \n",
       " 3          1         1         0         0         1         1        6   \n",
       " 4          1         1         0         0         1         1        7   \n",
       " 5          1         1         0         0         1         1       -7   \n",
       " 6          1         1         0         0         1         1       -3   \n",
       " 7          1         1         0         0         1         1       -2   \n",
       " 8          1         1         0         0         1         1        3   \n",
       " 9          1         1         0         0         1         1        4   \n",
       " 10         1         1         0         0         1         1        6   \n",
       " 11         1         1         0         0         1         1       -6   \n",
       " 12         1         1         0         0         1         1       -4   \n",
       " \n",
       "     Y_COORD  TEST_T PART_ID PART_TXT PART_FIX  \n",
       " 0        -4     515       1    0.000       []  \n",
       " 1        -4       1       2    1.750       []  \n",
       " 2        -4       1       3    2.201       []  \n",
       " 3        -4       1       4    2.803       []  \n",
       " 4        -4       1       5    2.547       []  \n",
       " 5        -3       1       6    2.702       []  \n",
       " 6        -3       1       7    2.700       []  \n",
       " 7        -3       1       8    2.101       []  \n",
       " 8        -3       1       9    2.600       []  \n",
       " 9        -3       1      10    2.765       []  \n",
       " 10       -3       1      11    2.704       []  \n",
       " 11        0       1      12    2.802       []  \n",
       " 12        0       1      13    2.304       []  ,\n",
       " 'WRR':    HEAD_NUM  SITE_GRP    FINISH_T  PART_CNT  RTST_CNT    ABRT_CNT  GOOD_CNT  \\\n",
       " 0         1         2  1476351281        13         0  4294967295        13   \n",
       " \n",
       "      FUNC_CNT WAFER_ID FABWF_ID FRAME_ID MASK_ID USR_DESC EXC_DESC  \n",
       " 0  4294967295                                                       ,\n",
       " 'HBR':    HEAD_NUM  SITE_NUM  HBIN_NUM  HBIN_CNT HBIN_PF HBIN_NAM\n",
       " 0         1         1         1        13       P     PASS\n",
       " 1       255         0         1        13       P     PASS,\n",
       " 'SBR':    HEAD_NUM  SITE_NUM  SBIN_NUM  SBIN_CNT SBIN_PF SBIN_NAM\n",
       " 0         1         1         1        13       P     PASS\n",
       " 1       255         0         1        13       P     PASS,\n",
       " 'PCR':    HEAD_NUM  SITE_NUM  PART_CNT  RTST_CNT    ABRT_CNT  GOOD_CNT    FUNC_CNT\n",
       " 0         1         1        13         0  4294967295        13  4294967295\n",
       " 1       255         0        13         0  4294967295        13  4294967295,\n",
       " 'MRR':      FINISH_T DISP_COD USR_DESC EXC_DESC\n",
       " 0  1476351281                           }"
      ]
     },
     "execution_count": 62,
     "metadata": {},
     "output_type": "execute_result"
    }
   ],
   "source": [
    "read_file = STDF2DataFrame(fname)\n",
    "read_file"
   ]
  },
  {
   "cell_type": "markdown",
   "id": "482dbbd7",
   "metadata": {},
   "source": [
    "# parse step by step"
   ]
  },
  {
   "cell_type": "code",
   "execution_count": 67,
   "id": "23848fff",
   "metadata": {},
   "outputs": [
    {
     "name": "stdout",
     "output_type": "stream",
     "text": [
      "(<pystdf.V4.Far object at 0x7ff75f8c0a90>, [2, 4])\n",
      "(<pystdf.V4.Atr object at 0x7ff75f8c0130>, [1476351224, 'dataformatter tester config; Ver: SmarTest s/w rev. 7.1.4.3 (E), 15-Oct-12; dataformatter 2.0.9 Oct 15 2012 18:37:15'])\n",
      "(<pystdf.V4.Mir object at 0x7ff75f8c0c10>, [1476351210, 1476351224, 1, ' ', 'N', ' ', 65535, ' ', '1', '', 'localhost.localdomain', '93000-SOC', 'cp_32', '', '', 'vincent', '93000', 's/w rev. 7.1.4.3 (E), 15-Oct-12\\n', '', '25.25', '', '', '', '', '', '', '', '', '', '', '', '', '', '', '', '', '', ''])\n",
      "(<pystdf.V4.Sdr object at 0x7ff75f6ceb50>, [1, 2, 1, [1], '', '', '', '', '', '', '', '', '', '', '', '', '', '', '', ''])\n",
      "(<pystdf.V4.Pmr object at 0x7ff75f6e5d30>, [1, 1, 'Xin', '10101', '1', 1, 1])\n",
      "(<pystdf.V4.Pmr object at 0x7ff75f6e5d30>, [2, 2, 'Xout', '10102', '2', 1, 1])\n",
      "(<pystdf.V4.Pmr object at 0x7ff75f6e5d30>, [3, 0, 'VCC', '11', '', 1, 1])\n",
      "(<pystdf.V4.Wcr object at 0x7ff75f616940>, [0.0, 0.0, 0.0, 0, ' ', -32768, -32768, ' ', ' '])\n",
      "(<pystdf.V4.Wir object at 0x7ff75f62bd30>, [1, 2, 1476351224, ''])\n",
      "(<pystdf.V4.Pir object at 0x7ff75f6b1a60>, [1, 1])\n",
      "(<pystdf.V4.Pmr object at 0x7ff75f6e5d30>, [1, 1, 'Xin', '10101', '1', 1, 1])\n",
      "(<pystdf.V4.Pmr object at 0x7ff75f6e5d30>, [2, 2, 'Xout', '10102', '2', 1, 1])\n",
      "(<pystdf.V4.Pmr object at 0x7ff75f6e5d30>, [3, 0, 'VCC', '11', '', 1, 1])\n",
      "(<pystdf.V4.Prr object at 0x7ff75f60a4f0>, [1, 1, 0, 0, 1, 1, -5, -4, 515, '1', '0.000', []])\n",
      "(<pystdf.V4.Pir object at 0x7ff75f6b1a60>, [1, 1])\n",
      "(<pystdf.V4.Prr object at 0x7ff75f60a4f0>, [1, 1, 0, 0, 1, 1, -1, -4, 1, '2', '1.750', []])\n",
      "(<pystdf.V4.Pir object at 0x7ff75f6b1a60>, [1, 1])\n",
      "(<pystdf.V4.Prr object at 0x7ff75f60a4f0>, [1, 1, 0, 0, 1, 1, 4, -4, 1, '3', '2.201', []])\n",
      "(<pystdf.V4.Pir object at 0x7ff75f6b1a60>, [1, 1])\n",
      "(<pystdf.V4.Prr object at 0x7ff75f60a4f0>, [1, 1, 0, 0, 1, 1, 6, -4, 1, '4', '2.803', []])\n",
      "(<pystdf.V4.Pir object at 0x7ff75f6b1a60>, [1, 1])\n",
      "(<pystdf.V4.Prr object at 0x7ff75f60a4f0>, [1, 1, 0, 0, 1, 1, 7, -4, 1, '5', '2.547', []])\n",
      "(<pystdf.V4.Pir object at 0x7ff75f6b1a60>, [1, 1])\n",
      "(<pystdf.V4.Prr object at 0x7ff75f60a4f0>, [1, 1, 0, 0, 1, 1, -7, -3, 1, '6', '2.702', []])\n",
      "(<pystdf.V4.Pir object at 0x7ff75f6b1a60>, [1, 1])\n",
      "(<pystdf.V4.Prr object at 0x7ff75f60a4f0>, [1, 1, 0, 0, 1, 1, -3, -3, 1, '7', '2.700', []])\n",
      "(<pystdf.V4.Pir object at 0x7ff75f6b1a60>, [1, 1])\n",
      "(<pystdf.V4.Prr object at 0x7ff75f60a4f0>, [1, 1, 0, 0, 1, 1, -2, -3, 1, '8', '2.101', []])\n",
      "(<pystdf.V4.Pir object at 0x7ff75f6b1a60>, [1, 1])\n",
      "(<pystdf.V4.Prr object at 0x7ff75f60a4f0>, [1, 1, 0, 0, 1, 1, 3, -3, 1, '9', '2.600', []])\n",
      "(<pystdf.V4.Pir object at 0x7ff75f6b1a60>, [1, 1])\n",
      "(<pystdf.V4.Prr object at 0x7ff75f60a4f0>, [1, 1, 0, 0, 1, 1, 4, -3, 1, '10', '2.765', []])\n",
      "(<pystdf.V4.Pir object at 0x7ff75f6b1a60>, [1, 1])\n",
      "(<pystdf.V4.Prr object at 0x7ff75f60a4f0>, [1, 1, 0, 0, 1, 1, 6, -3, 1, '11', '2.704', []])\n",
      "(<pystdf.V4.Pir object at 0x7ff75f6b1a60>, [1, 1])\n",
      "(<pystdf.V4.Prr object at 0x7ff75f60a4f0>, [1, 1, 0, 0, 1, 1, -6, 0, 1, '12', '2.802', []])\n",
      "(<pystdf.V4.Pir object at 0x7ff75f6b1a60>, [1, 1])\n",
      "(<pystdf.V4.Prr object at 0x7ff75f60a4f0>, [1, 1, 0, 0, 1, 1, -4, 0, 1, '13', '2.304', []])\n",
      "(<pystdf.V4.Wrr object at 0x7ff75f6b7490>, [1, 2, 1476351281, 13, 0, 4294967295, 13, 4294967295, '', '', '', '', '', ''])\n",
      "(<pystdf.V4.Hbr object at 0x7ff75f770d30>, [1, 1, 1, 13, 'P', 'PASS'])\n",
      "(<pystdf.V4.Hbr object at 0x7ff75f770d30>, [255, 0, 1, 13, 'P', 'PASS'])\n",
      "(<pystdf.V4.Sbr object at 0x7ff75f7703a0>, [1, 1, 1, 13, 'P', 'PASS'])\n",
      "(<pystdf.V4.Sbr object at 0x7ff75f7703a0>, [255, 0, 1, 13, 'P', 'PASS'])\n",
      "(<pystdf.V4.Pcr object at 0x7ff75f5a1b80>, [1, 1, 13, 0, 4294967295, 13, 4294967295])\n",
      "(<pystdf.V4.Pcr object at 0x7ff75f5a1b80>, [255, 0, 13, 0, 4294967295, 13, 4294967295])\n",
      "(<pystdf.V4.Mrr object at 0x7ff75f5a1730>, [1476351281, ' ', '', ''])\n"
     ]
    }
   ],
   "source": [
    "#read and parsing\n",
    "with open(fname,'rb') as fin:\n",
    "    p = Parser(inp=fin)\n",
    "    storage = MemoryWriter()\n",
    "    p.addSink(storage)\n",
    "    p.parse()\n",
    "    for line in storage.data:\n",
    "        print(line)"
   ]
  },
  {
   "cell_type": "code",
   "execution_count": 79,
   "id": "ca775e6d",
   "metadata": {},
   "outputs": [
    {
     "name": "stdout",
     "output_type": "stream",
     "text": [
      "<pystdf.V4.Prr object at 0x7ff75f60a4f0>\n",
      "<pystdf.V4.Prr object at 0x7ff75f60a4f0>\n",
      "<pystdf.V4.Prr object at 0x7ff75f60a4f0>\n",
      "<pystdf.V4.Prr object at 0x7ff75f60a4f0>\n",
      "<pystdf.V4.Prr object at 0x7ff75f60a4f0>\n",
      "<pystdf.V4.Prr object at 0x7ff75f60a4f0>\n",
      "<pystdf.V4.Prr object at 0x7ff75f60a4f0>\n",
      "<pystdf.V4.Prr object at 0x7ff75f60a4f0>\n",
      "<pystdf.V4.Prr object at 0x7ff75f60a4f0>\n",
      "<pystdf.V4.Prr object at 0x7ff75f60a4f0>\n",
      "<pystdf.V4.Prr object at 0x7ff75f60a4f0>\n",
      "<pystdf.V4.Prr object at 0x7ff75f60a4f0>\n",
      "<pystdf.V4.Prr object at 0x7ff75f60a4f0>\n"
     ]
    }
   ],
   "source": [
    "#to dataframe\n",
    "data = ImportSTDF(fname)\n",
    "for datum in data:\n",
    "    if datum[0].__class__.__name__.upper()=='PRR':\n",
    "        print(datum[0])"
   ]
  },
  {
   "cell_type": "code",
   "execution_count": 80,
   "id": "9d2df40b",
   "metadata": {},
   "outputs": [
    {
     "name": "stdout",
     "output_type": "stream",
     "text": [
      "(('HEAD_NUM', 'U1'), ('SITE_NUM', 'U1'), ('PART_FLG', 'B1'), ('NUM_TEST', 'U2'), ('HARD_BIN', 'U2'), ('SOFT_BIN', 'U2'), ('X_COORD', 'I2'), ('Y_COORD', 'I2'), ('TEST_T', 'U4'), ('PART_ID', 'Cn'), ('PART_TXT', 'Cn'), ('PART_FIX', 'Bn')) \n",
      "\n",
      "(('HEAD_NUM', 'U1'), ('SITE_NUM', 'U1'), ('PART_FLG', 'B1'), ('NUM_TEST', 'U2'), ('HARD_BIN', 'U2'), ('SOFT_BIN', 'U2'), ('X_COORD', 'I2'), ('Y_COORD', 'I2'), ('TEST_T', 'U4'), ('PART_ID', 'Cn'), ('PART_TXT', 'Cn'), ('PART_FIX', 'Bn')) \n",
      "\n",
      "(('HEAD_NUM', 'U1'), ('SITE_NUM', 'U1'), ('PART_FLG', 'B1'), ('NUM_TEST', 'U2'), ('HARD_BIN', 'U2'), ('SOFT_BIN', 'U2'), ('X_COORD', 'I2'), ('Y_COORD', 'I2'), ('TEST_T', 'U4'), ('PART_ID', 'Cn'), ('PART_TXT', 'Cn'), ('PART_FIX', 'Bn')) \n",
      "\n",
      "(('HEAD_NUM', 'U1'), ('SITE_NUM', 'U1'), ('PART_FLG', 'B1'), ('NUM_TEST', 'U2'), ('HARD_BIN', 'U2'), ('SOFT_BIN', 'U2'), ('X_COORD', 'I2'), ('Y_COORD', 'I2'), ('TEST_T', 'U4'), ('PART_ID', 'Cn'), ('PART_TXT', 'Cn'), ('PART_FIX', 'Bn')) \n",
      "\n",
      "(('HEAD_NUM', 'U1'), ('SITE_NUM', 'U1'), ('PART_FLG', 'B1'), ('NUM_TEST', 'U2'), ('HARD_BIN', 'U2'), ('SOFT_BIN', 'U2'), ('X_COORD', 'I2'), ('Y_COORD', 'I2'), ('TEST_T', 'U4'), ('PART_ID', 'Cn'), ('PART_TXT', 'Cn'), ('PART_FIX', 'Bn')) \n",
      "\n",
      "(('HEAD_NUM', 'U1'), ('SITE_NUM', 'U1'), ('PART_FLG', 'B1'), ('NUM_TEST', 'U2'), ('HARD_BIN', 'U2'), ('SOFT_BIN', 'U2'), ('X_COORD', 'I2'), ('Y_COORD', 'I2'), ('TEST_T', 'U4'), ('PART_ID', 'Cn'), ('PART_TXT', 'Cn'), ('PART_FIX', 'Bn')) \n",
      "\n",
      "(('HEAD_NUM', 'U1'), ('SITE_NUM', 'U1'), ('PART_FLG', 'B1'), ('NUM_TEST', 'U2'), ('HARD_BIN', 'U2'), ('SOFT_BIN', 'U2'), ('X_COORD', 'I2'), ('Y_COORD', 'I2'), ('TEST_T', 'U4'), ('PART_ID', 'Cn'), ('PART_TXT', 'Cn'), ('PART_FIX', 'Bn')) \n",
      "\n",
      "(('HEAD_NUM', 'U1'), ('SITE_NUM', 'U1'), ('PART_FLG', 'B1'), ('NUM_TEST', 'U2'), ('HARD_BIN', 'U2'), ('SOFT_BIN', 'U2'), ('X_COORD', 'I2'), ('Y_COORD', 'I2'), ('TEST_T', 'U4'), ('PART_ID', 'Cn'), ('PART_TXT', 'Cn'), ('PART_FIX', 'Bn')) \n",
      "\n",
      "(('HEAD_NUM', 'U1'), ('SITE_NUM', 'U1'), ('PART_FLG', 'B1'), ('NUM_TEST', 'U2'), ('HARD_BIN', 'U2'), ('SOFT_BIN', 'U2'), ('X_COORD', 'I2'), ('Y_COORD', 'I2'), ('TEST_T', 'U4'), ('PART_ID', 'Cn'), ('PART_TXT', 'Cn'), ('PART_FIX', 'Bn')) \n",
      "\n",
      "(('HEAD_NUM', 'U1'), ('SITE_NUM', 'U1'), ('PART_FLG', 'B1'), ('NUM_TEST', 'U2'), ('HARD_BIN', 'U2'), ('SOFT_BIN', 'U2'), ('X_COORD', 'I2'), ('Y_COORD', 'I2'), ('TEST_T', 'U4'), ('PART_ID', 'Cn'), ('PART_TXT', 'Cn'), ('PART_FIX', 'Bn')) \n",
      "\n",
      "(('HEAD_NUM', 'U1'), ('SITE_NUM', 'U1'), ('PART_FLG', 'B1'), ('NUM_TEST', 'U2'), ('HARD_BIN', 'U2'), ('SOFT_BIN', 'U2'), ('X_COORD', 'I2'), ('Y_COORD', 'I2'), ('TEST_T', 'U4'), ('PART_ID', 'Cn'), ('PART_TXT', 'Cn'), ('PART_FIX', 'Bn')) \n",
      "\n",
      "(('HEAD_NUM', 'U1'), ('SITE_NUM', 'U1'), ('PART_FLG', 'B1'), ('NUM_TEST', 'U2'), ('HARD_BIN', 'U2'), ('SOFT_BIN', 'U2'), ('X_COORD', 'I2'), ('Y_COORD', 'I2'), ('TEST_T', 'U4'), ('PART_ID', 'Cn'), ('PART_TXT', 'Cn'), ('PART_FIX', 'Bn')) \n",
      "\n",
      "(('HEAD_NUM', 'U1'), ('SITE_NUM', 'U1'), ('PART_FLG', 'B1'), ('NUM_TEST', 'U2'), ('HARD_BIN', 'U2'), ('SOFT_BIN', 'U2'), ('X_COORD', 'I2'), ('Y_COORD', 'I2'), ('TEST_T', 'U4'), ('PART_ID', 'Cn'), ('PART_TXT', 'Cn'), ('PART_FIX', 'Bn')) \n",
      "\n"
     ]
    }
   ],
   "source": [
    "#to dataframe\n",
    "data = ImportSTDF(fname)\n",
    "for datum in data:\n",
    "    if datum[0].__class__.__name__.upper()=='PRR':\n",
    "        print(datum[0].fieldMap,\"\\n\")"
   ]
  },
  {
   "cell_type": "code",
   "execution_count": null,
   "id": "653bc215",
   "metadata": {},
   "outputs": [],
   "source": []
  }
 ],
 "metadata": {
  "kernelspec": {
   "display_name": "Python 3 (ipykernel)",
   "language": "python",
   "name": "python3"
  },
  "language_info": {
   "codemirror_mode": {
    "name": "ipython",
    "version": 3
   },
   "file_extension": ".py",
   "mimetype": "text/x-python",
   "name": "python",
   "nbconvert_exporter": "python",
   "pygments_lexer": "ipython3",
   "version": "3.8.8"
  }
 },
 "nbformat": 4,
 "nbformat_minor": 5
}
