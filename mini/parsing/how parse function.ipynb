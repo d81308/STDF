{
 "cells": [
  {
   "cell_type": "code",
   "execution_count": 1,
   "id": "79320a94",
   "metadata": {},
   "outputs": [],
   "source": [
    "import os\n",
    "import pandas as pd\n",
    "from io import StringIO\n",
    "import pystdf.V4 as v4\n",
    "from pystdf.IO import Parser\n",
    "from pystdf.Writers import TextWriter"
   ]
  },
  {
   "cell_type": "code",
   "execution_count": 2,
   "id": "73720c55",
   "metadata": {},
   "outputs": [],
   "source": [
    "fname=\"/Users/jianlin/Documents/Project_STDF_wafermap/main_Lot_1_Wafer_1_Oct_13_09h33m41s_STDF\""
   ]
  },
  {
   "cell_type": "code",
   "execution_count": 3,
   "id": "ae32e6ba",
   "metadata": {},
   "outputs": [],
   "source": [
    "p = Parser(inp=open(fname, 'rb'))"
   ]
  },
  {
   "cell_type": "code",
   "execution_count": 4,
   "id": "77a5967a",
   "metadata": {},
   "outputs": [],
   "source": [
    "captured_std_out = StringIO()"
   ]
  },
  {
   "cell_type": "code",
   "execution_count": 5,
   "id": "90a5fc7b",
   "metadata": {},
   "outputs": [],
   "source": [
    "p.addSink(captured_std_out)"
   ]
  },
  {
   "cell_type": "code",
   "execution_count": 6,
   "id": "617e8ac1",
   "metadata": {},
   "outputs": [],
   "source": [
    "p.parse()"
   ]
  },
  {
   "cell_type": "code",
   "execution_count": 7,
   "id": "1c7819f1",
   "metadata": {},
   "outputs": [],
   "source": [
    "atdf = captured_std_out.getvalue()\n",
    "for line in atdf:\n",
    "    print(line)"
   ]
  },
  {
   "cell_type": "code",
   "execution_count": null,
   "id": "2af4d5ab",
   "metadata": {},
   "outputs": [],
   "source": []
  }
 ],
 "metadata": {
  "kernelspec": {
   "display_name": "Python 3 (ipykernel)",
   "language": "python",
   "name": "python3"
  },
  "language_info": {
   "codemirror_mode": {
    "name": "ipython",
    "version": 3
   },
   "file_extension": ".py",
   "mimetype": "text/x-python",
   "name": "python",
   "nbconvert_exporter": "python",
   "pygments_lexer": "ipython3",
   "version": "3.8.8"
  }
 },
 "nbformat": 4,
 "nbformat_minor": 5
}
