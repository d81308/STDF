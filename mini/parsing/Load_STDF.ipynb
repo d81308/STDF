{
 "cells": [
  {
   "cell_type": "code",
   "execution_count": 10,
   "id": "8d65692d",
   "metadata": {},
   "outputs": [],
   "source": [
    "import pandas as pd\n",
    "import binascii"
   ]
  },
  {
   "cell_type": "code",
   "execution_count": 62,
   "id": "067e8793",
   "metadata": {},
   "outputs": [],
   "source": [
    "fname=\"/Users/jianlin/Documents/Project_STDF_wafermap/STDF_data/main_Lot_1_Wafer_1_Oct_13_09h33m41s_STDF.stdf\""
   ]
  },
  {
   "cell_type": "code",
   "execution_count": 20,
   "id": "8196301e",
   "metadata": {},
   "outputs": [
    {
     "name": "stdout",
     "output_type": "stream",
     "text": [
      "b'\\x02\\x00\\x00\\n' \n",
      "\n",
      "b'\\x02\\x04y\\x00\\x00\\x14\\xf8T\\xffWtdataformatter tester config; Ver: SmarTest s/w rev. 7.1.4.3 (E), 15-Oct-12; dataformatter 2.0.9 Oct 15 2012 18:37:15\\x82\\x00\\x01\\n' \n",
      "\n",
      "b'\\xeaT\\xffW\\xf8T\\xffW\\x01 N \\xff\\xff \\x011\\x00\\x15localhost.localdomain\\t93000-SOC\\x05cp_32\\x00\\x00\\x07vincent\\x0593000 s/w rev. 7.1.4.3 (E), 15-Oct-12\\n' \n",
      "\n",
      "b'\\x00\\x0525.25\\x00\\x00\\x00\\x00\\x00\\x00\\x00\\x00\\x00\\x00\\x00\\x00\\x00\\x00\\x00\\x00\\x00\\x00\\x14\\x00\\x01P\\x01\\x02\\x01\\x01\\x00\\x00\\x00\\x00\\x00\\x00\\x00\\x00\\x00\\x00\\x00\\x00\\x00\\x00\\x00\\x00\\x12\\x00\\x01<\\x01\\x00\\x01\\x00\\x03Xin\\x0510101\\x011\\x01\\x01\\x13\\x00\\x01<\\x02\\x00\\x02\\x00\\x04Xout\\x0510102\\x012\\x01\\x01\\x0e\\x00\\x01<\\x03\\x00\\x00\\x00\\x03VCC\\x0211\\x00\\x01\\x01\\x14\\x00\\x02\\x1e\\x00\\x00\\x00\\x00\\x00\\x00\\x00\\x00\\x00\\x00\\x00\\x00\\x00 \\x00\\x80\\x00\\x80  \\x07\\x00\\x02\\n' \n",
      "\n",
      "b'\\x01\\x02\\xf8T\\xffW\\x00\\x02\\x00\\x05\\n' \n",
      "\n",
      "b'\\x01\\x01\\x12\\x00\\x01<\\x01\\x00\\x01\\x00\\x03Xin\\x0510101\\x011\\x01\\x01\\x13\\x00\\x01<\\x02\\x00\\x02\\x00\\x04Xout\\x0510102\\x012\\x01\\x01\\x0e\\x00\\x01<\\x03\\x00\\x00\\x00\\x03VCC\\x0211\\x00\\x01\\x01\\x1a\\x00\\x05\\x14\\x01\\x01\\x00\\x00\\x00\\x01\\x00\\x01\\x00\\xfb\\xff\\xfc\\xff\\x03\\x02\\x00\\x00\\x011\\x050.000\\x00\\x02\\x00\\x05\\n' \n",
      "\n",
      "b'\\x01\\x01\\x1a\\x00\\x05\\x14\\x01\\x01\\x00\\x00\\x00\\x01\\x00\\x01\\x00\\xff\\xff\\xfc\\xff\\x01\\x00\\x00\\x00\\x012\\x051.750\\x00\\x02\\x00\\x05\\n' \n",
      "\n",
      "b'\\x01\\x01\\x1a\\x00\\x05\\x14\\x01\\x01\\x00\\x00\\x00\\x01\\x00\\x01\\x00\\x04\\x00\\xfc\\xff\\x01\\x00\\x00\\x00\\x013\\x052.201\\x00\\x02\\x00\\x05\\n' \n",
      "\n",
      "b'\\x01\\x01\\x1a\\x00\\x05\\x14\\x01\\x01\\x00\\x00\\x00\\x01\\x00\\x01\\x00\\x06\\x00\\xfc\\xff\\x01\\x00\\x00\\x00\\x014\\x052.803\\x00\\x02\\x00\\x05\\n' \n",
      "\n",
      "b'\\x01\\x01\\x1a\\x00\\x05\\x14\\x01\\x01\\x00\\x00\\x00\\x01\\x00\\x01\\x00\\x07\\x00\\xfc\\xff\\x01\\x00\\x00\\x00\\x015\\x052.547\\x00\\x02\\x00\\x05\\n' \n",
      "\n",
      "b'\\x01\\x01\\x1a\\x00\\x05\\x14\\x01\\x01\\x00\\x00\\x00\\x01\\x00\\x01\\x00\\xf9\\xff\\xfd\\xff\\x01\\x00\\x00\\x00\\x016\\x052.702\\x00\\x02\\x00\\x05\\n' \n",
      "\n",
      "b'\\x01\\x01\\x1a\\x00\\x05\\x14\\x01\\x01\\x00\\x00\\x00\\x01\\x00\\x01\\x00\\xfd\\xff\\xfd\\xff\\x01\\x00\\x00\\x00\\x017\\x052.700\\x00\\x02\\x00\\x05\\n' \n",
      "\n",
      "b'\\x01\\x01\\x1a\\x00\\x05\\x14\\x01\\x01\\x00\\x00\\x00\\x01\\x00\\x01\\x00\\xfe\\xff\\xfd\\xff\\x01\\x00\\x00\\x00\\x018\\x052.101\\x00\\x02\\x00\\x05\\n' \n",
      "\n",
      "b'\\x01\\x01\\x1a\\x00\\x05\\x14\\x01\\x01\\x00\\x00\\x00\\x01\\x00\\x01\\x00\\x03\\x00\\xfd\\xff\\x01\\x00\\x00\\x00\\x019\\x052.600\\x00\\x02\\x00\\x05\\n' \n",
      "\n",
      "b'\\x01\\x01\\x1b\\x00\\x05\\x14\\x01\\x01\\x00\\x00\\x00\\x01\\x00\\x01\\x00\\x04\\x00\\xfd\\xff\\x01\\x00\\x00\\x00\\x0210\\x052.765\\x00\\x02\\x00\\x05\\n' \n",
      "\n",
      "b'\\x01\\x01\\x1b\\x00\\x05\\x14\\x01\\x01\\x00\\x00\\x00\\x01\\x00\\x01\\x00\\x06\\x00\\xfd\\xff\\x01\\x00\\x00\\x00\\x0211\\x052.704\\x00\\x02\\x00\\x05\\n' \n",
      "\n",
      "b'\\x01\\x01\\x1b\\x00\\x05\\x14\\x01\\x01\\x00\\x00\\x00\\x01\\x00\\x01\\x00\\xfa\\xff\\x00\\x00\\x01\\x00\\x00\\x00\\x0212\\x052.802\\x00\\x02\\x00\\x05\\n' \n",
      "\n",
      "b'\\x01\\x01\\x1b\\x00\\x05\\x14\\x01\\x01\\x00\\x00\\x00\\x01\\x00\\x01\\x00\\xfc\\xff\\x00\\x00\\x01\\x00\\x00\\x00\\x0213\\x052.304\\x00 \\x00\\x02\\x14\\x01\\x021U\\xffW\\r\\x00\\x00\\x00\\x00\\x00\\x00\\x00\\xff\\xff\\xff\\xff\\r\\x00\\x00\\x00\\xff\\xff\\xff\\xff\\x00\\x00\\x00\\x00\\x00\\x00\\x0e\\x00\\x01(\\x01\\x01\\x01\\x00\\r\\x00\\x00\\x00P\\x04PASS\\x0e\\x00\\x01(\\xff\\x00\\x01\\x00\\r\\x00\\x00\\x00P\\x04PASS\\x0e\\x00\\x012\\x01\\x01\\x01\\x00\\r\\x00\\x00\\x00P\\x04PASS\\x0e\\x00\\x012\\xff\\x00\\x01\\x00\\r\\x00\\x00\\x00P\\x04PASS\\x16\\x00\\x01\\x1e\\x01\\x01\\r\\x00\\x00\\x00\\x00\\x00\\x00\\x00\\xff\\xff\\xff\\xff\\r\\x00\\x00\\x00\\xff\\xff\\xff\\xff\\x16\\x00\\x01\\x1e\\xff\\x00\\r\\x00\\x00\\x00\\x00\\x00\\x00\\x00\\xff\\xff\\xff\\xff\\r\\x00\\x00\\x00\\xff\\xff\\xff\\xff\\x07\\x00\\x01\\x141U\\xffW \\x00\\x00' \n",
      "\n"
     ]
    }
   ],
   "source": [
    "with open(fname,mode='rb') as file:\n",
    "    for line in file:\n",
    "        print(line,'\\n')\n",
    "        #base64_string = binascii.b2a_base64(line)\n",
    "        #print(base64_string)"
   ]
  },
  {
   "cell_type": "code",
   "execution_count": 22,
   "id": "78a89598",
   "metadata": {},
   "outputs": [
    {
     "data": {
      "text/plain": [
       "b'\\x02\\x00\\x00\\n\\x02\\x04y\\x00\\x00\\x14\\xf8T\\xffWtdataformatter tester config; Ver: SmarTest s/w rev. 7.1.4.3 (E), 15-Oct-12; dataformatter 2.0.9 Oct 15 2012 18:37:15\\x82\\x00\\x01\\n\\xeaT\\xffW\\xf8T\\xffW\\x01 N \\xff\\xff \\x011\\x00\\x15localhost.localdomain\\t93000-SOC\\x05cp_32\\x00\\x00\\x07vincent\\x0593000 s/w rev. 7.1.4.3 (E), 15-Oct-12\\n\\x00\\x0525.25\\x00\\x00\\x00\\x00\\x00\\x00\\x00\\x00\\x00\\x00\\x00\\x00\\x00\\x00\\x00\\x00\\x00\\x00\\x14\\x00\\x01P\\x01\\x02\\x01\\x01\\x00\\x00\\x00\\x00\\x00\\x00\\x00\\x00\\x00\\x00\\x00\\x00\\x00\\x00\\x00\\x00\\x12\\x00\\x01<\\x01\\x00\\x01\\x00\\x03Xin\\x0510101\\x011\\x01\\x01\\x13\\x00\\x01<\\x02\\x00\\x02\\x00\\x04Xout\\x0510102\\x012\\x01\\x01\\x0e\\x00\\x01<\\x03\\x00\\x00\\x00\\x03VCC\\x0211\\x00\\x01\\x01\\x14\\x00\\x02\\x1e\\x00\\x00\\x00\\x00\\x00\\x00\\x00\\x00\\x00\\x00\\x00\\x00\\x00 \\x00\\x80\\x00\\x80  \\x07\\x00\\x02\\n\\x01\\x02\\xf8T\\xffW\\x00\\x02\\x00\\x05\\n\\x01\\x01\\x12\\x00\\x01<\\x01\\x00\\x01\\x00\\x03Xin\\x0510101\\x011\\x01\\x01\\x13\\x00\\x01<\\x02\\x00\\x02\\x00\\x04Xout\\x0510102\\x012\\x01\\x01\\x0e\\x00\\x01<\\x03\\x00\\x00\\x00\\x03VCC\\x0211\\x00\\x01\\x01\\x1a\\x00\\x05\\x14\\x01\\x01\\x00\\x00\\x00\\x01\\x00\\x01\\x00\\xfb\\xff\\xfc\\xff\\x03\\x02\\x00\\x00\\x011\\x050.000\\x00\\x02\\x00\\x05\\n\\x01\\x01\\x1a\\x00\\x05\\x14\\x01\\x01\\x00\\x00\\x00\\x01\\x00\\x01\\x00\\xff\\xff\\xfc\\xff\\x01\\x00\\x00\\x00\\x012\\x051.750\\x00\\x02\\x00\\x05\\n\\x01\\x01\\x1a\\x00\\x05\\x14\\x01\\x01\\x00\\x00\\x00\\x01\\x00\\x01\\x00\\x04\\x00\\xfc\\xff\\x01\\x00\\x00\\x00\\x013\\x052.201\\x00\\x02\\x00\\x05\\n\\x01\\x01\\x1a\\x00\\x05\\x14\\x01\\x01\\x00\\x00\\x00\\x01\\x00\\x01\\x00\\x06\\x00\\xfc\\xff\\x01\\x00\\x00\\x00\\x014\\x052.803\\x00\\x02\\x00\\x05\\n\\x01\\x01\\x1a\\x00\\x05\\x14\\x01\\x01\\x00\\x00\\x00\\x01\\x00\\x01\\x00\\x07\\x00\\xfc\\xff\\x01\\x00\\x00\\x00\\x015\\x052.547\\x00\\x02\\x00\\x05\\n\\x01\\x01\\x1a\\x00\\x05\\x14\\x01\\x01\\x00\\x00\\x00\\x01\\x00\\x01\\x00\\xf9\\xff\\xfd\\xff\\x01\\x00\\x00\\x00\\x016\\x052.702\\x00\\x02\\x00\\x05\\n\\x01\\x01\\x1a\\x00\\x05\\x14\\x01\\x01\\x00\\x00\\x00\\x01\\x00\\x01\\x00\\xfd\\xff\\xfd\\xff\\x01\\x00\\x00\\x00\\x017\\x052.700\\x00\\x02\\x00\\x05\\n\\x01\\x01\\x1a\\x00\\x05\\x14\\x01\\x01\\x00\\x00\\x00\\x01\\x00\\x01\\x00\\xfe\\xff\\xfd\\xff\\x01\\x00\\x00\\x00\\x018\\x052.101\\x00\\x02\\x00\\x05\\n\\x01\\x01\\x1a\\x00\\x05\\x14\\x01\\x01\\x00\\x00\\x00\\x01\\x00\\x01\\x00\\x03\\x00\\xfd\\xff\\x01\\x00\\x00\\x00\\x019\\x052.600\\x00\\x02\\x00\\x05\\n\\x01\\x01\\x1b\\x00\\x05\\x14\\x01\\x01\\x00\\x00\\x00\\x01\\x00\\x01\\x00\\x04\\x00\\xfd\\xff\\x01\\x00\\x00\\x00\\x0210\\x052.765\\x00\\x02\\x00\\x05\\n\\x01\\x01\\x1b\\x00\\x05\\x14\\x01\\x01\\x00\\x00\\x00\\x01\\x00\\x01\\x00\\x06\\x00\\xfd\\xff\\x01\\x00\\x00\\x00\\x0211\\x052.704\\x00\\x02\\x00\\x05\\n\\x01\\x01\\x1b\\x00\\x05\\x14\\x01\\x01\\x00\\x00\\x00\\x01\\x00\\x01\\x00\\xfa\\xff\\x00\\x00\\x01\\x00\\x00\\x00\\x0212\\x052.802\\x00\\x02\\x00\\x05\\n\\x01\\x01\\x1b\\x00\\x05\\x14\\x01\\x01\\x00\\x00\\x00\\x01\\x00\\x01\\x00\\xfc\\xff\\x00\\x00\\x01\\x00\\x00\\x00\\x0213\\x052.304\\x00 \\x00\\x02\\x14\\x01\\x021U\\xffW\\r\\x00\\x00\\x00\\x00\\x00\\x00\\x00\\xff\\xff\\xff\\xff\\r\\x00\\x00\\x00\\xff\\xff\\xff\\xff\\x00\\x00\\x00\\x00\\x00\\x00\\x0e\\x00\\x01(\\x01\\x01\\x01\\x00\\r\\x00\\x00\\x00P\\x04PASS\\x0e\\x00\\x01(\\xff\\x00\\x01\\x00\\r\\x00\\x00\\x00P\\x04PASS\\x0e\\x00\\x012\\x01\\x01\\x01\\x00\\r\\x00\\x00\\x00P\\x04PASS\\x0e\\x00\\x012\\xff\\x00\\x01\\x00\\r\\x00\\x00\\x00P\\x04PASS\\x16\\x00\\x01\\x1e\\x01\\x01\\r\\x00\\x00\\x00\\x00\\x00\\x00\\x00\\xff\\xff\\xff\\xff\\r\\x00\\x00\\x00\\xff\\xff\\xff\\xff\\x16\\x00\\x01\\x1e\\xff\\x00\\r\\x00\\x00\\x00\\x00\\x00\\x00\\x00\\xff\\xff\\xff\\xff\\r\\x00\\x00\\x00\\xff\\xff\\xff\\xff\\x07\\x00\\x01\\x141U\\xffW \\x00\\x00'"
      ]
     },
     "execution_count": 22,
     "metadata": {},
     "output_type": "execute_result"
    }
   ],
   "source": [
    "with open(fname,mode='rb') as file:\n",
    "    data = file.read()\n",
    "data"
   ]
  },
  {
   "cell_type": "code",
   "execution_count": 58,
   "id": "aee828e9",
   "metadata": {},
   "outputs": [
    {
     "name": "stdout",
     "output_type": "stream",
     "text": [
      "Record type: 2\n",
      "Record sub-type: 0\n",
      "Record length: 2560\n"
     ]
    }
   ],
   "source": [
    "import struct\n",
    "\n",
    "# 打開 binary 檔案\n",
    "with open(fname, \"rb\") as f:\n",
    "    # 讀取 binary 內容\n",
    "    data = f.read()\n",
    "    # 設定 struct 格式，根據 STDF 的規範\n",
    "    # 例如，第一個 byte 是 record type，第二個 byte 是 record sub-type，接下來是兩個 byte 的 record length，等等\n",
    "    fmt = \"bbH\"\n",
    "    # 使用 struct.unpack 從 binary 內容中解析出 record type, record sub-type, record length\n",
    "    record_type, record_sub_type, record_length = struct.unpack(fmt, data[:4])\n",
    "    # 根據 record type 和 record sub-type，判斷是否是 PRR record\n",
    "    # PRR record 的 record type 是 5，record sub-type 是 20\n",
    "    if record_type == 5 and record_sub_type == 20:\n",
    "        # 設定 PRR record 的 struct 格式，根據 STDF 的規範[^1^][1]\n",
    "        # 例如，接下來是一個 byte 的 TEST_NUM，一個 byte 的 HEAD_NUM，一個 byte 的 SITE_NUM，一個 byte 的 PART_FLG，等等\n",
    "        fmt = \"<B3sBBBBHHHfB\"\n",
    "        # 使用 struct.unpack 從 binary 內容中解析出 PRR record 的數據\n",
    "        test_num, part_id, head_num, site_num, part_flg, num_test, hard_bin, soft_bin, x_coord, y_coord, test_t, part_fix = struct.unpack(fmt, data[4:4+record_length])\n",
    "        # 使用 decode 方法將 part_id 轉換成 ASCII 字符串\n",
    "        part_id = part_id.decode(\"ascii\")\n",
    "        # 使用 bit-wise operation 判斷 part_flg 的各個 bit 的意義\n",
    "        # 例如，第 0 bit 表示 part_id 是否為空，第 1 bit 表示 x_coord 是否為空，等等\n",
    "        part_id_empty = part_flg & 0b00000001\n",
    "        x_coord_empty = part_flg & 0b00000010\n",
    "        y_coord_empty = part_flg & 0b00000100\n",
    "        # 其他 bit 的意義，可以參考 STDF 的規範[^1^][1]\n",
    "        # ...\n",
    "\n",
    "# 輸出解析後的數據\n",
    "print(\"Record type:\", record_type)\n",
    "print(\"Record sub-type:\", record_sub_type)\n",
    "print(\"Record length:\", record_length)\n",
    "# 如果是 PRR record，輸出 PRR record 的數據\n",
    "if record_type == 5 and record_sub_type == 20:\n",
    "    print(\"TEST_NUM:\", test_num)\n",
    "    print(\"PART_ID:\", part_id)\n",
    "    print(\"HEAD_NUM:\", head_num)\n",
    "    print(\"SITE_NUM:\", site_num)\n",
    "    print(\"PART_FLG:\", part_flg)\n",
    "    print(\"NUM_TEST:\", num_test)\n",
    "    print(\"HARD_BIN:\", hard_bin)\n",
    "    print(\"SOFT_BIN:\", soft_bin)\n",
    "    print(\"X_COORD:\", x_coord)\n",
    "    print(\"Y_COORD:\", y_coord)\n",
    "    print(\"TEST_T:\", test_t)\n",
    "    print(\"PART_FIX:\", part_fix)\n",
    "    print(\"PART_ID empty:\", part_id_empty)\n",
    "    print(\"X_COORD empty:\", x_coord_empty)\n",
    "    print(\"Y_COORD empty:\", y_coord_empty)\n",
    "    # 其他 bit 的意義，可以根據需要輸出\n",
    "    # ...\n"
   ]
  },
  {
   "cell_type": "markdown",
   "id": "4f2023e2",
   "metadata": {},
   "source": [
    "#### goal\n",
    "b'\\x02\\x00\\x00\\n' > FAR,2,4"
   ]
  },
  {
   "cell_type": "code",
   "execution_count": 70,
   "id": "e3124d91",
   "metadata": {},
   "outputs": [],
   "source": [
    "with open(fname, \"rb\") as f:\n",
    "    data = f.read()\n",
    "    fmt = \"HBB\"\n",
    "    record_length, record_type, record_sub_type = struct.unpack(fmt, data[:4])"
   ]
  },
  {
   "cell_type": "code",
   "execution_count": 72,
   "id": "bca732a2",
   "metadata": {},
   "outputs": [
    {
     "name": "stdout",
     "output_type": "stream",
     "text": [
      "0\n",
      "10\n"
     ]
    }
   ],
   "source": [
    "print(record_type)\n",
    "print(record_sub_type)"
   ]
  },
  {
   "cell_type": "markdown",
   "id": "b89daf06",
   "metadata": {},
   "source": [
    "not match to FAR (0,20)"
   ]
  },
  {
   "cell_type": "code",
   "execution_count": 81,
   "id": "3681287d",
   "metadata": {},
   "outputs": [
    {
     "ename": "error",
     "evalue": "unpack requires a buffer of 5 bytes",
     "output_type": "error",
     "traceback": [
      "\u001b[0;31m---------------------------------------------------------------------------\u001b[0m",
      "\u001b[0;31merror\u001b[0m                                     Traceback (most recent call last)",
      "Cell \u001b[0;32mIn[81], line 4\u001b[0m\n\u001b[1;32m      2\u001b[0m data \u001b[38;5;241m=\u001b[39m f\u001b[38;5;241m.\u001b[39mread()\n\u001b[1;32m      3\u001b[0m fmt \u001b[38;5;241m=\u001b[39m \u001b[38;5;124m\"\u001b[39m\u001b[38;5;124m<Ls\u001b[39m\u001b[38;5;124m\"\u001b[39m\n\u001b[0;32m----> 4\u001b[0m mod_time,cmd_line \u001b[38;5;241m=\u001b[39m \u001b[43mstruct\u001b[49m\u001b[38;5;241;43m.\u001b[39;49m\u001b[43munpack\u001b[49m\u001b[43m(\u001b[49m\u001b[43mfmt\u001b[49m\u001b[43m,\u001b[49m\u001b[43m \u001b[49m\u001b[43mdata\u001b[49m\u001b[43m[\u001b[49m\u001b[43m:\u001b[49m\u001b[38;5;241;43m4\u001b[39;49m\u001b[43m]\u001b[49m\u001b[43m)\u001b[49m\n",
      "\u001b[0;31merror\u001b[0m: unpack requires a buffer of 5 bytes"
     ]
    }
   ],
   "source": [
    "with open(fname, \"rb\") as f:\n",
    "    data = f.read()\n",
    "    fmt = \"<Ls\"\n",
    "    mod_time,cmd_line = struct.unpack(fmt, data[:4])"
   ]
  },
  {
   "cell_type": "code",
   "execution_count": null,
   "id": "94b9560f",
   "metadata": {},
   "outputs": [],
   "source": []
  }
 ],
 "metadata": {
  "kernelspec": {
   "display_name": "Python 3 (ipykernel)",
   "language": "python",
   "name": "python3"
  },
  "language_info": {
   "codemirror_mode": {
    "name": "ipython",
    "version": 3
   },
   "file_extension": ".py",
   "mimetype": "text/x-python",
   "name": "python",
   "nbconvert_exporter": "python",
   "pygments_lexer": "ipython3",
   "version": "3.8.8"
  }
 },
 "nbformat": 4,
 "nbformat_minor": 5
}
