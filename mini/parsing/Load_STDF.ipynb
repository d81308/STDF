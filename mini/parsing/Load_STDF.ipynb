{
 "cells": [
  {
   "cell_type": "code",
   "execution_count": 2,
   "id": "8d65692d",
   "metadata": {},
   "outputs": [],
   "source": [
    "import pandas as pd\n",
    "import binascii"
   ]
  },
  {
   "cell_type": "code",
   "execution_count": 3,
   "id": "067e8793",
   "metadata": {},
   "outputs": [],
   "source": [
    "fname=\"/Users/jianlin/Documents/Project_STDF_wafermap/STDF_data/main_Lot_1_Wafer_1_Oct_13_09h33m41s_STDF.stdf\""
   ]
  },
  {
   "cell_type": "code",
   "execution_count": 508,
   "id": "8196301e",
   "metadata": {},
   "outputs": [
    {
     "data": {
      "text/plain": [
       "\"b'\\\\x02\\\\x00\\\\x00\\\\n\\\\x02\\\\x04y\\\\x00\\\\x00\\\\x14\\\\xf8T\\\\xffWtdataformatter tester config; Ver: SmarTest s/w rev. 7.1.4.3 (E), 15-Oct-12; dataformatter 2.0.9 Oct 15 2012 18:37:15\\\\x82\\\\x00\\\\x01\\\\n\\\\xeaT\\\\xffW\\\\xf8T\\\\xffW\\\\x01 N \\\\xff\\\\xff \\\\x011\\\\x00\\\\x15localhost.localdomain\\\\t93000-SOC\\\\x05cp_32\\\\x00\\\\x00\\\\x07vincent\\\\x0593000 s/w rev. 7.1.4.3 (E), 15-Oct-12\\\\n\\\\x00\\\\x0525.25\\\\x00\\\\x00\\\\x00\\\\x00\\\\x00\\\\x00\\\\x00\\\\x00\\\\x00\\\\x00\\\\x00\\\\x00\\\\x00\\\\x00\\\\x00\\\\x00\\\\x00\\\\x00\\\\x14\\\\x00\\\\x01P\\\\x01\\\\x02\\\\x01\\\\x01\\\\x00\\\\x00\\\\x00\\\\x00\\\\x00\\\\x00\\\\x00\\\\x00\\\\x00\\\\x00\\\\x00\\\\x00\\\\x00\\\\x00\\\\x00\\\\x00\\\\x12\\\\x00\\\\x01<\\\\x01\\\\x00\\\\x01\\\\x00\\\\x03Xin\\\\x0510101\\\\x011\\\\x01\\\\x01\\\\x13\\\\x00\\\\x01<\\\\x02\\\\x00\\\\x02\\\\x00\\\\x04Xout\\\\x0510102\\\\x012\\\\x01\\\\x01\\\\x0e\\\\x00\\\\x01<\\\\x03\\\\x00\\\\x00\\\\x00\\\\x03VCC\\\\x0211\\\\x00\\\\x01\\\\x01\\\\x14\\\\x00\\\\x02\\\\x1e\\\\x00\\\\x00\\\\x00\\\\x00\\\\x00\\\\x00\\\\x00\\\\x00\\\\x00\\\\x00\\\\x00\\\\x00\\\\x00 \\\\x00\\\\x80\\\\x00\\\\x80  \\\\x07\\\\x00\\\\x02\\\\n\\\\x01\\\\x02\\\\xf8T\\\\xffW\\\\x00\\\\x02\\\\x00\\\\x05\\\\n\\\\x01\\\\x01\\\\x12\\\\x00\\\\x01<\\\\x01\\\\x00\\\\x01\\\\x00\\\\x03Xin\\\\x0510101\\\\x011\\\\x01\\\\x01\\\\x13\\\\x00\\\\x01<\\\\x02\\\\x00\\\\x02\\\\x00\\\\x04Xout\\\\x0510102\\\\x012\\\\x01\\\\x01\\\\x0e\\\\x00\\\\x01<\\\\x03\\\\x00\\\\x00\\\\x00\\\\x03VCC\\\\x0211\\\\x00\\\\x01\\\\x01\\\\x1a\\\\x00\\\\x05\\\\x14\\\\x01\\\\x01\\\\x00\\\\x00\\\\x00\\\\x01\\\\x00\\\\x01\\\\x00\\\\xfb\\\\xff\\\\xfc\\\\xff\\\\x03\\\\x02\\\\x00\\\\x00\\\\x011\\\\x050.000\\\\x00\\\\x02\\\\x00\\\\x05\\\\n\\\\x01\\\\x01\\\\x1a\\\\x00\\\\x05\\\\x14\\\\x01\\\\x01\\\\x00\\\\x00\\\\x00\\\\x01\\\\x00\\\\x01\\\\x00\\\\xff\\\\xff\\\\xfc\\\\xff\\\\x01\\\\x00\\\\x00\\\\x00\\\\x012\\\\x051.750\\\\x00\\\\x02\\\\x00\\\\x05\\\\n\\\\x01\\\\x01\\\\x1a\\\\x00\\\\x05\\\\x14\\\\x01\\\\x01\\\\x00\\\\x00\\\\x00\\\\x01\\\\x00\\\\x01\\\\x00\\\\x04\\\\x00\\\\xfc\\\\xff\\\\x01\\\\x00\\\\x00\\\\x00\\\\x013\\\\x052.201\\\\x00\\\\x02\\\\x00\\\\x05\\\\n\\\\x01\\\\x01\\\\x1a\\\\x00\\\\x05\\\\x14\\\\x01\\\\x01\\\\x00\\\\x00\\\\x00\\\\x01\\\\x00\\\\x01\\\\x00\\\\x06\\\\x00\\\\xfc\\\\xff\\\\x01\\\\x00\\\\x00\\\\x00\\\\x014\\\\x052.803\\\\x00\\\\x02\\\\x00\\\\x05\\\\n\\\\x01\\\\x01\\\\x1a\\\\x00\\\\x05\\\\x14\\\\x01\\\\x01\\\\x00\\\\x00\\\\x00\\\\x01\\\\x00\\\\x01\\\\x00\\\\x07\\\\x00\\\\xfc\\\\xff\\\\x01\\\\x00\\\\x00\\\\x00\\\\x015\\\\x052.547\\\\x00\\\\x02\\\\x00\\\\x05\\\\n\\\\x01\\\\x01\\\\x1a\\\\x00\\\\x05\\\\x14\\\\x01\\\\x01\\\\x00\\\\x00\\\\x00\\\\x01\\\\x00\\\\x01\\\\x00\\\\xf9\\\\xff\\\\xfd\\\\xff\\\\x01\\\\x00\\\\x00\\\\x00\\\\x016\\\\x052.702\\\\x00\\\\x02\\\\x00\\\\x05\\\\n\\\\x01\\\\x01\\\\x1a\\\\x00\\\\x05\\\\x14\\\\x01\\\\x01\\\\x00\\\\x00\\\\x00\\\\x01\\\\x00\\\\x01\\\\x00\\\\xfd\\\\xff\\\\xfd\\\\xff\\\\x01\\\\x00\\\\x00\\\\x00\\\\x017\\\\x052.700\\\\x00\\\\x02\\\\x00\\\\x05\\\\n\\\\x01\\\\x01\\\\x1a\\\\x00\\\\x05\\\\x14\\\\x01\\\\x01\\\\x00\\\\x00\\\\x00\\\\x01\\\\x00\\\\x01\\\\x00\\\\xfe\\\\xff\\\\xfd\\\\xff\\\\x01\\\\x00\\\\x00\\\\x00\\\\x018\\\\x052.101\\\\x00\\\\x02\\\\x00\\\\x05\\\\n\\\\x01\\\\x01\\\\x1a\\\\x00\\\\x05\\\\x14\\\\x01\\\\x01\\\\x00\\\\x00\\\\x00\\\\x01\\\\x00\\\\x01\\\\x00\\\\x03\\\\x00\\\\xfd\\\\xff\\\\x01\\\\x00\\\\x00\\\\x00\\\\x019\\\\x052.600\\\\x00\\\\x02\\\\x00\\\\x05\\\\n\\\\x01\\\\x01\\\\x1b\\\\x00\\\\x05\\\\x14\\\\x01\\\\x01\\\\x00\\\\x00\\\\x00\\\\x01\\\\x00\\\\x01\\\\x00\\\\x04\\\\x00\\\\xfd\\\\xff\\\\x01\\\\x00\\\\x00\\\\x00\\\\x0210\\\\x052.765\\\\x00\\\\x02\\\\x00\\\\x05\\\\n\\\\x01\\\\x01\\\\x1b\\\\x00\\\\x05\\\\x14\\\\x01\\\\x01\\\\x00\\\\x00\\\\x00\\\\x01\\\\x00\\\\x01\\\\x00\\\\x06\\\\x00\\\\xfd\\\\xff\\\\x01\\\\x00\\\\x00\\\\x00\\\\x0211\\\\x052.704\\\\x00\\\\x02\\\\x00\\\\x05\\\\n\\\\x01\\\\x01\\\\x1b\\\\x00\\\\x05\\\\x14\\\\x01\\\\x01\\\\x00\\\\x00\\\\x00\\\\x01\\\\x00\\\\x01\\\\x00\\\\xfa\\\\xff\\\\x00\\\\x00\\\\x01\\\\x00\\\\x00\\\\x00\\\\x0212\\\\x052.802\\\\x00\\\\x02\\\\x00\\\\x05\\\\n\\\\x01\\\\x01\\\\x1b\\\\x00\\\\x05\\\\x14\\\\x01\\\\x01\\\\x00\\\\x00\\\\x00\\\\x01\\\\x00\\\\x01\\\\x00\\\\xfc\\\\xff\\\\x00\\\\x00\\\\x01\\\\x00\\\\x00\\\\x00\\\\x0213\\\\x052.304\\\\x00 \\\\x00\\\\x02\\\\x14\\\\x01\\\\x021U\\\\xffW\\\\r\\\\x00\\\\x00\\\\x00\\\\x00\\\\x00\\\\x00\\\\x00\\\\xff\\\\xff\\\\xff\\\\xff\\\\r\\\\x00\\\\x00\\\\x00\\\\xff\\\\xff\\\\xff\\\\xff\\\\x00\\\\x00\\\\x00\\\\x00\\\\x00\\\\x00\\\\x0e\\\\x00\\\\x01(\\\\x01\\\\x01\\\\x01\\\\x00\\\\r\\\\x00\\\\x00\\\\x00P\\\\x04PASS\\\\x0e\\\\x00\\\\x01(\\\\xff\\\\x00\\\\x01\\\\x00\\\\r\\\\x00\\\\x00\\\\x00P\\\\x04PASS\\\\x0e\\\\x00\\\\x012\\\\x01\\\\x01\\\\x01\\\\x00\\\\r\\\\x00\\\\x00\\\\x00P\\\\x04PASS\\\\x0e\\\\x00\\\\x012\\\\xff\\\\x00\\\\x01\\\\x00\\\\r\\\\x00\\\\x00\\\\x00P\\\\x04PASS\\\\x16\\\\x00\\\\x01\\\\x1e\\\\x01\\\\x01\\\\r\\\\x00\\\\x00\\\\x00\\\\x00\\\\x00\\\\x00\\\\x00\\\\xff\\\\xff\\\\xff\\\\xff\\\\r\\\\x00\\\\x00\\\\x00\\\\xff\\\\xff\\\\xff\\\\xff\\\\x16\\\\x00\\\\x01\\\\x1e\\\\xff\\\\x00\\\\r\\\\x00\\\\x00\\\\x00\\\\x00\\\\x00\\\\x00\\\\x00\\\\xff\\\\xff\\\\xff\\\\xff\\\\r\\\\x00\\\\x00\\\\x00\\\\xff\\\\xff\\\\xff\\\\xff\\\\x07\\\\x00\\\\x01\\\\x141U\\\\xffW \\\\x00\\\\x00'\""
      ]
     },
     "execution_count": 508,
     "metadata": {},
     "output_type": "execute_result"
    }
   ],
   "source": [
    "with open(fname,mode='rb') as file:\n",
    "    row_data = file.read()\n",
    "str_row_data=str(row_data)\n",
    "str_row_data"
   ]
  },
  {
   "cell_type": "markdown",
   "id": "2819db1e",
   "metadata": {},
   "source": [
    "# Dict for convert"
   ]
  },
  {
   "cell_type": "code",
   "execution_count": 155,
   "id": "ddd9aaed",
   "metadata": {},
   "outputs": [
    {
     "data": {
      "text/plain": [
       "'B'"
      ]
     },
     "execution_count": 155,
     "metadata": {},
     "output_type": "execute_result"
    }
   ],
   "source": [
    "dict_code_ctype = {\n",
    "    \"U1\": \"B\",\n",
    "    \"U2\": \"H\",\n",
    "    \"U4\": \"I\",\n",
    "    \"U8\": \"Q\",\n",
    "    \"I1\": \"b\",\n",
    "    \"I2\": \"h\",\n",
    "    \"I4\": \"i\",\n",
    "    \"I8\": \"q\",\n",
    "    \"R4\": \"f\",\n",
    "    \"R8\": \"d\",\n",
    "    \"B1\": \"B\",\n",
    "    \"C1\": \"c\",\n",
    "    \"N1\": \"B\"\n",
    "}\n",
    "dict_code_ctype['U1']"
   ]
  },
  {
   "cell_type": "code",
   "execution_count": null,
   "id": "9da0999b",
   "metadata": {},
   "outputs": [],
   "source": [
    "dict_header_grep = {\n",
    "    'FAR':'x02\\x00\\x00\\n',\n",
    "    'ATR':''\n",
    "}"
   ]
  },
  {
   "cell_type": "markdown",
   "id": "7cf7620b",
   "metadata": {},
   "source": [
    "# Filter Method"
   ]
  },
  {
   "cell_type": "code",
   "execution_count": 261,
   "id": "07807471",
   "metadata": {},
   "outputs": [
    {
     "data": {
      "text/plain": [
       "5"
      ]
     },
     "execution_count": 261,
     "metadata": {},
     "output_type": "execute_result"
    }
   ],
   "source": [
    "dict_pack = {\n",
    "    'FAR':[0,10],\n",
    "    'ATR':[0,20],\n",
    "    'MIR':[1,10],\n",
    "    'MRR':[1,20],\n",
    "    'PCR':[1,30],\n",
    "    'HBR':[1,40],\n",
    "    'SBR':[1,50],\n",
    "    'PMR':[1,60],\n",
    "    'PGR':[1,62],\n",
    "    'PLR':[1,63],\n",
    "    'RDR':[1,70],\n",
    "    'SDR':[1,80],\n",
    "    'WIR':[2,10],\n",
    "    'WRR':[2,20],\n",
    "    'WCR':[2,30],\n",
    "    'PIR':[5,10],\n",
    "    'PRR':[5,20],\n",
    "    'TSR':[10,30],\n",
    "    'PTR':[15,10],\n",
    "    'MPR':[15,15],\n",
    "    'FTR':[15,20],\n",
    "    'BPS':[20,10],\n",
    "    'EPS':[20,20],\n",
    "    'GDR':[50,10],\n",
    "    'DTR':[50,30]\n",
    "}\n",
    "dict_pack['PRR'][0]"
   ]
  },
  {
   "cell_type": "code",
   "execution_count": 435,
   "id": "950a0e0e",
   "metadata": {},
   "outputs": [],
   "source": [
    "def struct_packing(rtype,subtype):\n",
    "    packing = str(struct.pack(\"BB\",rtype,subtype))\n",
    "    return packing[2:len(packing)-1]\n",
    "\n",
    "def data_mark(string_row_data,key_header,key):\n",
    "    key_list = string_row_data.split(key_header)\n",
    "    for num in range(0, len(key_list)-1):\n",
    "        key_list[num] = key_list[num][:len(key_list[0])-8] + \"|\" + key_list[0][len(key_list[0])-8:]\n",
    "    for num in range(0, len(key_list)-1):\n",
    "        key_list[num] = key_list[num]+\":\"+key\n",
    "    return \":\".join(key_list)"
   ]
  },
  {
   "cell_type": "code",
   "execution_count": 473,
   "id": "df342ec6",
   "metadata": {},
   "outputs": [
    {
     "data": {
      "text/plain": [
       "25"
      ]
     },
     "execution_count": 473,
     "metadata": {},
     "output_type": "execute_result"
    }
   ],
   "source": [
    "len(dict_pack.keys())"
   ]
  },
  {
   "cell_type": "code",
   "execution_count": 509,
   "id": "7c60343e",
   "metadata": {},
   "outputs": [
    {
     "name": "stdout",
     "output_type": "stream",
     "text": [
      "ATR\n"
     ]
    },
    {
     "data": {
      "text/plain": [
       "\"b'\\\\x02\\\\x00\\\\x00\\\\n\\\\x02\\\\|x04y\\\\x00:ATR:\\\\xf8T\\\\xffWtdataformatt|x04y\\\\x00:ATR:\\\\x00\\\\x01P\\\\x01\\\\x02\\\\x01\\\\x01\\\\x00\\\\x00\\\\x00\\\\x00\\\\x00\\\\x00\\\\x00\\\\x00\\\\x00\\\\x00\\\\x00\\\\x00\\\\x00\\\\x00\\\\x00\\\\x00\\\\x12\\\\x00\\\\x01<\\\\x01\\\\x00\\\\x01\\\\x00\\\\x03Xin\\\\x0510101\\\\x011\\\\x01\\\\x01\\\\x13\\\\x00\\\\x01<\\\\x02\\\\x00\\\\x02\\\\x00\\\\x04Xout\\\\x0510102\\\\x012\\\\x01\\\\x01\\\\x0e\\\\x00\\\\x01<\\\\x03\\\\x00\\\\x00\\\\x00\\\\x03VCC\\\\x0211\\\\x00\\\\x01\\\\x01\\\\x14\\\\x00\\\\x02\\\\x1e\\\\x00\\\\x00\\\\x00\\\\x00\\\\x00\\\\x00\\\\x00\\\\x00\\\\x00\\\\x00\\\\x00\\\\x00\\\\x00 \\\\x00\\\\x80\\\\x00\\\\x80  \\\\x07\\\\x00\\\\x02\\\\n\\\\x01\\\\x02\\\\xf8T\\\\xffW\\\\x00\\\\x02\\\\x00\\\\x05\\\\n\\\\x01\\\\x01\\\\x12\\\\x00\\\\x01<\\\\x01\\\\x00\\\\x01\\\\x00\\\\x03Xin\\\\x0510101\\\\x011\\\\x01\\\\x01\\\\x13\\\\x00\\\\x01<\\\\x02\\\\x00\\\\x02\\\\x00\\\\x04Xout\\\\x0510102\\\\x012\\\\x01\\\\x01\\\\x0e\\\\x00\\\\x01<\\\\x03\\\\x00\\\\x00\\\\x00\\\\x03VCC\\\\x0211\\\\x00\\\\x01\\\\x01\\\\x1a\\\\x00\\\\x05\\\\x14\\\\x01\\\\x01\\\\x00\\\\x00\\\\x00\\\\x01\\\\x00\\\\x01\\\\x00\\\\xfb\\\\xff\\\\xfc\\\\xff\\\\x03\\\\x02\\\\x00\\\\x00\\\\x011\\\\x050.000\\\\x00\\\\x02\\\\x00\\\\x05\\\\n\\\\x01\\\\x01\\\\x1a\\\\x00\\\\x05\\\\x14\\\\x01\\\\x01\\\\x00\\\\x00\\\\x00\\\\x01\\\\x00\\\\x01\\\\x00\\\\xff\\\\xff\\\\xfc\\\\xff\\\\x01\\\\x00\\\\x00\\\\x00\\\\x012\\\\x051.750\\\\x00\\\\x02\\\\x00\\\\x05\\\\n\\\\x01\\\\x01\\\\x1a\\\\x00\\\\x05\\\\x14\\\\x01\\\\x01\\\\x00\\\\x00\\\\x00\\\\x01\\\\x00\\\\x01\\\\x00\\\\x04\\\\x00\\\\xfc\\\\xff\\\\x01\\\\x00\\\\x00\\\\x00\\\\x013\\\\x052.201\\\\x00\\\\x02\\\\x00\\\\x05\\\\n\\\\x01\\\\x01\\\\x1a\\\\x00\\\\x05\\\\x14\\\\x01\\\\x01\\\\x00\\\\x00\\\\x00\\\\x01\\\\x00\\\\x01\\\\x00\\\\x06\\\\x00\\\\xfc\\\\xff\\\\x01\\\\x00\\\\x00\\\\x00\\\\x014\\\\x052.803\\\\x00\\\\x02\\\\x00\\\\x05\\\\n\\\\x01\\\\x01\\\\x1a\\\\x00\\\\x05\\\\x14\\\\x01\\\\x01\\\\x00\\\\x00\\\\x00\\\\x01\\\\x00\\\\x01\\\\x00\\\\x07\\\\x00\\\\xfc\\\\xff\\\\x01\\\\x00\\\\x00\\\\x00\\\\x015\\\\x052.547\\\\x00\\\\x02\\\\x00\\\\x05\\\\n\\\\x01\\\\x01\\\\x1a\\\\x00\\\\x05\\\\x14\\\\x01\\\\x01\\\\x00\\\\x00\\\\x00\\\\x01\\\\x00\\\\x01\\\\x00\\\\xf9\\\\xff\\\\xfd\\\\xff\\\\x01\\\\x00\\\\x00\\\\x00\\\\x016\\\\x052.702\\\\x00\\\\x02\\\\x00\\\\x05\\\\n\\\\x01\\\\x01\\\\x1a\\\\x00\\\\x05\\\\x14\\\\x01\\\\x01\\\\x00\\\\x00\\\\x00\\\\x01\\\\x00\\\\x01\\\\x00\\\\xfd\\\\xff\\\\xfd\\\\xff\\\\x01\\\\x00\\\\x00\\\\x00\\\\x017\\\\x052.700\\\\x00\\\\x02\\\\x00\\\\x05\\\\n\\\\x01\\\\x01\\\\x1a\\\\x00\\\\x05\\\\x14\\\\x01\\\\x01\\\\x00\\\\x00\\\\x00\\\\x01\\\\x00\\\\x01\\\\x00\\\\xfe\\\\xff\\\\xfd\\\\xff\\\\x01\\\\x00\\\\x00\\\\x00\\\\x018\\\\x052.101\\\\x00\\\\x02\\\\x00\\\\x05\\\\n\\\\x01\\\\x01\\\\x1a\\\\x00\\\\x05\\\\x14\\\\x01\\\\x01\\\\x00\\\\x00\\\\x00\\\\x01\\\\x00\\\\x01\\\\x00\\\\x03\\\\x00\\\\xfd\\\\xff\\\\x01\\\\x00\\\\x00\\\\x00\\\\x019\\\\x052.600\\\\x00\\\\x02\\\\x00\\\\x05\\\\n\\\\x01\\\\x01\\\\x1b\\\\x00\\\\x05\\\\x14\\\\x01\\\\x01\\\\x00\\\\x00\\\\x00\\\\x01\\\\x00\\\\x01\\\\x00\\\\x04\\\\x00\\\\xfd\\\\xff\\\\x01\\\\x00\\\\x00\\\\x00\\\\x0210\\\\x052.765\\\\x00\\\\x02\\\\x00\\\\x05\\\\n\\\\x01\\\\x01\\\\x1b\\\\x00\\\\x05\\\\x14\\\\x01\\\\x01\\\\x00\\\\x00\\\\x00\\\\x01\\\\x00\\\\x01\\\\x00\\\\x06\\\\x00\\\\xfd\\\\xff\\\\x01\\\\x00\\\\x00\\\\x00\\\\x0211\\\\x052.704\\\\x00\\\\x02\\\\x00\\\\x05\\\\n\\\\x01\\\\x01\\\\x1b\\\\x00\\\\x05\\\\x14\\\\x01\\\\x01\\\\x00\\\\x00\\\\x00\\\\x01\\\\x00\\\\x01\\\\x00\\\\xfa\\\\xff\\\\x00\\\\x00\\\\x01\\\\x00\\\\x00\\\\x00\\\\x0212\\\\x052.802\\\\x00\\\\x02\\\\x00\\\\x05\\\\n\\\\x01\\\\x01\\\\x1b\\\\x00\\\\x05\\\\x14\\\\x01\\\\x01\\\\x00\\\\x00\\\\x00\\\\x01\\\\x00\\\\x01\\\\x00\\\\xfc\\\\xff\\\\x00\\\\x00\\\\x01\\\\x00\\\\x00\\\\x00\\\\x0213\\\\x052.304\\\\x00 \\\\x00\\\\x02\\\\x14\\\\x01\\\\x021U\\\\xffW\\\\r\\\\x00\\\\x00\\\\x00\\\\x00\\\\x00\\\\x00\\\\x00\\\\xff\\\\xff\\\\xff\\\\xff\\\\r\\\\x00\\\\x00\\\\x00\\\\xff\\\\xff\\\\xff\\\\xff\\\\x00\\\\x00\\\\x00\\\\x00\\\\x00\\\\x00\\\\x0e\\\\x00\\\\x01(\\\\x01\\\\x01\\\\x01\\\\x00\\\\r\\\\x00\\\\x00\\\\x00P\\\\x04PASS\\\\x0e\\\\x00\\\\x01(\\\\xff\\\\x00\\\\x01\\\\x00\\\\r\\\\x00\\\\x00\\\\x00P\\\\x04PASS\\\\x0e\\\\x00\\\\x012\\\\x01\\\\x01\\\\x01\\\\x00\\\\r\\\\x00\\\\x00\\\\x00P\\\\x04PASS\\\\x0e\\\\x00\\\\x012\\\\xff\\\\x00\\\\x01\\\\x00\\\\r\\\\x00\\\\x00\\\\x00P\\\\x04PASS\\\\x16\\\\x00\\\\x01\\\\x1e\\\\x01\\\\x01\\\\r\\\\x00\\\\x00\\\\x00\\\\x00\\\\x00\\\\x00\\\\x00\\\\xff\\\\xff\\\\xff\\\\xff\\\\r\\\\x00\\\\x00\\\\x00\\\\xff\\\\xff\\\\xff\\\\xff\\\\x16\\\\x00\\\\x01\\\\x1e\\\\xff\\\\x00\\\\r\\\\x00\\\\x00\\\\x00\\\\x00\\\\x00\\\\x00\\\\x00\\\\xff\\\\xff\\\\xff\\\\xff\\\\r\\\\x00\\\\x00\\\\x00\\\\xff\\\\xff\\\\xff\\\\xff\\\\x07\\\\x00\\\\x01\\\\x141U\\\\xffW \\\\x00\\\\x00'\""
      ]
     },
     "execution_count": 509,
     "metadata": {},
     "output_type": "execute_result"
    }
   ],
   "source": [
    "for num_key in range(1,2):\n",
    "    key = list(dict_pack.keys())[num_key]\n",
    "    print(key)\n",
    "    header = struct_packing(dict_pack[key][0],dict_pack[key][1])\n",
    "    new = data_mark(str_row_data,header,key)\n",
    "new"
   ]
  },
  {
   "cell_type": "code",
   "execution_count": 365,
   "id": "4ba1fbd8",
   "metadata": {},
   "outputs": [
    {
     "data": {
      "text/plain": [
       "'\\\\x01\\\\x01\\\\x00\\\\x00\\\\x00\\\\x01\\\\x00\\\\x01\\\\x00\\\\xfb\\\\xff\\\\xfc\\\\xff\\\\x03\\\\x02\\\\x00\\\\x00\\\\x011\\\\x050.000\\\\x00\\\\x02\\\\x00\\\\x05\\\\n\\\\x01\\\\x01\\\\x1a\\\\x00'"
      ]
     },
     "execution_count": 365,
     "metadata": {},
     "output_type": "execute_result"
    }
   ],
   "source": [
    "str_row_data.split(a)[1]"
   ]
  },
  {
   "cell_type": "code",
   "execution_count": null,
   "id": "4eac52b2",
   "metadata": {},
   "outputs": [],
   "source": []
  },
  {
   "cell_type": "code",
   "execution_count": null,
   "id": "e09a27ec",
   "metadata": {},
   "outputs": [],
   "source": []
  },
  {
   "cell_type": "code",
   "execution_count": 231,
   "id": "3dc02b5e",
   "metadata": {},
   "outputs": [
    {
     "data": {
      "text/plain": [
       "\"b'\\\\x1a\\\\x00\\\\x05\\\\x14'\""
      ]
     },
     "execution_count": 231,
     "metadata": {},
     "output_type": "execute_result"
    }
   ],
   "source": [
    "# header of PIR\n",
    "header_prr = struct.pack(\"BBBB\", 26,0,5,20)\n",
    "header_prr_2 = struct.pack(\"BBBB\", 27,0,5,20)\n",
    "header_pir = struct.pack(\"BBBB\", 2,0,5,10)\n",
    "str_prr = str(header_prr)\n",
    "str_prr_2 = str(header_prr_2)\n",
    "str_pir = str(header_pir)\n",
    "str_prr"
   ]
  },
  {
   "cell_type": "code",
   "execution_count": 283,
   "id": "26044230",
   "metadata": {},
   "outputs": [],
   "source": [
    "key_prr=str_prr[2:len(str_prr)-1]\n",
    "key_prr_2=str_prr_2[2:len(str_prr_2)-1]\n",
    "key_pir=str_pir[2:len(str_pir)-1]"
   ]
  },
  {
   "cell_type": "markdown",
   "id": "025547c0",
   "metadata": {},
   "source": [
    "corrspon, +1-1 not PIR"
   ]
  },
  {
   "cell_type": "code",
   "execution_count": 432,
   "id": "545f59a7",
   "metadata": {},
   "outputs": [
    {
     "data": {
      "text/plain": [
       "['\\\\x1a\\\\x00',\n",
       " 'PRR',\n",
       " '\\\\x01\\\\x01\\\\x00\\\\x00\\\\x00\\\\x01\\\\x00\\\\x01\\\\x00\\\\xfb\\\\xff\\\\xfc\\\\xff\\\\x03\\\\x02\\\\x00\\\\x00\\\\x011\\\\x050.000\\\\x00\\\\x02\\\\x00']"
      ]
     },
     "execution_count": 432,
     "metadata": {},
     "output_type": "execute_result"
    }
   ],
   "source": [
    "class_spl = marked_new.split(\"|\")\n",
    "a = class_spl[2].split(\":\")\n",
    "a"
   ]
  },
  {
   "cell_type": "code",
   "execution_count": 434,
   "id": "a69f122f",
   "metadata": {},
   "outputs": [
    {
     "data": {
      "text/html": [
       "<div>\n",
       "<style scoped>\n",
       "    .dataframe tbody tr th:only-of-type {\n",
       "        vertical-align: middle;\n",
       "    }\n",
       "\n",
       "    .dataframe tbody tr th {\n",
       "        vertical-align: top;\n",
       "    }\n",
       "\n",
       "    .dataframe thead th {\n",
       "        text-align: right;\n",
       "    }\n",
       "</style>\n",
       "<table border=\"1\" class=\"dataframe\">\n",
       "  <thead>\n",
       "    <tr style=\"text-align: right;\">\n",
       "      <th></th>\n",
       "      <th>0</th>\n",
       "      <th>rec_body</th>\n",
       "      <th>rec_length</th>\n",
       "      <th>rec_type</th>\n",
       "    </tr>\n",
       "  </thead>\n",
       "  <tbody>\n",
       "    <tr>\n",
       "      <th>0</th>\n",
       "      <td>\\x1a\\x00</td>\n",
       "      <td>NaN</td>\n",
       "      <td>NaN</td>\n",
       "      <td>NaN</td>\n",
       "    </tr>\n",
       "    <tr>\n",
       "      <th>1</th>\n",
       "      <td>PRR</td>\n",
       "      <td>NaN</td>\n",
       "      <td>NaN</td>\n",
       "      <td>NaN</td>\n",
       "    </tr>\n",
       "    <tr>\n",
       "      <th>2</th>\n",
       "      <td>\\x01\\x01\\x00\\x00\\x00\\x01\\x00\\x01\\x00\\xfb\\xff\\x...</td>\n",
       "      <td>NaN</td>\n",
       "      <td>NaN</td>\n",
       "      <td>NaN</td>\n",
       "    </tr>\n",
       "  </tbody>\n",
       "</table>\n",
       "</div>"
      ],
      "text/plain": [
       "                                                   0 rec_body rec_length  \\\n",
       "0                                           \\x1a\\x00      NaN        NaN   \n",
       "1                                                PRR      NaN        NaN   \n",
       "2  \\x01\\x01\\x00\\x00\\x00\\x01\\x00\\x01\\x00\\xfb\\xff\\x...      NaN        NaN   \n",
       "\n",
       "  rec_type  \n",
       "0      NaN  \n",
       "1      NaN  \n",
       "2      NaN  "
      ]
     },
     "execution_count": 434,
     "metadata": {},
     "output_type": "execute_result"
    }
   ],
   "source": [
    "df = pd.DataFrame(columns=['rec_length','rec_type','rec_body'])\n",
    "df.append(a)"
   ]
  },
  {
   "cell_type": "code",
   "execution_count": null,
   "id": "0ef34781",
   "metadata": {},
   "outputs": [],
   "source": []
  }
 ],
 "metadata": {
  "kernelspec": {
   "display_name": "Python 3 (ipykernel)",
   "language": "python",
   "name": "python3"
  },
  "language_info": {
   "codemirror_mode": {
    "name": "ipython",
    "version": 3
   },
   "file_extension": ".py",
   "mimetype": "text/x-python",
   "name": "python",
   "nbconvert_exporter": "python",
   "pygments_lexer": "ipython3",
   "version": "3.8.8"
  }
 },
 "nbformat": 4,
 "nbformat_minor": 5
}
