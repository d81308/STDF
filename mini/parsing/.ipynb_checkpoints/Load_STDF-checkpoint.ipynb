{
 "cells": [
  {
   "cell_type": "code",
   "execution_count": 2,
   "id": "8d65692d",
   "metadata": {},
   "outputs": [],
   "source": [
    "import pandas as pd\n",
    "import binascii"
   ]
  },
  {
   "cell_type": "code",
   "execution_count": 3,
   "id": "067e8793",
   "metadata": {},
   "outputs": [],
   "source": [
    "fname=\"/Users/jianlin/Documents/Project_STDF_wafermap/STDF_data/main_Lot_1_Wafer_1_Oct_13_09h33m41s_STDF.stdf\""
   ]
  },
  {
   "cell_type": "code",
   "execution_count": 718,
   "id": "8196301e",
   "metadata": {},
   "outputs": [
    {
     "data": {
      "text/plain": [
       "\"b'\\\\x02\\\\x00\\\\x00\\\\n\\\\x02\\\\x04y\\\\x00\\\\x00\\\\x14\\\\xf8T\\\\xffWtdataformatter tester config; Ver: SmarTest s/w rev. 7.1.4.3 (E), 15-Oct-12; dataformatter 2.0.9 Oct 15 2012 18:37:15\\\\x82\\\\x00\\\\x01\\\\n\\\\xeaT\\\\xffW\\\\xf8T\\\\xffW\\\\x01 N \\\\xff\\\\xff \\\\x011\\\\x00\\\\x15localhost.localdomain\\\\t93000-SOC\\\\x05cp_32\\\\x00\\\\x00\\\\x07vincent\\\\x0593000 s/w rev. 7.1.4.3 (E), 15-Oct-12\\\\n\\\\x00\\\\x0525.25\\\\x00\\\\x00\\\\x00\\\\x00\\\\x00\\\\x00\\\\x00\\\\x00\\\\x00\\\\x00\\\\x00\\\\x00\\\\x00\\\\x00\\\\x00\\\\x00\\\\x00\\\\x00\\\\x14\\\\x00\\\\x01P\\\\x01\\\\x02\\\\x01\\\\x01\\\\x00\\\\x00\\\\x00\\\\x00\\\\x00\\\\x00\\\\x00\\\\x00\\\\x00\\\\x00\\\\x00\\\\x00\\\\x00\\\\x00\\\\x00\\\\x00\\\\x12\\\\x00\\\\x01<\\\\x01\\\\x00\\\\x01\\\\x00\\\\x03Xin\\\\x0510101\\\\x011\\\\x01\\\\x01\\\\x13\\\\x00\\\\x01<\\\\x02\\\\x00\\\\x02\\\\x00\\\\x04Xout\\\\x0510102\\\\x012\\\\x01\\\\x01\\\\x0e\\\\x00\\\\x01<\\\\x03\\\\x00\\\\x00\\\\x00\\\\x03VCC\\\\x0211\\\\x00\\\\x01\\\\x01\\\\x14\\\\x00\\\\x02\\\\x1e\\\\x00\\\\x00\\\\x00\\\\x00\\\\x00\\\\x00\\\\x00\\\\x00\\\\x00\\\\x00\\\\x00\\\\x00\\\\x00 \\\\x00\\\\x80\\\\x00\\\\x80  \\\\x07\\\\x00\\\\x02\\\\n\\\\x01\\\\x02\\\\xf8T\\\\xffW\\\\x00\\\\x02\\\\x00\\\\x05\\\\n\\\\x01\\\\x01\\\\x12\\\\x00\\\\x01<\\\\x01\\\\x00\\\\x01\\\\x00\\\\x03Xin\\\\x0510101\\\\x011\\\\x01\\\\x01\\\\x13\\\\x00\\\\x01<\\\\x02\\\\x00\\\\x02\\\\x00\\\\x04Xout\\\\x0510102\\\\x012\\\\x01\\\\x01\\\\x0e\\\\x00\\\\x01<\\\\x03\\\\x00\\\\x00\\\\x00\\\\x03VCC\\\\x0211\\\\x00\\\\x01\\\\x01\\\\x1a\\\\x00\\\\x05\\\\x14\\\\x01\\\\x01\\\\x00\\\\x00\\\\x00\\\\x01\\\\x00\\\\x01\\\\x00\\\\xfb\\\\xff\\\\xfc\\\\xff\\\\x03\\\\x02\\\\x00\\\\x00\\\\x011\\\\x050.000\\\\x00\\\\x02\\\\x00\\\\x05\\\\n\\\\x01\\\\x01\\\\x1a\\\\x00\\\\x05\\\\x14\\\\x01\\\\x01\\\\x00\\\\x00\\\\x00\\\\x01\\\\x00\\\\x01\\\\x00\\\\xff\\\\xff\\\\xfc\\\\xff\\\\x01\\\\x00\\\\x00\\\\x00\\\\x012\\\\x051.750\\\\x00\\\\x02\\\\x00\\\\x05\\\\n\\\\x01\\\\x01\\\\x1a\\\\x00\\\\x05\\\\x14\\\\x01\\\\x01\\\\x00\\\\x00\\\\x00\\\\x01\\\\x00\\\\x01\\\\x00\\\\x04\\\\x00\\\\xfc\\\\xff\\\\x01\\\\x00\\\\x00\\\\x00\\\\x013\\\\x052.201\\\\x00\\\\x02\\\\x00\\\\x05\\\\n\\\\x01\\\\x01\\\\x1a\\\\x00\\\\x05\\\\x14\\\\x01\\\\x01\\\\x00\\\\x00\\\\x00\\\\x01\\\\x00\\\\x01\\\\x00\\\\x06\\\\x00\\\\xfc\\\\xff\\\\x01\\\\x00\\\\x00\\\\x00\\\\x014\\\\x052.803\\\\x00\\\\x02\\\\x00\\\\x05\\\\n\\\\x01\\\\x01\\\\x1a\\\\x00\\\\x05\\\\x14\\\\x01\\\\x01\\\\x00\\\\x00\\\\x00\\\\x01\\\\x00\\\\x01\\\\x00\\\\x07\\\\x00\\\\xfc\\\\xff\\\\x01\\\\x00\\\\x00\\\\x00\\\\x015\\\\x052.547\\\\x00\\\\x02\\\\x00\\\\x05\\\\n\\\\x01\\\\x01\\\\x1a\\\\x00\\\\x05\\\\x14\\\\x01\\\\x01\\\\x00\\\\x00\\\\x00\\\\x01\\\\x00\\\\x01\\\\x00\\\\xf9\\\\xff\\\\xfd\\\\xff\\\\x01\\\\x00\\\\x00\\\\x00\\\\x016\\\\x052.702\\\\x00\\\\x02\\\\x00\\\\x05\\\\n\\\\x01\\\\x01\\\\x1a\\\\x00\\\\x05\\\\x14\\\\x01\\\\x01\\\\x00\\\\x00\\\\x00\\\\x01\\\\x00\\\\x01\\\\x00\\\\xfd\\\\xff\\\\xfd\\\\xff\\\\x01\\\\x00\\\\x00\\\\x00\\\\x017\\\\x052.700\\\\x00\\\\x02\\\\x00\\\\x05\\\\n\\\\x01\\\\x01\\\\x1a\\\\x00\\\\x05\\\\x14\\\\x01\\\\x01\\\\x00\\\\x00\\\\x00\\\\x01\\\\x00\\\\x01\\\\x00\\\\xfe\\\\xff\\\\xfd\\\\xff\\\\x01\\\\x00\\\\x00\\\\x00\\\\x018\\\\x052.101\\\\x00\\\\x02\\\\x00\\\\x05\\\\n\\\\x01\\\\x01\\\\x1a\\\\x00\\\\x05\\\\x14\\\\x01\\\\x01\\\\x00\\\\x00\\\\x00\\\\x01\\\\x00\\\\x01\\\\x00\\\\x03\\\\x00\\\\xfd\\\\xff\\\\x01\\\\x00\\\\x00\\\\x00\\\\x019\\\\x052.600\\\\x00\\\\x02\\\\x00\\\\x05\\\\n\\\\x01\\\\x01\\\\x1b\\\\x00\\\\x05\\\\x14\\\\x01\\\\x01\\\\x00\\\\x00\\\\x00\\\\x01\\\\x00\\\\x01\\\\x00\\\\x04\\\\x00\\\\xfd\\\\xff\\\\x01\\\\x00\\\\x00\\\\x00\\\\x0210\\\\x052.765\\\\x00\\\\x02\\\\x00\\\\x05\\\\n\\\\x01\\\\x01\\\\x1b\\\\x00\\\\x05\\\\x14\\\\x01\\\\x01\\\\x00\\\\x00\\\\x00\\\\x01\\\\x00\\\\x01\\\\x00\\\\x06\\\\x00\\\\xfd\\\\xff\\\\x01\\\\x00\\\\x00\\\\x00\\\\x0211\\\\x052.704\\\\x00\\\\x02\\\\x00\\\\x05\\\\n\\\\x01\\\\x01\\\\x1b\\\\x00\\\\x05\\\\x14\\\\x01\\\\x01\\\\x00\\\\x00\\\\x00\\\\x01\\\\x00\\\\x01\\\\x00\\\\xfa\\\\xff\\\\x00\\\\x00\\\\x01\\\\x00\\\\x00\\\\x00\\\\x0212\\\\x052.802\\\\x00\\\\x02\\\\x00\\\\x05\\\\n\\\\x01\\\\x01\\\\x1b\\\\x00\\\\x05\\\\x14\\\\x01\\\\x01\\\\x00\\\\x00\\\\x00\\\\x01\\\\x00\\\\x01\\\\x00\\\\xfc\\\\xff\\\\x00\\\\x00\\\\x01\\\\x00\\\\x00\\\\x00\\\\x0213\\\\x052.304\\\\x00 \\\\x00\\\\x02\\\\x14\\\\x01\\\\x021U\\\\xffW\\\\r\\\\x00\\\\x00\\\\x00\\\\x00\\\\x00\\\\x00\\\\x00\\\\xff\\\\xff\\\\xff\\\\xff\\\\r\\\\x00\\\\x00\\\\x00\\\\xff\\\\xff\\\\xff\\\\xff\\\\x00\\\\x00\\\\x00\\\\x00\\\\x00\\\\x00\\\\x0e\\\\x00\\\\x01(\\\\x01\\\\x01\\\\x01\\\\x00\\\\r\\\\x00\\\\x00\\\\x00P\\\\x04PASS\\\\x0e\\\\x00\\\\x01(\\\\xff\\\\x00\\\\x01\\\\x00\\\\r\\\\x00\\\\x00\\\\x00P\\\\x04PASS\\\\x0e\\\\x00\\\\x012\\\\x01\\\\x01\\\\x01\\\\x00\\\\r\\\\x00\\\\x00\\\\x00P\\\\x04PASS\\\\x0e\\\\x00\\\\x012\\\\xff\\\\x00\\\\x01\\\\x00\\\\r\\\\x00\\\\x00\\\\x00P\\\\x04PASS\\\\x16\\\\x00\\\\x01\\\\x1e\\\\x01\\\\x01\\\\r\\\\x00\\\\x00\\\\x00\\\\x00\\\\x00\\\\x00\\\\x00\\\\xff\\\\xff\\\\xff\\\\xff\\\\r\\\\x00\\\\x00\\\\x00\\\\xff\\\\xff\\\\xff\\\\xff\\\\x16\\\\x00\\\\x01\\\\x1e\\\\xff\\\\x00\\\\r\\\\x00\\\\x00\\\\x00\\\\x00\\\\x00\\\\x00\\\\x00\\\\xff\\\\xff\\\\xff\\\\xff\\\\r\\\\x00\\\\x00\\\\x00\\\\xff\\\\xff\\\\xff\\\\xff\\\\x07\\\\x00\\\\x01\\\\x141U\\\\xffW \\\\x00\\\\x00'\""
      ]
     },
     "execution_count": 718,
     "metadata": {},
     "output_type": "execute_result"
    }
   ],
   "source": [
    "with open(fname,mode='rb') as file:\n",
    "    row_data = file.read()\n",
    "str_row_data=str(row_data)\n",
    "str_row_data"
   ]
  },
  {
   "cell_type": "markdown",
   "id": "d5238c61",
   "metadata": {},
   "source": [
    "# Dict for convert"
   ]
  },
  {
   "cell_type": "code",
   "execution_count": 155,
   "id": "076384a6",
   "metadata": {},
   "outputs": [
    {
     "data": {
      "text/plain": [
       "'B'"
      ]
     },
     "execution_count": 155,
     "metadata": {},
     "output_type": "execute_result"
    }
   ],
   "source": [
    "dict_code_ctype = {\n",
    "    \"U1\": \"B\",\n",
    "    \"U2\": \"H\",\n",
    "    \"U4\": \"I\",\n",
    "    \"U8\": \"Q\",\n",
    "    \"I1\": \"b\",\n",
    "    \"I2\": \"h\",\n",
    "    \"I4\": \"i\",\n",
    "    \"I8\": \"q\",\n",
    "    \"R4\": \"f\",\n",
    "    \"R8\": \"d\",\n",
    "    \"B1\": \"B\",\n",
    "    \"C1\": \"c\",\n",
    "    \"N1\": \"B\"\n",
    "}\n",
    "dict_code_ctype['U1']"
   ]
  },
  {
   "cell_type": "code",
   "execution_count": null,
   "id": "5c385afc",
   "metadata": {},
   "outputs": [],
   "source": [
    "dict_header_grep = {\n",
    "    'FAR':'x02\\x00\\x00\\n',\n",
    "    'ATR':''\n",
    "}"
   ]
  },
  {
   "cell_type": "markdown",
   "id": "72cbcb5f",
   "metadata": {},
   "source": [
    "# Filter Method"
   ]
  },
  {
   "cell_type": "code",
   "execution_count": 261,
   "id": "64654bce",
   "metadata": {},
   "outputs": [
    {
     "data": {
      "text/plain": [
       "5"
      ]
     },
     "execution_count": 261,
     "metadata": {},
     "output_type": "execute_result"
    }
   ],
   "source": [
    "dict_pack = {\n",
    "    'FAR':[0,10],\n",
    "    'ATR':[0,20],\n",
    "    'MIR':[1,10],\n",
    "    'MRR':[1,20],\n",
    "    'PCR':[1,30],\n",
    "    'HBR':[1,40],\n",
    "    'SBR':[1,50],\n",
    "    'PMR':[1,60],\n",
    "    'PGR':[1,62],\n",
    "    'PLR':[1,63],\n",
    "    'RDR':[1,70],\n",
    "    'SDR':[1,80],\n",
    "    'WIR':[2,10],\n",
    "    'WRR':[2,20],\n",
    "    'WCR':[2,30],\n",
    "    'PIR':[5,10],\n",
    "    'PRR':[5,20],\n",
    "    'TSR':[10,30],\n",
    "    'PTR':[15,10],\n",
    "    'MPR':[15,15],\n",
    "    'FTR':[15,20],\n",
    "    'BPS':[20,10],\n",
    "    'EPS':[20,20],\n",
    "    'GDR':[50,10],\n",
    "    'DTR':[50,30]\n",
    "}\n",
    "dict_pack['PRR'][0]"
   ]
  },
  {
   "cell_type": "code",
   "execution_count": 744,
   "id": "b6d9d8aa",
   "metadata": {},
   "outputs": [],
   "source": [
    "def struct_packing(rtype,subtype):\n",
    "    packing = str(struct.pack(\"BB\",rtype,subtype))\n",
    "    return packing[2:len(packing)-1]\n",
    "\n",
    "def data_mark(string_row_data,key_header,key):\n",
    "    key_list = string_row_data.split(key_header)    #will cut key_header\n",
    "    \n",
    "    for num in range(0, len(key_list)-1):\n",
    "        group_count = 0\n",
    "        group_count = group_count + len(key_list[num])\n",
    "        \n",
    "        #out of range\n",
    "        if debug_by_positionrule(key,group_count)==0:\n",
    "            pass\n",
    "        #in rule\n",
    "        else:\n",
    "            key_list[num] = key_list[num][:len(key_list[num])-8] + \"|\" + key_list[num][len(key_list[num])-8:]\n",
    "    for num in range(0, len(key_list)-1):\n",
    "        group_count_2 = 0\n",
    "        group_count_2 = group_count_2 + len(key_list[num])\n",
    "        \n",
    "        #out of range\n",
    "        if debug_by_positionrule(key,group_count_2)==0:\n",
    "            key_list[num] = key_list[num]+key_header\n",
    "        #in rule\n",
    "        else:\n",
    "            key_list[num] = key_list[num]+\"%\"+key+\":\"+key_header\n",
    "    \n",
    "        #key_list[num] = key_list[num]+\":\"+key\n",
    "    \n",
    "    return \"%\".join(key_list)\n",
    "\n",
    "def debug_by_positionrule(key_judge,group_count):\n",
    "    #position locate\n",
    "    dict_position = {}\n",
    "    for key in dict_pack.keys():\n",
    "        dict_position[key]= processed_data.find(struct_packing(dict_pack[key][0],dict_pack[key][1]))\n",
    "    #ATR:bewteen FAR,MIR\n",
    "    if group_count > dict_position[key_judge]:\n",
    "        return 0 #fail\n",
    "    else:\n",
    "        return 1 #pass\n"
   ]
  },
  {
   "cell_type": "code",
   "execution_count": 736,
   "id": "74c056ac",
   "metadata": {},
   "outputs": [],
   "source": [
    "def data_mark(string_row_data,key_header,key):\n",
    "    key_list = string_row_data.split(key_header)\n",
    "    for num in range(0, len(key_list)-1):\n",
    "        key_list[num] = key_list[num][:len(key_list[0])-8] + \"|\" + key_list[0][len(key_list[0])-8:]\n",
    "    for num in range(0, len(key_list)-1):\n",
    "        key_list[num] = key_list[num]+\":\"+key\n",
    "    return \":\".join(key_list)"
   ]
  },
  {
   "cell_type": "code",
   "execution_count": 635,
   "id": "74f98a05",
   "metadata": {},
   "outputs": [
    {
     "data": {
      "text/plain": [
       "'\\\\x00\\\\x14'"
      ]
     },
     "execution_count": 635,
     "metadata": {},
     "output_type": "execute_result"
    }
   ],
   "source": [
    "struct_packing(0,20)"
   ]
  },
  {
   "cell_type": "code",
   "execution_count": 739,
   "id": "5d2201a4",
   "metadata": {},
   "outputs": [
    {
     "data": {
      "text/plain": [
       "42"
      ]
     },
     "execution_count": 739,
     "metadata": {},
     "output_type": "execute_result"
    }
   ],
   "source": [
    "debug_by_positionrule('ATR',100)"
   ]
  },
  {
   "cell_type": "code",
   "execution_count": 743,
   "id": "6dbc43c1",
   "metadata": {},
   "outputs": [
    {
     "name": "stdout",
     "output_type": "stream",
     "text": [
      "10\n",
      "36\n",
      "374\n",
      "186\n",
      "692\n",
      "2450\n",
      "2951\n",
      "92\n",
      "2743\n",
      "47\n",
      "629\n",
      "312\n",
      "270\n",
      "1629\n",
      "47\n",
      "533\n",
      "53\n",
      "55\n",
      "195\n",
      "53\n",
      "61\n",
      "440\n",
      "809\n",
      "2665\n",
      "722\n",
      "847\n",
      "317\n",
      "125\n",
      "118\n",
      "118\n",
      "118\n",
      "118\n",
      "118\n",
      "118\n",
      "118\n",
      "119\n",
      "119\n",
      "119\n",
      "1069\n",
      "123\n",
      "130\n",
      "123\n",
      "123\n",
      "123\n",
      "123\n",
      "123\n",
      "123\n",
      "123\n",
      "124\n",
      "124\n",
      "124\n",
      "343\n",
      "467\n",
      "726\n"
     ]
    },
    {
     "data": {
      "text/plain": [
       "\"b'|\\\\x02\\\\x00%FAR:\\\\x00\\\\n%\\\\x02\\\\|x04y\\\\x00%ATR:\\\\x00\\\\x14%\\\\xf8T\\\\xffWtdataformatter tester config; Ver: SmarTest s/w rev. 7.1.4.3 (E), 15-Oct-12; dataformatter 2.0.9 Oct 15 2012 18:37:15|\\\\x82\\\\x00\\\\x01\\\\n%\\\\xeaT\\\\xffW\\\\xf8T\\\\xffW\\\\x01 N \\\\xff\\\\xff \\\\x011\\\\x00\\\\x15localhost.localdomain\\\\t93000-SOC\\\\x05cp_32\\\\x00\\\\x00\\\\x07vincent\\\\x0593000 s/w rev. 7.1.4.3 (E), 15-Oct-12\\\\n%\\\\x00\\\\x0525.25\\\\x00\\\\x00\\\\x00\\\\x00\\\\x00\\\\x00\\\\x00\\\\x00\\\\x00\\\\x00\\\\x00\\\\x00\\\\x00\\\\x00\\\\x00\\\\x00\\\\x00\\\\x00\\\\x14%\\\\x00\\\\x01P%\\\\x01\\\\x02\\\\x01\\\\x01\\\\x00\\\\x00\\\\x00\\\\x00\\\\x00\\\\x00\\\\x00\\\\x00\\\\x00\\\\x00\\\\x00\\\\x00\\\\x00\\\\x00\\\\x00\\\\x00\\\\x12\\\\x00\\\\x01<%\\\\x01\\\\x00\\\\x01\\\\x00\\\\x03Xin\\\\x0510101\\\\x011\\\\x01\\\\x01|\\\\x13\\\\x00%PMR:\\\\x01<%\\\\x02\\\\x00\\\\x02\\\\x00\\\\x04Xout\\\\x0510102\\\\x012%\\\\x01\\\\x01|\\\\x0e\\\\x00%PMR:\\\\x01<%\\\\x03\\\\x00\\\\x00\\\\x00\\\\x03VCC\\\\x0211\\\\x00\\\\x01\\\\x01\\\\x14%\\\\x00\\\\x02\\\\x1e%%\\\\x00\\\\x00\\\\x00\\\\x00\\\\x00\\\\x00\\\\x00\\\\x00\\\\x00\\\\x00\\\\x00\\\\x00\\\\x00 \\\\x00\\\\x80\\\\x00\\\\x80  \\\\x07\\\\x00\\\\x02\\\\n%%\\\\x01\\\\x02\\\\xf8T\\\\xffW\\\\x00\\\\x02\\\\x00\\\\x05\\\\n%\\\\x01\\\\x01|\\\\x12\\\\x00%PMR:\\\\x01<%\\\\x01\\\\x00\\\\x01\\\\x00\\\\x03Xin\\\\x0510101\\\\x011\\\\x01\\\\x01|\\\\x13\\\\x00%PMR:\\\\x01<%\\\\x02\\\\x00\\\\x02\\\\x00\\\\x04Xout\\\\|x0510102%SBR:\\\\x012%\\\\x01\\\\x01|\\\\x0e\\\\x00%PMR:\\\\x01<%\\\\x03\\\\x00\\\\x00\\\\x00\\\\x03VCC\\\\x0211\\\\x00\\\\x01\\\\x01\\\\x1a\\\\x00\\\\x05\\\\x14%\\\\x01\\\\x01\\\\x00\\\\x00\\\\x00\\\\x01\\\\x00\\\\x01\\\\x00\\\\xfb\\\\xff\\\\xfc\\\\xff\\\\x03\\\\x02\\\\x00\\\\x00\\\\x011\\\\x050.000\\\\x00|\\\\x02\\\\x00%PIR:\\\\x05\\\\n%\\\\x01\\\\x01|\\\\x1a\\\\x00%PRR:\\\\x05\\\\x14%\\\\x01\\\\x01\\\\x00\\\\x00\\\\x00\\\\x01\\\\x00\\\\x01\\\\x00\\\\xff\\\\xff\\\\xfc\\\\xff\\\\x01\\\\x00|\\\\x00\\\\x00%SBR:\\\\x012%\\\\x051.750\\\\x00|\\\\x02\\\\x00%PIR:\\\\x05\\\\n%\\\\x01\\\\x01|\\\\x1a\\\\x00%PRR:\\\\x05\\\\x14%\\\\x01\\\\x01\\\\x00\\\\x00\\\\x00\\\\x01\\\\x00\\\\x01\\\\x00\\\\x04\\\\x00\\\\xfc\\\\xff\\\\x01\\\\x00\\\\x00\\\\x00\\\\x013\\\\x052.201\\\\x00|\\\\x02\\\\x00%PIR:\\\\x05\\\\n%\\\\x01\\\\x01|\\\\x1a\\\\x00%PRR:\\\\x05\\\\x14%\\\\x01\\\\x01\\\\x00\\\\x00\\\\x00\\\\x01\\\\x00\\\\x01\\\\x00\\\\x06\\\\x00\\\\xfc\\\\xff\\\\x01\\\\x00\\\\x00\\\\x00\\\\x014\\\\x052.803\\\\x00|\\\\x02\\\\x00%PIR:\\\\x05\\\\n%\\\\x01\\\\x01|\\\\x1a\\\\x00%PRR:\\\\x05\\\\x14%\\\\x01\\\\x01\\\\x00\\\\x00\\\\x00\\\\x01\\\\x00\\\\x01\\\\x00\\\\x07\\\\x00\\\\xfc\\\\xff\\\\x01\\\\x00\\\\x00\\\\x00\\\\x015\\\\x052.547\\\\x00|\\\\x02\\\\x00%PIR:\\\\x05\\\\n%\\\\x01\\\\x01|\\\\x1a\\\\x00%PRR:\\\\x05\\\\x14%\\\\x01\\\\x01\\\\x00\\\\x00\\\\x00\\\\x01\\\\x00\\\\x01\\\\x00\\\\xf9\\\\xff\\\\xfd\\\\xff\\\\x01\\\\x00\\\\x00\\\\x00\\\\x016\\\\x052.702\\\\x00|\\\\x02\\\\x00%PIR:\\\\x05\\\\n%\\\\x01\\\\x01|\\\\x1a\\\\x00%PRR:\\\\x05\\\\x14%\\\\x01\\\\x01\\\\x00\\\\x00\\\\x00\\\\x01\\\\x00\\\\x01\\\\x00\\\\xfd\\\\xff\\\\xfd\\\\xff\\\\x01\\\\x00\\\\x00\\\\x00\\\\x017\\\\x052.700\\\\x00|\\\\x02\\\\x00%PIR:\\\\x05\\\\n%\\\\x01\\\\x01|\\\\x1a\\\\x00%PRR:\\\\x05\\\\x14%\\\\x01\\\\x01\\\\x00\\\\x00\\\\x00\\\\x01\\\\x00\\\\x01\\\\x00\\\\xfe\\\\xff\\\\xfd\\\\xff\\\\x01\\\\x00\\\\x00\\\\x00\\\\x018\\\\x052.101\\\\x00|\\\\x02\\\\x00%PIR:\\\\x05\\\\n%\\\\x01\\\\x01|\\\\x1a\\\\x00%PRR:\\\\x05\\\\x14%\\\\x01\\\\x01\\\\x00\\\\x00\\\\x00\\\\x01\\\\x00\\\\x01\\\\x00\\\\x03\\\\x00\\\\xfd\\\\xff\\\\x01\\\\x00\\\\x00\\\\x00\\\\x019\\\\x052.600\\\\x00|\\\\x02\\\\x00%PIR:\\\\x05\\\\n%\\\\x01\\\\x01|\\\\x1b\\\\x00%PRR:\\\\x05\\\\x14%\\\\x01\\\\x01\\\\x00\\\\x00\\\\x00\\\\x01\\\\x00\\\\x01\\\\x00\\\\x04\\\\x00\\\\xfd\\\\xff\\\\x01\\\\x00\\\\x00\\\\x00\\\\x0210\\\\x052.765\\\\x00|\\\\x02\\\\x00%PIR:\\\\x05\\\\n%\\\\x01\\\\x01|\\\\x1b\\\\x00%PRR:\\\\x05\\\\x14%\\\\x01\\\\x01\\\\x00\\\\x00\\\\x00\\\\x01\\\\x00\\\\x01\\\\x00\\\\x06\\\\x00\\\\xfd\\\\xff\\\\x01\\\\x00\\\\x00\\\\x00\\\\x0211\\\\x052.704\\\\x00|\\\\x02\\\\x00%PIR:\\\\x05\\\\n%\\\\x01\\\\x01|\\\\x1b\\\\x00%PRR:\\\\x05\\\\x14%\\\\x01\\\\x01\\\\x00\\\\x00\\\\x00\\\\x01\\\\x00\\\\x01\\\\x00\\\\xfa\\\\xff\\\\x00\\\\x00\\\\x01\\\\x00\\\\x00\\\\x00\\\\x0212\\\\x052.802\\\\x00|\\\\x02\\\\x00%PIR:\\\\x05\\\\n%\\\\x01\\\\x01|\\\\x1b\\\\x00%PRR:\\\\x05\\\\x14%\\\\x01\\\\x01\\\\x00\\\\x00\\\\x00\\\\x01\\\\x00\\\\x01\\\\x00\\\\xfc\\\\xff\\\\x00\\\\x00\\\\x01\\\\x00\\\\x00\\\\x00\\\\x0213\\\\x052.304\\\\x00 \\\\x00\\\\x02\\\\x14%\\\\x01\\\\x021U\\\\xffW\\\\r\\\\x00\\\\x00\\\\x00\\\\x00\\\\x00\\\\x00\\\\x00\\\\xff\\\\xff\\\\xff\\\\xff\\\\r\\\\x00\\\\x00\\\\x00\\\\xff\\\\xff\\\\xff\\\\xff\\\\x00\\\\x00\\\\x00\\\\x00\\\\x00\\\\x00\\\\x0e\\\\x00\\\\x01(%\\\\x01\\\\x01\\\\x01\\\\x00\\\\r\\\\x00\\\\x00\\\\x00P\\\\x04PASS|\\\\x0e\\\\x00%HBR:\\\\x01(%\\\\xff\\\\x00\\\\x01\\\\x00\\\\r\\\\x00\\\\x00\\\\x00P\\\\x04PASS\\\\x0e\\\\x00\\\\x012%\\\\x01\\\\x01\\\\x01\\\\x00\\\\r\\\\x00\\\\x00\\\\x00P\\\\x04PASS|\\\\x0e\\\\x00%SBR:\\\\x012%\\\\xff\\\\x00\\\\x01\\\\x00\\\\r\\\\x00\\\\x00\\\\x00P\\\\x04PASS\\\\x16\\\\x00\\\\x01\\\\x1e%\\\\x01\\\\x01\\\\r\\\\x00\\\\x00\\\\x00\\\\x00\\\\x00\\\\x00\\\\x00\\\\xff\\\\xff\\\\xff\\\\xff\\\\r\\\\x00\\\\x00\\\\x00\\\\xff\\\\xff\\\\xff\\\\xff|\\\\x16\\\\x00%PCR:\\\\x01\\\\x1e%\\\\xff\\\\x00\\\\r\\\\x00\\\\x00\\\\x00\\\\x00\\\\x00\\\\x00\\\\x00\\\\xff\\\\xff\\\\xff\\\\xff\\\\r\\\\x00\\\\x00\\\\x00\\\\xff\\\\xff\\\\xff\\\\xff\\\\x07\\\\x00\\\\x01\\\\x14%1U\\\\xffW \\\\x00\\\\x00'\""
      ]
     },
     "execution_count": 743,
     "metadata": {},
     "output_type": "execute_result"
    }
   ],
   "source": [
    "# read binary data\n",
    "with open(fname,mode='rb') as file:\n",
    "    row_data = file.read()\n",
    "str_row_data=str(row_data)\n",
    "\n",
    "# data mark\n",
    "for num_key in range(0,25):\n",
    "    key = list(dict_pack.keys())[num_key]\n",
    "    header = struct_packing(dict_pack[key][0],dict_pack[key][1])\n",
    "    str_row_data = data_mark(str_row_data,header,key)\n",
    "processed_data = str_row_data\n",
    "processed_data"
   ]
  },
  {
   "cell_type": "markdown",
   "id": "35c8d5ce",
   "metadata": {},
   "source": [
    "15-Oct-12\\\\n\\\\x00\\\\x0525.25\\\\x00\\\\x00\\\\x00\\\\x00\\\\x00\\\\x00\\\\x00\\\\x00\\\\x00\\\\x00\\\\x00\\\\x00\\\\x00\\\\x00\\\\x00\\\\x00\\\\x00:ATR"
   ]
  },
  {
   "cell_type": "code",
   "execution_count": 690,
   "id": "5c93178c",
   "metadata": {},
   "outputs": [],
   "source": [
    "def extract_data(processed_data):\n",
    "    record_type_split = processed_data.split(\"|\")\n",
    "    for data in range(1,len(record_type_split)):\n",
    "        #print(record_type_split[data])\n",
    "        data_extracted = record_type_split[data].split(\"%\")\n",
    "        print(len(data_extracted))\n",
    "        print(data_extracted)\n",
    "    return data_extracted"
   ]
  },
  {
   "cell_type": "code",
   "execution_count": 616,
   "id": "c8d3b0fc",
   "metadata": {},
   "outputs": [
    {
     "name": "stdout",
     "output_type": "stream",
     "text": [
      "3\n",
      "['\\\\x02\\\\x00', 'FAR', '\\\\x02\\\\']\n",
      "3\n",
      "['x04y\\\\x00', 'ATR', '\\\\xf8T\\\\xffWtdataformatter tester config; Ver: SmarTest s/w rev. 7.1.4.3 (E), 15-Oct-12; dataformatter 2.0.9 Oct 15 2012 18:37:15']\n",
      "3\n",
      "['\\\\x82\\\\x00', 'MIR', '\\\\xeaT\\\\xffW\\\\xf8T\\\\xffW\\\\x01 N \\\\xff\\\\xff \\\\x011\\\\x00\\\\x15localhost.localdomain\\\\t93000-SOC\\\\x05cp_32\\\\x00\\\\x00\\\\x07vincent\\\\x0593000 s/w rev. 7.1.4.3 (E), ']\n",
      "3\n",
      "['15-Oct-1', 'GDR', '\\\\x00\\\\x0525.25\\\\x00\\\\x00\\\\x00\\\\x00\\\\x00\\\\x00\\\\x00\\\\x00\\\\x00\\\\x00\\\\x00\\\\x00\\\\x00\\\\x00\\\\x00']\n",
      "2\n",
      "['\\\\x00\\\\x00', '']\n",
      "4\n",
      "['ATR', '\\\\x00', 'SDR', '\\\\x01\\\\x02\\\\x01\\\\x01\\\\x00\\\\x00\\\\x00\\\\x00\\\\x00\\\\x00\\\\x00\\\\x00\\\\x00\\\\x00\\\\x00\\\\x00\\\\x00\\\\x00\\\\x00\\\\x00']\n",
      "3\n",
      "['\\\\x12\\\\x00', 'PMR', '\\\\x01\\\\x00\\\\x01\\\\x00\\\\x03Xin\\\\x0510101\\\\x011\\\\x01\\\\x01']\n",
      "3\n",
      "['\\\\x13\\\\x00', 'PMR', '\\\\x02\\\\x00\\\\x02\\\\x00\\\\x04Xout\\\\']\n",
      "3\n",
      "['x0510102', 'SBR', '\\\\x01\\\\x01']\n",
      "3\n",
      "['\\\\x0e\\\\x00', 'PMR', '\\\\x03\\\\x00\\\\x00\\\\x00\\\\x03VCC\\\\x0211']\n",
      "2\n",
      "['\\\\x00\\\\x01', '']\n",
      "4\n",
      "['MRR', '\\\\x00', 'WCR', '\\\\x00\\\\x00\\\\x00\\\\x00\\\\x00\\\\x00\\\\x00\\\\x00\\\\x00\\\\x00\\\\x00\\\\x00\\\\x00 \\\\x00\\\\x80\\\\x00\\\\x80  ']\n",
      "3\n",
      "['\\\\x07\\\\x00', 'WIR', '\\\\x01\\\\x02\\\\xf8T\\\\xffW\\\\x00']\n",
      "3\n",
      "['\\\\x02\\\\x00', 'PIR', '\\\\x01\\\\x01']\n",
      "3\n",
      "['\\\\x12\\\\x00', 'PMR', '\\\\x01\\\\x00\\\\x01\\\\x00\\\\x03Xin\\\\x0510101\\\\x011\\\\x01\\\\x01']\n",
      "3\n",
      "['\\\\x13\\\\x00', 'PMR', '\\\\x02\\\\x00\\\\x02\\\\x00\\\\x04Xout\\\\']\n",
      "3\n",
      "['x0510102', 'SBR', '\\\\x01\\\\x01']\n",
      "3\n",
      "['\\\\x0e\\\\x00', 'PMR', '\\\\x03\\\\x00\\\\x00\\\\x00\\\\x03VCC\\\\x0211\\\\x00\\\\x01\\\\x01']\n",
      "3\n",
      "['\\\\x1a\\\\x00', 'PRR', '\\\\x01\\\\x01\\\\x00\\\\x00\\\\x00\\\\x01\\\\x00\\\\x01\\\\x00\\\\xfb\\\\xff\\\\xfc\\\\xff\\\\x03\\\\x02\\\\x00\\\\x00\\\\x011\\\\x050.000\\\\x00']\n",
      "3\n",
      "['\\\\x02\\\\x00', 'PIR', '\\\\x01\\\\x01']\n",
      "3\n",
      "['\\\\x1a\\\\x00', 'PRR', '\\\\x01\\\\x01\\\\x00\\\\x00\\\\x00\\\\x01\\\\x00\\\\x01\\\\x00\\\\xff\\\\xff\\\\xfc\\\\xff\\\\x01\\\\x00']\n",
      "3\n",
      "['\\\\x00\\\\x00', 'SBR', '\\\\x051.750\\\\x00']\n",
      "3\n",
      "['\\\\x02\\\\x00', 'PIR', '\\\\x01\\\\x01']\n",
      "3\n",
      "['\\\\x1a\\\\x00', 'PRR', '\\\\x01\\\\x01\\\\x00\\\\x00\\\\x00\\\\x01\\\\x00\\\\x01\\\\x00\\\\x04\\\\x00\\\\xfc\\\\xff\\\\x01\\\\x00\\\\x00\\\\x00\\\\x013\\\\x052.201\\\\x00']\n",
      "3\n",
      "['\\\\x02\\\\x00', 'PIR', '\\\\x01\\\\x01']\n",
      "3\n",
      "['\\\\x1a\\\\x00', 'PRR', '\\\\x01\\\\x01\\\\x00\\\\x00\\\\x00\\\\x01\\\\x00\\\\x01\\\\x00\\\\x06\\\\x00\\\\xfc\\\\xff\\\\x01\\\\x00\\\\x00\\\\x00\\\\x014\\\\x052.803\\\\x00']\n",
      "3\n",
      "['\\\\x02\\\\x00', 'PIR', '\\\\x01\\\\x01']\n",
      "3\n",
      "['\\\\x1a\\\\x00', 'PRR', '\\\\x01\\\\x01\\\\x00\\\\x00\\\\x00\\\\x01\\\\x00\\\\x01\\\\x00\\\\x07\\\\x00\\\\xfc\\\\xff\\\\x01\\\\x00\\\\x00\\\\x00\\\\x015\\\\x052.547\\\\x00']\n",
      "3\n",
      "['\\\\x02\\\\x00', 'PIR', '\\\\x01\\\\x01']\n",
      "3\n",
      "['\\\\x1a\\\\x00', 'PRR', '\\\\x01\\\\x01\\\\x00\\\\x00\\\\x00\\\\x01\\\\x00\\\\x01\\\\x00\\\\xf9\\\\xff\\\\xfd\\\\xff\\\\x01\\\\x00\\\\x00\\\\x00\\\\x016\\\\x052.702\\\\x00']\n",
      "3\n",
      "['\\\\x02\\\\x00', 'PIR', '\\\\x01\\\\x01']\n",
      "3\n",
      "['\\\\x1a\\\\x00', 'PRR', '\\\\x01\\\\x01\\\\x00\\\\x00\\\\x00\\\\x01\\\\x00\\\\x01\\\\x00\\\\xfd\\\\xff\\\\xfd\\\\xff\\\\x01\\\\x00\\\\x00\\\\x00\\\\x017\\\\x052.700\\\\x00']\n",
      "3\n",
      "['\\\\x02\\\\x00', 'PIR', '\\\\x01\\\\x01']\n",
      "3\n",
      "['\\\\x1a\\\\x00', 'PRR', '\\\\x01\\\\x01\\\\x00\\\\x00\\\\x00\\\\x01\\\\x00\\\\x01\\\\x00\\\\xfe\\\\xff\\\\xfd\\\\xff\\\\x01\\\\x00\\\\x00\\\\x00\\\\x018\\\\x052.101\\\\x00']\n",
      "3\n",
      "['\\\\x02\\\\x00', 'PIR', '\\\\x01\\\\x01']\n",
      "3\n",
      "['\\\\x1a\\\\x00', 'PRR', '\\\\x01\\\\x01\\\\x00\\\\x00\\\\x00\\\\x01\\\\x00\\\\x01\\\\x00\\\\x03\\\\x00\\\\xfd\\\\xff\\\\x01\\\\x00\\\\x00\\\\x00\\\\x019\\\\x052.600\\\\x00']\n",
      "3\n",
      "['\\\\x02\\\\x00', 'PIR', '\\\\x01\\\\x01']\n",
      "3\n",
      "['\\\\x1b\\\\x00', 'PRR', '\\\\x01\\\\x01\\\\x00\\\\x00\\\\x00\\\\x01\\\\x00\\\\x01\\\\x00\\\\x04\\\\x00\\\\xfd\\\\xff\\\\x01\\\\x00\\\\x00\\\\x00\\\\x0210\\\\x052.765\\\\x00']\n",
      "3\n",
      "['\\\\x02\\\\x00', 'PIR', '\\\\x01\\\\x01']\n",
      "3\n",
      "['\\\\x1b\\\\x00', 'PRR', '\\\\x01\\\\x01\\\\x00\\\\x00\\\\x00\\\\x01\\\\x00\\\\x01\\\\x00\\\\x06\\\\x00\\\\xfd\\\\xff\\\\x01\\\\x00\\\\x00\\\\x00\\\\x0211\\\\x052.704\\\\x00']\n",
      "3\n",
      "['\\\\x02\\\\x00', 'PIR', '\\\\x01\\\\x01']\n",
      "3\n",
      "['\\\\x1b\\\\x00', 'PRR', '\\\\x01\\\\x01\\\\x00\\\\x00\\\\x00\\\\x01\\\\x00\\\\x01\\\\x00\\\\xfa\\\\xff\\\\x00\\\\x00\\\\x01\\\\x00\\\\x00\\\\x00\\\\x0212\\\\x052.802\\\\x00']\n",
      "3\n",
      "['\\\\x02\\\\x00', 'PIR', '\\\\x01\\\\x01']\n",
      "3\n",
      "['\\\\x1b\\\\x00', 'PRR', '\\\\x01\\\\x01\\\\x00\\\\x00\\\\x00\\\\x01\\\\x00\\\\x01\\\\x00\\\\xfc\\\\xff\\\\x00\\\\x00\\\\x01\\\\x00\\\\x00\\\\x00\\\\x0213\\\\x052.304\\\\']\n",
      "3\n",
      "['x00 \\\\x00', 'WRR', '\\\\x01\\\\x021U\\\\xffW\\\\r\\\\x00\\\\x00\\\\x00\\\\x00\\\\x00\\\\x00\\\\x00\\\\xff\\\\xff\\\\xff\\\\xff\\\\r\\\\x00\\\\x00\\\\x00\\\\xff\\\\xff\\\\xff\\\\xff\\\\x00\\\\x00\\\\x00\\\\x00\\\\x00\\\\x00']\n",
      "3\n",
      "['\\\\x0e\\\\x00', 'HBR', '\\\\x01\\\\x01\\\\x01\\\\x00\\\\r\\\\x00\\\\x00\\\\x00P\\\\x04PASS']\n",
      "3\n",
      "['\\\\x0e\\\\x00', 'HBR', '\\\\xff\\\\x00\\\\x01\\\\x00\\\\r\\\\x00\\\\x00\\\\x00P\\\\x04PASS']\n",
      "3\n",
      "['\\\\x0e\\\\x00', 'SBR', '\\\\x01\\\\x01\\\\x01\\\\x00\\\\r\\\\x00\\\\x00\\\\x00P\\\\x04PASS']\n",
      "3\n",
      "['\\\\x0e\\\\x00', 'SBR', '\\\\xff\\\\x00\\\\x01\\\\x00\\\\r\\\\x00\\\\x00\\\\x00P\\\\x04PASS']\n",
      "3\n",
      "['\\\\x16\\\\x00', 'PCR', '\\\\x01\\\\x01\\\\r\\\\x00\\\\x00\\\\x00\\\\x00\\\\x00\\\\x00\\\\x00\\\\xff\\\\xff\\\\xff\\\\xff\\\\r\\\\x00\\\\x00\\\\x00\\\\xff\\\\xff\\\\xff\\\\xff']\n",
      "3\n",
      "['\\\\x16\\\\x00', 'PCR', '\\\\xff\\\\x00\\\\r\\\\x00\\\\x00\\\\x00\\\\x00\\\\x00\\\\x00\\\\x00\\\\xff\\\\xff\\\\xff\\\\xff\\\\r\\\\x00\\\\x00\\\\x00\\\\xff\\\\xff\\\\xff\\\\xff']\n",
      "3\n",
      "['\\\\x07\\\\x00', 'MRR', \"1U\\\\xffW \\\\x00\\\\x00'\"]\n"
     ]
    },
    {
     "data": {
      "text/plain": [
       "['\\\\x07\\\\x00', 'MRR', \"1U\\\\xffW \\\\x00\\\\x00'\"]"
      ]
     },
     "execution_count": 616,
     "metadata": {},
     "output_type": "execute_result"
    }
   ],
   "source": [
    "extracted = extract_data(processed_data)\n",
    "extracted"
   ]
  },
  {
   "cell_type": "code",
   "execution_count": 615,
   "id": "f800a3bd",
   "metadata": {},
   "outputs": [
    {
     "ename": "IndexError",
     "evalue": "list index out of range",
     "output_type": "error",
     "traceback": [
      "\u001b[0;31m---------------------------------------------------------------------------\u001b[0m",
      "\u001b[0;31mIndexError\u001b[0m                                Traceback (most recent call last)",
      "Cell \u001b[0;32mIn[615], line 1\u001b[0m\n\u001b[0;32m----> 1\u001b[0m \u001b[43mextracted\u001b[49m\u001b[43m[\u001b[49m\u001b[38;5;241;43m15\u001b[39;49m\u001b[43m]\u001b[49m\n",
      "\u001b[0;31mIndexError\u001b[0m: list index out of range"
     ]
    }
   ],
   "source": [
    "extracted[15]"
   ]
  },
  {
   "cell_type": "code",
   "execution_count": 434,
   "id": "f05ce2d1",
   "metadata": {},
   "outputs": [
    {
     "data": {
      "text/html": [
       "<div>\n",
       "<style scoped>\n",
       "    .dataframe tbody tr th:only-of-type {\n",
       "        vertical-align: middle;\n",
       "    }\n",
       "\n",
       "    .dataframe tbody tr th {\n",
       "        vertical-align: top;\n",
       "    }\n",
       "\n",
       "    .dataframe thead th {\n",
       "        text-align: right;\n",
       "    }\n",
       "</style>\n",
       "<table border=\"1\" class=\"dataframe\">\n",
       "  <thead>\n",
       "    <tr style=\"text-align: right;\">\n",
       "      <th></th>\n",
       "      <th>0</th>\n",
       "      <th>rec_body</th>\n",
       "      <th>rec_length</th>\n",
       "      <th>rec_type</th>\n",
       "    </tr>\n",
       "  </thead>\n",
       "  <tbody>\n",
       "    <tr>\n",
       "      <th>0</th>\n",
       "      <td>\\x1a\\x00</td>\n",
       "      <td>NaN</td>\n",
       "      <td>NaN</td>\n",
       "      <td>NaN</td>\n",
       "    </tr>\n",
       "    <tr>\n",
       "      <th>1</th>\n",
       "      <td>PRR</td>\n",
       "      <td>NaN</td>\n",
       "      <td>NaN</td>\n",
       "      <td>NaN</td>\n",
       "    </tr>\n",
       "    <tr>\n",
       "      <th>2</th>\n",
       "      <td>\\x01\\x01\\x00\\x00\\x00\\x01\\x00\\x01\\x00\\xfb\\xff\\x...</td>\n",
       "      <td>NaN</td>\n",
       "      <td>NaN</td>\n",
       "      <td>NaN</td>\n",
       "    </tr>\n",
       "  </tbody>\n",
       "</table>\n",
       "</div>"
      ],
      "text/plain": [
       "                                                   0 rec_body rec_length  \\\n",
       "0                                           \\x1a\\x00      NaN        NaN   \n",
       "1                                                PRR      NaN        NaN   \n",
       "2  \\x01\\x01\\x00\\x00\\x00\\x01\\x00\\x01\\x00\\xfb\\xff\\x...      NaN        NaN   \n",
       "\n",
       "  rec_type  \n",
       "0      NaN  \n",
       "1      NaN  \n",
       "2      NaN  "
      ]
     },
     "execution_count": 434,
     "metadata": {},
     "output_type": "execute_result"
    }
   ],
   "source": [
    "df = pd.DataFrame(columns=['rec_length','rec_type','rec_body'])\n",
    "df.append(a)"
   ]
  },
  {
   "cell_type": "code",
   "execution_count": 593,
   "id": "4f26301c",
   "metadata": {},
   "outputs": [],
   "source": [
    "a = [1,2,3]\n",
    "b = [4,5,6]"
   ]
  },
  {
   "cell_type": "code",
   "execution_count": 596,
   "id": "b301cb5d",
   "metadata": {},
   "outputs": [
    {
     "ename": "TypeError",
     "evalue": "'NoneType' object is not iterable",
     "output_type": "error",
     "traceback": [
      "\u001b[0;31m---------------------------------------------------------------------------\u001b[0m",
      "\u001b[0;31mTypeError\u001b[0m                                 Traceback (most recent call last)",
      "Cell \u001b[0;32mIn[596], line 2\u001b[0m\n\u001b[1;32m      1\u001b[0m rec_length \u001b[38;5;241m=\u001b[39m []\n\u001b[0;32m----> 2\u001b[0m \u001b[38;5;28;01mfor\u001b[39;00m line \u001b[38;5;129;01min\u001b[39;00m extracted:\n\u001b[1;32m      3\u001b[0m     \u001b[38;5;28mprint\u001b[39m(line)\n",
      "\u001b[0;31mTypeError\u001b[0m: 'NoneType' object is not iterable"
     ]
    }
   ],
   "source": [
    "rec_length = []\n",
    "for line in extracted:\n",
    "    print(line)"
   ]
  },
  {
   "cell_type": "code",
   "execution_count": null,
   "id": "2b3159cc",
   "metadata": {},
   "outputs": [],
   "source": []
  }
 ],
 "metadata": {
  "kernelspec": {
   "display_name": "Python 3 (ipykernel)",
   "language": "python",
   "name": "python3"
  },
  "language_info": {
   "codemirror_mode": {
    "name": "ipython",
    "version": 3
   },
   "file_extension": ".py",
   "mimetype": "text/x-python",
   "name": "python",
   "nbconvert_exporter": "python",
   "pygments_lexer": "ipython3",
   "version": "3.8.8"
  }
 },
 "nbformat": 4,
 "nbformat_minor": 5
}
