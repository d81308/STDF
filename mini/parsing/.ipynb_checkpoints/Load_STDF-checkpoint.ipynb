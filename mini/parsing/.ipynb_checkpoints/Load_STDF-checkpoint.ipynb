{
 "cells": [
  {
   "cell_type": "code",
   "execution_count": 2,
   "id": "8d65692d",
   "metadata": {},
   "outputs": [],
   "source": [
    "import pandas as pd\n",
    "import binascii"
   ]
  },
  {
   "cell_type": "code",
   "execution_count": 3,
   "id": "067e8793",
   "metadata": {},
   "outputs": [],
   "source": [
    "fname=\"/Users/jianlin/Documents/Project_STDF_wafermap/STDF_data/main_Lot_1_Wafer_1_Oct_13_09h33m41s_STDF.stdf\""
   ]
  },
  {
   "cell_type": "code",
   "execution_count": 923,
   "id": "8196301e",
   "metadata": {},
   "outputs": [
    {
     "data": {
      "text/plain": [
       "\"b'\\\\x02\\\\x00\\\\x00\\\\n\\\\x02\\\\x04y\\\\x00\\\\x00\\\\x14\\\\xf8T\\\\xffWtdataformatter tester config; Ver: SmarTest s/w rev. 7.1.4.3 (E), 15-Oct-12; dataformatter 2.0.9 Oct 15 2012 18:37:15\\\\x82\\\\x00\\\\x01\\\\n\\\\xeaT\\\\xffW\\\\xf8T\\\\xffW\\\\x01 N \\\\xff\\\\xff \\\\x011\\\\x00\\\\x15localhost.localdomain\\\\t93000-SOC\\\\x05cp_32\\\\x00\\\\x00\\\\x07vincent\\\\x0593000 s/w rev. 7.1.4.3 (E), 15-Oct-12\\\\n\\\\x00\\\\x0525.25\\\\x00\\\\x00\\\\x00\\\\x00\\\\x00\\\\x00\\\\x00\\\\x00\\\\x00\\\\x00\\\\x00\\\\x00\\\\x00\\\\x00\\\\x00\\\\x00\\\\x00\\\\x00\\\\x14\\\\x00\\\\x01P\\\\x01\\\\x02\\\\x01\\\\x01\\\\x00\\\\x00\\\\x00\\\\x00\\\\x00\\\\x00\\\\x00\\\\x00\\\\x00\\\\x00\\\\x00\\\\x00\\\\x00\\\\x00\\\\x00\\\\x00\\\\x12\\\\x00\\\\x01<\\\\x01\\\\x00\\\\x01\\\\x00\\\\x03Xin\\\\x0510101\\\\x011\\\\x01\\\\x01\\\\x13\\\\x00\\\\x01<\\\\x02\\\\x00\\\\x02\\\\x00\\\\x04Xout\\\\x0510102\\\\x012\\\\x01\\\\x01\\\\x0e\\\\x00\\\\x01<\\\\x03\\\\x00\\\\x00\\\\x00\\\\x03VCC\\\\x0211\\\\x00\\\\x01\\\\x01\\\\x14\\\\x00\\\\x02\\\\x1e\\\\x00\\\\x00\\\\x00\\\\x00\\\\x00\\\\x00\\\\x00\\\\x00\\\\x00\\\\x00\\\\x00\\\\x00\\\\x00 \\\\x00\\\\x80\\\\x00\\\\x80  \\\\x07\\\\x00\\\\x02\\\\n\\\\x01\\\\x02\\\\xf8T\\\\xffW\\\\x00\\\\x02\\\\x00\\\\x05\\\\n\\\\x01\\\\x01\\\\x12\\\\x00\\\\x01<\\\\x01\\\\x00\\\\x01\\\\x00\\\\x03Xin\\\\x0510101\\\\x011\\\\x01\\\\x01\\\\x13\\\\x00\\\\x01<\\\\x02\\\\x00\\\\x02\\\\x00\\\\x04Xout\\\\x0510102\\\\x012\\\\x01\\\\x01\\\\x0e\\\\x00\\\\x01<\\\\x03\\\\x00\\\\x00\\\\x00\\\\x03VCC\\\\x0211\\\\x00\\\\x01\\\\x01\\\\x1a\\\\x00\\\\x05\\\\x14\\\\x01\\\\x01\\\\x00\\\\x00\\\\x00\\\\x01\\\\x00\\\\x01\\\\x00\\\\xfb\\\\xff\\\\xfc\\\\xff\\\\x03\\\\x02\\\\x00\\\\x00\\\\x011\\\\x050.000\\\\x00\\\\x02\\\\x00\\\\x05\\\\n\\\\x01\\\\x01\\\\x1a\\\\x00\\\\x05\\\\x14\\\\x01\\\\x01\\\\x00\\\\x00\\\\x00\\\\x01\\\\x00\\\\x01\\\\x00\\\\xff\\\\xff\\\\xfc\\\\xff\\\\x01\\\\x00\\\\x00\\\\x00\\\\x012\\\\x051.750\\\\x00\\\\x02\\\\x00\\\\x05\\\\n\\\\x01\\\\x01\\\\x1a\\\\x00\\\\x05\\\\x14\\\\x01\\\\x01\\\\x00\\\\x00\\\\x00\\\\x01\\\\x00\\\\x01\\\\x00\\\\x04\\\\x00\\\\xfc\\\\xff\\\\x01\\\\x00\\\\x00\\\\x00\\\\x013\\\\x052.201\\\\x00\\\\x02\\\\x00\\\\x05\\\\n\\\\x01\\\\x01\\\\x1a\\\\x00\\\\x05\\\\x14\\\\x01\\\\x01\\\\x00\\\\x00\\\\x00\\\\x01\\\\x00\\\\x01\\\\x00\\\\x06\\\\x00\\\\xfc\\\\xff\\\\x01\\\\x00\\\\x00\\\\x00\\\\x014\\\\x052.803\\\\x00\\\\x02\\\\x00\\\\x05\\\\n\\\\x01\\\\x01\\\\x1a\\\\x00\\\\x05\\\\x14\\\\x01\\\\x01\\\\x00\\\\x00\\\\x00\\\\x01\\\\x00\\\\x01\\\\x00\\\\x07\\\\x00\\\\xfc\\\\xff\\\\x01\\\\x00\\\\x00\\\\x00\\\\x015\\\\x052.547\\\\x00\\\\x02\\\\x00\\\\x05\\\\n\\\\x01\\\\x01\\\\x1a\\\\x00\\\\x05\\\\x14\\\\x01\\\\x01\\\\x00\\\\x00\\\\x00\\\\x01\\\\x00\\\\x01\\\\x00\\\\xf9\\\\xff\\\\xfd\\\\xff\\\\x01\\\\x00\\\\x00\\\\x00\\\\x016\\\\x052.702\\\\x00\\\\x02\\\\x00\\\\x05\\\\n\\\\x01\\\\x01\\\\x1a\\\\x00\\\\x05\\\\x14\\\\x01\\\\x01\\\\x00\\\\x00\\\\x00\\\\x01\\\\x00\\\\x01\\\\x00\\\\xfd\\\\xff\\\\xfd\\\\xff\\\\x01\\\\x00\\\\x00\\\\x00\\\\x017\\\\x052.700\\\\x00\\\\x02\\\\x00\\\\x05\\\\n\\\\x01\\\\x01\\\\x1a\\\\x00\\\\x05\\\\x14\\\\x01\\\\x01\\\\x00\\\\x00\\\\x00\\\\x01\\\\x00\\\\x01\\\\x00\\\\xfe\\\\xff\\\\xfd\\\\xff\\\\x01\\\\x00\\\\x00\\\\x00\\\\x018\\\\x052.101\\\\x00\\\\x02\\\\x00\\\\x05\\\\n\\\\x01\\\\x01\\\\x1a\\\\x00\\\\x05\\\\x14\\\\x01\\\\x01\\\\x00\\\\x00\\\\x00\\\\x01\\\\x00\\\\x01\\\\x00\\\\x03\\\\x00\\\\xfd\\\\xff\\\\x01\\\\x00\\\\x00\\\\x00\\\\x019\\\\x052.600\\\\x00\\\\x02\\\\x00\\\\x05\\\\n\\\\x01\\\\x01\\\\x1b\\\\x00\\\\x05\\\\x14\\\\x01\\\\x01\\\\x00\\\\x00\\\\x00\\\\x01\\\\x00\\\\x01\\\\x00\\\\x04\\\\x00\\\\xfd\\\\xff\\\\x01\\\\x00\\\\x00\\\\x00\\\\x0210\\\\x052.765\\\\x00\\\\x02\\\\x00\\\\x05\\\\n\\\\x01\\\\x01\\\\x1b\\\\x00\\\\x05\\\\x14\\\\x01\\\\x01\\\\x00\\\\x00\\\\x00\\\\x01\\\\x00\\\\x01\\\\x00\\\\x06\\\\x00\\\\xfd\\\\xff\\\\x01\\\\x00\\\\x00\\\\x00\\\\x0211\\\\x052.704\\\\x00\\\\x02\\\\x00\\\\x05\\\\n\\\\x01\\\\x01\\\\x1b\\\\x00\\\\x05\\\\x14\\\\x01\\\\x01\\\\x00\\\\x00\\\\x00\\\\x01\\\\x00\\\\x01\\\\x00\\\\xfa\\\\xff\\\\x00\\\\x00\\\\x01\\\\x00\\\\x00\\\\x00\\\\x0212\\\\x052.802\\\\x00\\\\x02\\\\x00\\\\x05\\\\n\\\\x01\\\\x01\\\\x1b\\\\x00\\\\x05\\\\x14\\\\x01\\\\x01\\\\x00\\\\x00\\\\x00\\\\x01\\\\x00\\\\x01\\\\x00\\\\xfc\\\\xff\\\\x00\\\\x00\\\\x01\\\\x00\\\\x00\\\\x00\\\\x0213\\\\x052.304\\\\x00 \\\\x00\\\\x02\\\\x14\\\\x01\\\\x021U\\\\xffW\\\\r\\\\x00\\\\x00\\\\x00\\\\x00\\\\x00\\\\x00\\\\x00\\\\xff\\\\xff\\\\xff\\\\xff\\\\r\\\\x00\\\\x00\\\\x00\\\\xff\\\\xff\\\\xff\\\\xff\\\\x00\\\\x00\\\\x00\\\\x00\\\\x00\\\\x00\\\\x0e\\\\x00\\\\x01(\\\\x01\\\\x01\\\\x01\\\\x00\\\\r\\\\x00\\\\x00\\\\x00P\\\\x04PASS\\\\x0e\\\\x00\\\\x01(\\\\xff\\\\x00\\\\x01\\\\x00\\\\r\\\\x00\\\\x00\\\\x00P\\\\x04PASS\\\\x0e\\\\x00\\\\x012\\\\x01\\\\x01\\\\x01\\\\x00\\\\r\\\\x00\\\\x00\\\\x00P\\\\x04PASS\\\\x0e\\\\x00\\\\x012\\\\xff\\\\x00\\\\x01\\\\x00\\\\r\\\\x00\\\\x00\\\\x00P\\\\x04PASS\\\\x16\\\\x00\\\\x01\\\\x1e\\\\x01\\\\x01\\\\r\\\\x00\\\\x00\\\\x00\\\\x00\\\\x00\\\\x00\\\\x00\\\\xff\\\\xff\\\\xff\\\\xff\\\\r\\\\x00\\\\x00\\\\x00\\\\xff\\\\xff\\\\xff\\\\xff\\\\x16\\\\x00\\\\x01\\\\x1e\\\\xff\\\\x00\\\\r\\\\x00\\\\x00\\\\x00\\\\x00\\\\x00\\\\x00\\\\x00\\\\xff\\\\xff\\\\xff\\\\xff\\\\r\\\\x00\\\\x00\\\\x00\\\\xff\\\\xff\\\\xff\\\\xff\\\\x07\\\\x00\\\\x01\\\\x141U\\\\xffW \\\\x00\\\\x00'\""
      ]
     },
     "execution_count": 923,
     "metadata": {},
     "output_type": "execute_result"
    }
   ],
   "source": [
    "with open(fname,mode='rb') as file:\n",
    "    row_data = file.read()\n",
    "str_row_data=str(row_data)\n",
    "str_row_data"
   ]
  },
  {
   "cell_type": "markdown",
   "id": "a7b081dc",
   "metadata": {},
   "source": [
    "# Dict for convert"
   ]
  },
  {
   "cell_type": "code",
   "execution_count": 155,
   "id": "81d157b5",
   "metadata": {},
   "outputs": [
    {
     "data": {
      "text/plain": [
       "'B'"
      ]
     },
     "execution_count": 155,
     "metadata": {},
     "output_type": "execute_result"
    }
   ],
   "source": [
    "dict_code_ctype = {\n",
    "    \"U1\": \"B\",\n",
    "    \"U2\": \"H\",\n",
    "    \"U4\": \"I\",\n",
    "    \"U8\": \"Q\",\n",
    "    \"I1\": \"b\",\n",
    "    \"I2\": \"h\",\n",
    "    \"I4\": \"i\",\n",
    "    \"I8\": \"q\",\n",
    "    \"R4\": \"f\",\n",
    "    \"R8\": \"d\",\n",
    "    \"B1\": \"B\",\n",
    "    \"C1\": \"c\",\n",
    "    \"N1\": \"B\"\n",
    "}\n",
    "dict_code_ctype['U1']"
   ]
  },
  {
   "cell_type": "code",
   "execution_count": null,
   "id": "6c6ee1c6",
   "metadata": {},
   "outputs": [],
   "source": [
    "dict_header_grep = {\n",
    "    'FAR':'x02\\x00\\x00\\n',\n",
    "    'ATR':''\n",
    "}"
   ]
  },
  {
   "cell_type": "markdown",
   "id": "0e3c4869",
   "metadata": {},
   "source": [
    "# Filter Method"
   ]
  },
  {
   "cell_type": "code",
   "execution_count": 261,
   "id": "648b040c",
   "metadata": {},
   "outputs": [
    {
     "data": {
      "text/plain": [
       "5"
      ]
     },
     "execution_count": 261,
     "metadata": {},
     "output_type": "execute_result"
    }
   ],
   "source": [
    "dict_pack = {\n",
    "    'FAR':[0,10],\n",
    "    'ATR':[0,20],\n",
    "    'MIR':[1,10],\n",
    "    'MRR':[1,20],\n",
    "    'PCR':[1,30],\n",
    "    'HBR':[1,40],\n",
    "    'SBR':[1,50],\n",
    "    'PMR':[1,60],\n",
    "    'PGR':[1,62],\n",
    "    'PLR':[1,63],\n",
    "    'RDR':[1,70],\n",
    "    'SDR':[1,80],\n",
    "    'WIR':[2,10],\n",
    "    'WRR':[2,20],\n",
    "    'WCR':[2,30],\n",
    "    'PIR':[5,10],\n",
    "    'PRR':[5,20],\n",
    "    'TSR':[10,30],\n",
    "    'PTR':[15,10],\n",
    "    'MPR':[15,15],\n",
    "    'FTR':[15,20],\n",
    "    'BPS':[20,10],\n",
    "    'EPS':[20,20],\n",
    "    'GDR':[50,10],\n",
    "    'DTR':[50,30]\n",
    "}\n",
    "dict_pack['PRR'][0]"
   ]
  },
  {
   "cell_type": "code",
   "execution_count": 944,
   "id": "3b5dc008",
   "metadata": {},
   "outputs": [],
   "source": [
    "def struct_packing(rtype,subtype):\n",
    "    packing = str(struct.pack(\"BB\",rtype,subtype))\n",
    "    return packing[2:len(packing)-1]\n",
    "\n",
    "def data_mark(string_row_data,key_header,key):\n",
    "    key_list = string_row_data.split(key_header)    #will cut key_header\n",
    "    group_count = 0\n",
    "    group_count_2 = 0\n",
    "    \n",
    "    for num in range(0, len(key_list)-1):\n",
    "        group_count = group_count + len(key_list[num])\n",
    "\n",
    "        #out of range\n",
    "        if debug_by_positionrule(key,group_count)==0:\n",
    "            pass\n",
    "        #in rule\n",
    "        else:\n",
    "            key_list[num] = key_list[num][:len(key_list[num])-8] + \"|\" + key_list[num][len(key_list[num])-8:]\n",
    "    for num in range(0, len(key_list)-1):\n",
    "        group_count_2 = group_count_2 + len(key_list[num])\n",
    "        \n",
    "        print(key,group_count_2,debug_by_positionrule(key,group_count_2))\n",
    "        \n",
    "        #out of range\n",
    "        if debug_by_positionrule(key,group_count_2)==0:\n",
    "            key_list[num] = key_list[num]+key_header\n",
    "            \n",
    "        #in rule\n",
    "        else:\n",
    "            key_list[num] = key_list[num]+\"%\"+key+\":\"+key_header\n",
    "    \n",
    "    \n",
    "    return \"%\".join(key_list)\n",
    "\n",
    "def debug_by_positionrule(key_judge,group_count):\n",
    "    #position locate\n",
    "    dict_position = {}\n",
    "\n",
    "    for key in dict_pack.keys():\n",
    "        header = struct_packing(dict_pack[key][0],dict_pack[key][1])\n",
    "        group_list = str_row_data.split(header)\n",
    "        group_count = 0\n",
    "        dict_position[key]=[]\n",
    "        for num in range(0, len(group_list)-1):\n",
    "            group_count = group_count + len(group_list[num])\n",
    "            dict_position[key].append(group_count)\n",
    "    \n",
    "    ##fail\n",
    "    #ATR:bewteen FAR,MIR\n",
    "    if (key_judge=='ATR' and group_count > dict_position['ATR'][0]):\n",
    "        return 0\n",
    "    #SBR:after HBR\n",
    "    elif (key_judge=='SBR' and group_count < dict_position['HBR'][0]):\n",
    "        return 0\n",
    "    #PIR:after PRR\n",
    "    elif (key_judge=='PIR' and group_count < dict_position['PRR'][0]):\n",
    "        print(group_count,dict_position['PRR'][0])\n",
    "        return 0\n",
    "    #MRR:need last\n",
    "    elif (key_judge=='MRR' and group_count < dict_position['PCR'][0]):\n",
    "        return 0\n",
    "    ##pass\n",
    "    else:\n",
    "        return 1 \n"
   ]
  },
  {
   "cell_type": "code",
   "execution_count": 736,
   "id": "c45b23fe",
   "metadata": {},
   "outputs": [],
   "source": [
    "def data_mark(string_row_data,key_header,key):\n",
    "    key_list = string_row_data.split(key_header)\n",
    "    for num in range(0, len(key_list)-1):\n",
    "        key_list[num] = key_list[num][:len(key_list[0])-8] + \"|\" + key_list[0][len(key_list[0])-8:]\n",
    "    for num in range(0, len(key_list)-1):\n",
    "        key_list[num] = key_list[num]+\":\"+key\n",
    "    return \":\".join(key_list)"
   ]
  },
  {
   "cell_type": "code",
   "execution_count": 783,
   "id": "d4998cba",
   "metadata": {},
   "outputs": [
    {
     "data": {
      "text/plain": [
       "'\\\\x012'"
      ]
     },
     "execution_count": 783,
     "metadata": {},
     "output_type": "execute_result"
    }
   ],
   "source": [
    "struct_packing(1,50)"
   ]
  },
  {
   "cell_type": "code",
   "execution_count": 921,
   "id": "2c5ad86f",
   "metadata": {},
   "outputs": [
    {
     "name": "stdout",
     "output_type": "stream",
     "text": [
      "\\x00\\n\n",
      "\\x00\\x14\n",
      "\\x01\\n\n",
      "\\x01\\x14\n",
      "\\x01\\x1e\n",
      "\\x01(\n",
      "\\x012\n",
      "\\x01<\n",
      "\\x01>\n",
      "\\x01?\n",
      "\\x01F\n",
      "\\x01P\n",
      "\\x02\\n\n",
      "\\x02\\x14\n",
      "\\x02\\x1e\n",
      "\\x05\\n\n",
      "\\x05\\x14\n",
      "\\n\\x1e\n",
      "\\x0f\\n\n",
      "\\x0f\\x0f\n",
      "\\x0f\\x14\n",
      "\\x14\\n\n",
      "\\x14\\x14\n",
      "2\\n\n",
      "2\\x1e\n",
      "{'FAR': [10], 'ATR': [29, 403], 'MIR': [172], 'MRR': [675, 3125], 'PCR': [2933, 3025], 'HBR': [2725, 2772], 'SBR': [612, 923, 1193, 2814, 2861], 'PMR': [516, 569, 623, 817, 870, 924], 'PGR': [], 'PLR': [], 'RDR': [], 'SDR': [423], 'WIR': [774], 'WRR': [2594], 'WCR': [687], 'PIR': [810, 1099, 1217, 1335, 1453, 1571, 1689, 1807, 1925, 2043, 2162, 2281, 2400], 'PRR': [1003, 1119, 1235, 1351, 1467, 1583, 1699, 1815, 1931, 2047, 2164, 2281, 2398], 'TSR': [], 'PTR': [], 'MPR': [], 'FTR': [], 'BPS': [], 'EPS': [], 'GDR': [327, 774], 'DTR': [690]}\n"
     ]
    }
   ],
   "source": [
    "debug_by_positionrule('SBR',400)"
   ]
  },
  {
   "cell_type": "code",
   "execution_count": 945,
   "id": "dad2d903",
   "metadata": {},
   "outputs": [
    {
     "name": "stdout",
     "output_type": "stream",
     "text": [
      "FAR 11 1\n",
      "ATR 36 0\n",
      "ATR 374 0\n",
      "MIR 181 1\n",
      "MRR 691 0\n",
      "MRR 2450 0\n",
      "PCR 2951 1\n",
      "PCR 93 1\n",
      "HBR 2743 1\n",
      "HBR 48 1\n",
      "SBR 628 0\n",
      "SBR 312 0\n",
      "SBR 270 0\n",
      "SBR 1635 0\n",
      "SBR 47 0\n",
      "PMR 533 1\n",
      "PMR 54 1\n",
      "PMR 56 1\n",
      "PMR 196 1\n",
      "PMR 54 1\n",
      "PMR 56 1\n",
      "SDR 440 1\n",
      "WIR 821 1\n",
      "WRR 2671 1\n",
      "WCR 734 1\n",
      "690 1003\n",
      "690 1003\n",
      "690 1003\n",
      "690 1003\n",
      "690 1003\n",
      "690 1003\n",
      "690 1003\n",
      "690 1003\n",
      "690 1003\n",
      "690 1003\n",
      "690 1003\n",
      "690 1003\n",
      "690 1003\n",
      "690 1003\n",
      "PIR 870 0\n",
      "690 1003\n",
      "690 1003\n",
      "PIR 311 0\n",
      "690 1003\n",
      "690 1003\n",
      "PIR 119 0\n",
      "690 1003\n",
      "690 1003\n",
      "PIR 118 0\n",
      "690 1003\n",
      "690 1003\n",
      "PIR 118 0\n",
      "690 1003\n",
      "690 1003\n",
      "PIR 118 0\n",
      "690 1003\n",
      "690 1003\n",
      "PIR 118 0\n",
      "690 1003\n",
      "690 1003\n",
      "PIR 118 0\n",
      "690 1003\n",
      "690 1003\n",
      "PIR 118 0\n",
      "690 1003\n",
      "690 1003\n",
      "PIR 118 0\n",
      "690 1003\n",
      "690 1003\n",
      "PIR 119 0\n",
      "690 1003\n",
      "690 1003\n",
      "PIR 119 0\n",
      "690 1003\n",
      "690 1003\n",
      "PIR 119 0\n",
      "690 1003\n",
      "PRR 1087 1\n",
      "PRR 118 1\n",
      "PRR 119 1\n",
      "PRR 118 1\n",
      "PRR 118 1\n",
      "PRR 118 1\n",
      "PRR 118 1\n",
      "PRR 118 1\n",
      "PRR 118 1\n",
      "PRR 118 1\n",
      "PRR 119 1\n",
      "PRR 119 1\n",
      "PRR 119 1\n",
      "GDR 343 1\n",
      "GDR 492 1\n",
      "DTR 750 1\n"
     ]
    },
    {
     "data": {
      "text/plain": [
       "\"b'|\\\\x02\\\\x00%FAR:\\\\x00\\\\n%\\\\x02\\\\x04y\\\\x00\\\\x00\\\\x14%\\\\xf8T\\\\xffWtdataformatter tester config; Ver: SmarTest s/w rev. 7.1.4.3 (E), 15-Oct-12; dataformatter 2.0.9 Oct 15 2012 18:37:15|\\\\x82\\\\x00%MIR:\\\\x01\\\\n%\\\\xeaT\\\\xffW\\\\xf8T\\\\xffW\\\\x01 N \\\\xff\\\\xff \\\\x011\\\\x00\\\\x15localhost.localdomain\\\\t93000-SOC\\\\x05cp_32\\\\x00\\\\x00\\\\x07vincent\\\\x0593000 s/w rev. 7.1.4.3 (E), |15-Oct-1%GDR:2\\\\n%\\\\x00\\\\x0525.25\\\\x00\\\\x00\\\\x00\\\\x00\\\\x00\\\\x00\\\\x00\\\\x00\\\\x00\\\\x00\\\\x00\\\\x00\\\\x00\\\\x00\\\\x00\\\\x00\\\\x00\\\\x00\\\\|x14%\\\\x00%SDR:\\\\x01P%\\\\x01\\\\x02\\\\x01\\\\x01\\\\x00\\\\x00\\\\x00\\\\x00\\\\x00\\\\x00\\\\x00\\\\x00\\\\x00\\\\x00\\\\x00\\\\x00\\\\x00\\\\x00\\\\x00\\\\x00|\\\\x12\\\\x00%PMR:\\\\x01<%\\\\x01\\\\x00\\\\x01\\\\x00\\\\x03Xin\\\\x0510101\\\\x011\\\\x01\\\\x01|\\\\x13\\\\x00%PMR:\\\\x01<%\\\\x02\\\\x00\\\\x02\\\\x00\\\\x04Xout\\\\x0510102\\\\x012%\\\\x01\\\\x01|\\\\x0e\\\\x00%PMR:\\\\x01<%\\\\x03\\\\x00\\\\x00\\\\x00\\\\x03VCC\\\\x0211\\\\x00\\\\x01\\\\x01\\\\|x14%\\\\x00|%WCR:\\\\x0%DTR:2\\\\x1e%%\\\\x00\\\\x00\\\\x00\\\\x00\\\\x00\\\\x00\\\\x00\\\\x00\\\\x00\\\\x00\\\\x00\\\\x00\\\\x00 \\\\x00\\\\x80\\\\x00\\\\x80  |\\\\x07\\\\x00|%WIR:\\\\x0%GDR:2\\\\n%%\\\\x01\\\\x02\\\\xf8T\\\\xffW\\\\x00\\\\x02\\\\x00\\\\x05\\\\n%\\\\x01\\\\x01|\\\\x12\\\\x00%PMR:\\\\x01<%\\\\x01\\\\x00\\\\x01\\\\x00\\\\x03Xin\\\\x0510101\\\\x011\\\\x01\\\\x01|\\\\x13\\\\x00%PMR:\\\\x01<%\\\\x02\\\\x00\\\\x02\\\\x00\\\\x04Xout\\\\x0510102\\\\x012%\\\\x01\\\\x01|\\\\x0e\\\\x00%PMR:\\\\x01<%\\\\x03\\\\x00\\\\x00\\\\x00\\\\x03VCC\\\\x0211\\\\x00\\\\x01\\\\x01|\\\\x1a\\\\x00%PRR:\\\\x05\\\\x14%\\\\x01\\\\x01\\\\x00\\\\x00\\\\x00\\\\x01\\\\x00\\\\x01\\\\x00\\\\xfb\\\\xff\\\\xfc\\\\xff\\\\x03\\\\x02\\\\x00\\\\x00\\\\x011\\\\x050.000\\\\x00\\\\x02\\\\x00\\\\x05\\\\n%\\\\x01\\\\x01|\\\\x1a\\\\x00%PRR:\\\\x05\\\\x14%\\\\x01\\\\x01\\\\x00\\\\x00\\\\x00\\\\x01\\\\x00\\\\x01\\\\x00\\\\xff\\\\xff\\\\xfc\\\\xff\\\\x01\\\\x00\\\\x00\\\\x00\\\\x012%\\\\x051.750\\\\x00\\\\x02\\\\x00\\\\x05\\\\n%\\\\x01\\\\x01|\\\\x1a\\\\x00%PRR:\\\\x05\\\\x14%\\\\x01\\\\x01\\\\x00\\\\x00\\\\x00\\\\x01\\\\x00\\\\x01\\\\x00\\\\x04\\\\x00\\\\xfc\\\\xff\\\\x01\\\\x00\\\\x00\\\\x00\\\\x013\\\\x052.201\\\\x00\\\\x02\\\\x00\\\\x05\\\\n%\\\\x01\\\\x01|\\\\x1a\\\\x00%PRR:\\\\x05\\\\x14%\\\\x01\\\\x01\\\\x00\\\\x00\\\\x00\\\\x01\\\\x00\\\\x01\\\\x00\\\\x06\\\\x00\\\\xfc\\\\xff\\\\x01\\\\x00\\\\x00\\\\x00\\\\x014\\\\x052.803\\\\x00\\\\x02\\\\x00\\\\x05\\\\n%\\\\x01\\\\x01|\\\\x1a\\\\x00%PRR:\\\\x05\\\\x14%\\\\x01\\\\x01\\\\x00\\\\x00\\\\x00\\\\x01\\\\x00\\\\x01\\\\x00\\\\x07\\\\x00\\\\xfc\\\\xff\\\\x01\\\\x00\\\\x00\\\\x00\\\\x015\\\\x052.547\\\\x00\\\\x02\\\\x00\\\\x05\\\\n%\\\\x01\\\\x01|\\\\x1a\\\\x00%PRR:\\\\x05\\\\x14%\\\\x01\\\\x01\\\\x00\\\\x00\\\\x00\\\\x01\\\\x00\\\\x01\\\\x00\\\\xf9\\\\xff\\\\xfd\\\\xff\\\\x01\\\\x00\\\\x00\\\\x00\\\\x016\\\\x052.702\\\\x00\\\\x02\\\\x00\\\\x05\\\\n%\\\\x01\\\\x01|\\\\x1a\\\\x00%PRR:\\\\x05\\\\x14%\\\\x01\\\\x01\\\\x00\\\\x00\\\\x00\\\\x01\\\\x00\\\\x01\\\\x00\\\\xfd\\\\xff\\\\xfd\\\\xff\\\\x01\\\\x00\\\\x00\\\\x00\\\\x017\\\\x052.700\\\\x00\\\\x02\\\\x00\\\\x05\\\\n%\\\\x01\\\\x01|\\\\x1a\\\\x00%PRR:\\\\x05\\\\x14%\\\\x01\\\\x01\\\\x00\\\\x00\\\\x00\\\\x01\\\\x00\\\\x01\\\\x00\\\\xfe\\\\xff\\\\xfd\\\\xff\\\\x01\\\\x00\\\\x00\\\\x00\\\\x018\\\\x052.101\\\\x00\\\\x02\\\\x00\\\\x05\\\\n%\\\\x01\\\\x01|\\\\x1a\\\\x00%PRR:\\\\x05\\\\x14%\\\\x01\\\\x01\\\\x00\\\\x00\\\\x00\\\\x01\\\\x00\\\\x01\\\\x00\\\\x03\\\\x00\\\\xfd\\\\xff\\\\x01\\\\x00\\\\x00\\\\x00\\\\x019\\\\x052.600\\\\x00\\\\x02\\\\x00\\\\x05\\\\n%\\\\x01\\\\x01|\\\\x1b\\\\x00%PRR:\\\\x05\\\\x14%\\\\x01\\\\x01\\\\x00\\\\x00\\\\x00\\\\x01\\\\x00\\\\x01\\\\x00\\\\x04\\\\x00\\\\xfd\\\\xff\\\\x01\\\\x00\\\\x00\\\\x00\\\\x0210\\\\x052.765\\\\x00\\\\x02\\\\x00\\\\x05\\\\n%\\\\x01\\\\x01|\\\\x1b\\\\x00%PRR:\\\\x05\\\\x14%\\\\x01\\\\x01\\\\x00\\\\x00\\\\x00\\\\x01\\\\x00\\\\x01\\\\x00\\\\x06\\\\x00\\\\xfd\\\\xff\\\\x01\\\\x00\\\\x00\\\\x00\\\\x0211\\\\x052.704\\\\x00\\\\x02\\\\x00\\\\x05\\\\n%\\\\x01\\\\x01|\\\\x1b\\\\x00%PRR:\\\\x05\\\\x14%\\\\x01\\\\x01\\\\x00\\\\x00\\\\x00\\\\x01\\\\x00\\\\x01\\\\x00\\\\xfa\\\\xff\\\\x00\\\\x00\\\\x01\\\\x00\\\\x00\\\\x00\\\\x0212\\\\x052.802\\\\x00\\\\x02\\\\x00\\\\x05\\\\n%\\\\x01\\\\x01|\\\\x1b\\\\x00%PRR:\\\\x05\\\\x14%\\\\x01\\\\x01\\\\x00\\\\x00\\\\x00\\\\x01\\\\x00\\\\x01\\\\x00\\\\xfc\\\\xff\\\\x00\\\\x00\\\\x01\\\\x00\\\\x00\\\\x00\\\\x0213\\\\x052.304\\\\|x00 \\\\x00%WRR:\\\\x02\\\\x14%\\\\x01\\\\x021U\\\\xffW\\\\r\\\\x00\\\\x00\\\\x00\\\\x00\\\\x00\\\\x00\\\\x00\\\\xff\\\\xff\\\\xff\\\\xff\\\\r\\\\x00\\\\x00\\\\x00\\\\xff\\\\xff\\\\xff\\\\xff\\\\x00\\\\x00\\\\x00\\\\x00\\\\x00\\\\x00|\\\\x0e\\\\x00%HBR:\\\\x01(%\\\\x01\\\\x01\\\\x01\\\\x00\\\\r\\\\x00\\\\x00\\\\x00P\\\\x04PASS|\\\\x0e\\\\x00%HBR:\\\\x01(%\\\\xff\\\\x00\\\\x01\\\\x00\\\\r\\\\x00\\\\x00\\\\x00P\\\\x04PASS\\\\x0e\\\\x00\\\\x012%\\\\x01\\\\x01\\\\x01\\\\x00\\\\r\\\\x00\\\\x00\\\\x00P\\\\x04PASS\\\\x0e\\\\x00\\\\x012%\\\\xff\\\\x00\\\\x01\\\\x00\\\\r\\\\x00\\\\x00\\\\x00P\\\\x04PASS|\\\\x16\\\\x00%PCR:\\\\x01\\\\x1e%\\\\x01\\\\x01\\\\r\\\\x00\\\\x00\\\\x00\\\\x00\\\\x00\\\\x00\\\\x00\\\\xff\\\\xff\\\\xff\\\\xff\\\\r\\\\x00\\\\x00\\\\x00\\\\xff\\\\xff\\\\xff\\\\xff|\\\\x16\\\\x00%PCR:\\\\x01\\\\x1e%\\\\xff\\\\x00\\\\r\\\\x00\\\\x00\\\\x00\\\\x00\\\\x00\\\\x00\\\\x00\\\\xff\\\\xff\\\\xff\\\\xff\\\\r\\\\x00\\\\x00\\\\x00\\\\xff\\\\xff\\\\xff\\\\xff\\\\x07\\\\x00\\\\x01\\\\x14%1U\\\\xffW \\\\x00\\\\x00'\""
      ]
     },
     "execution_count": 945,
     "metadata": {},
     "output_type": "execute_result"
    }
   ],
   "source": [
    "# read binary data\n",
    "with open(fname,mode='rb') as file:\n",
    "    row_data = file.read()\n",
    "str_row_data=str(row_data)\n",
    "\n",
    "# data mark\n",
    "processed_data = str_row_data\n",
    "for num_key in range(0,25):\n",
    "    key = list(dict_pack.keys())[num_key]\n",
    "    header = struct_packing(dict_pack[key][0],dict_pack[key][1])\n",
    "    processed_data = data_mark(processed_data,header,key)\n",
    "processed_data"
   ]
  },
  {
   "cell_type": "markdown",
   "id": "affb5e60",
   "metadata": {},
   "source": [
    "15-Oct-12\\\\n\\\\x00\\\\x0525.25\\\\x00\\\\x00\\\\x00\\\\x00\\\\x00\\\\x00\\\\x00\\\\x00\\\\x00\\\\x00\\\\x00\\\\x00\\\\x00\\\\x00\\\\x00\\\\x00\\\\x00:ATR"
   ]
  },
  {
   "cell_type": "code",
   "execution_count": 821,
   "id": "718ba930",
   "metadata": {},
   "outputs": [],
   "source": [
    "def extract_data(processed_data):\n",
    "    record_type_split = processed_data.split(\"|\")\n",
    "    for data in range(1,len(record_type_split)):\n",
    "        #print(record_type_split[data])\n",
    "        data_extracted = record_type_split[data].split(\"%\")\n",
    "        print(len(data_extracted))\n",
    "        print(data_extracted)\n",
    "    return data_extracted"
   ]
  },
  {
   "cell_type": "code",
   "execution_count": 935,
   "id": "486b349a",
   "metadata": {},
   "outputs": [
    {
     "name": "stdout",
     "output_type": "stream",
     "text": [
      "4\n",
      "['\\\\x02\\\\x00', 'FAR:\\\\x00\\\\n', '\\\\x02\\\\x04y\\\\x00\\\\x00\\\\x14', '\\\\xf8T\\\\xffWtdataformatter tester config; Ver: SmarTest s/w rev. 7.1.4.3 (E), 15-Oct-12; dataformatter 2.0.9 Oct 15 2012 18:37:15']\n",
      "3\n",
      "['\\\\x82\\\\x00', 'MIR:\\\\x01\\\\n', '\\\\xeaT\\\\xffW\\\\xf8T\\\\xffW\\\\x01 N \\\\xff\\\\xff \\\\x011\\\\x00\\\\x15localhost.localdomain\\\\t93000-SOC\\\\x05cp_32\\\\x00\\\\x00\\\\x07vincent\\\\x0593000 s/w rev. 7.1.4.3 (E), ']\n",
      "3\n",
      "['15-Oct-1', 'GDR:2\\\\n', '\\\\x00\\\\x0525.25\\\\x00\\\\x00\\\\x00\\\\x00\\\\x00\\\\x00\\\\x00\\\\x00\\\\x00\\\\x00\\\\x00\\\\x00\\\\x00\\\\x00\\\\x00\\\\x00\\\\x00\\\\x00\\\\']\n",
      "4\n",
      "['x14', '\\\\x00', 'SDR:\\\\x01P', '\\\\x01\\\\x02\\\\x01\\\\x01\\\\x00\\\\x00\\\\x00\\\\x00\\\\x00\\\\x00\\\\x00\\\\x00\\\\x00\\\\x00\\\\x00\\\\x00\\\\x00\\\\x00\\\\x00\\\\x00']\n",
      "3\n",
      "['\\\\x12\\\\x00', 'PMR:\\\\x01<', '\\\\x01\\\\x00\\\\x01\\\\x00\\\\x03Xin\\\\x0510101\\\\x011\\\\x01\\\\x01']\n",
      "4\n",
      "['\\\\x13\\\\x00', 'PMR:\\\\x01<', '\\\\x02\\\\x00\\\\x02\\\\x00\\\\x04Xout\\\\x0510102\\\\x012', '\\\\x01\\\\x01']\n",
      "3\n",
      "['\\\\x0e\\\\x00', 'PMR:\\\\x01<', '\\\\x03\\\\x00\\\\x00\\\\x00\\\\x03VCC\\\\x0211\\\\x00\\\\x01\\\\x01\\\\']\n",
      "2\n",
      "['x14', '\\\\x00']\n",
      "5\n",
      "['', 'WCR:\\\\x0', 'DTR:2\\\\x1e', '', '\\\\x00\\\\x00\\\\x00\\\\x00\\\\x00\\\\x00\\\\x00\\\\x00\\\\x00\\\\x00\\\\x00\\\\x00\\\\x00 \\\\x00\\\\x80\\\\x00\\\\x80  ']\n",
      "1\n",
      "['\\\\x07\\\\x00']\n",
      "6\n",
      "['', 'WIR:\\\\x0', 'GDR:2\\\\n', '', '\\\\x01\\\\x02\\\\xf8T\\\\xffW\\\\x00\\\\x02\\\\x00\\\\x05\\\\n', '\\\\x01\\\\x01']\n",
      "3\n",
      "['\\\\x12\\\\x00', 'PMR:\\\\x01<', '\\\\x01\\\\x00\\\\x01\\\\x00\\\\x03Xin\\\\x0510101\\\\x011\\\\x01\\\\x01']\n",
      "4\n",
      "['\\\\x13\\\\x00', 'PMR:\\\\x01<', '\\\\x02\\\\x00\\\\x02\\\\x00\\\\x04Xout\\\\x0510102\\\\x012', '\\\\x01\\\\x01']\n",
      "3\n",
      "['\\\\x0e\\\\x00', 'PMR:\\\\x01<', '\\\\x03\\\\x00\\\\x00\\\\x00\\\\x03VCC\\\\x0211\\\\x00\\\\x01\\\\x01']\n",
      "4\n",
      "['\\\\x1a\\\\x00', 'PRR:\\\\x05\\\\x14', '\\\\x01\\\\x01\\\\x00\\\\x00\\\\x00\\\\x01\\\\x00\\\\x01\\\\x00\\\\xfb\\\\xff\\\\xfc\\\\xff\\\\x03\\\\x02\\\\x00\\\\x00\\\\x011\\\\x050.000\\\\x00\\\\x02\\\\x00\\\\x05\\\\n', '\\\\x01\\\\x01']\n",
      "5\n",
      "['\\\\x1a\\\\x00', 'PRR:\\\\x05\\\\x14', '\\\\x01\\\\x01\\\\x00\\\\x00\\\\x00\\\\x01\\\\x00\\\\x01\\\\x00\\\\xff\\\\xff\\\\xfc\\\\xff\\\\x01\\\\x00\\\\x00\\\\x00\\\\x012', '\\\\x051.750\\\\x00\\\\x02\\\\x00\\\\x05\\\\n', '\\\\x01\\\\x01']\n",
      "4\n",
      "['\\\\x1a\\\\x00', 'PRR:\\\\x05\\\\x14', '\\\\x01\\\\x01\\\\x00\\\\x00\\\\x00\\\\x01\\\\x00\\\\x01\\\\x00\\\\x04\\\\x00\\\\xfc\\\\xff\\\\x01\\\\x00\\\\x00\\\\x00\\\\x013\\\\x052.201\\\\x00\\\\x02\\\\x00\\\\x05\\\\n', '\\\\x01\\\\x01']\n",
      "4\n",
      "['\\\\x1a\\\\x00', 'PRR:\\\\x05\\\\x14', '\\\\x01\\\\x01\\\\x00\\\\x00\\\\x00\\\\x01\\\\x00\\\\x01\\\\x00\\\\x06\\\\x00\\\\xfc\\\\xff\\\\x01\\\\x00\\\\x00\\\\x00\\\\x014\\\\x052.803\\\\x00\\\\x02\\\\x00\\\\x05\\\\n', '\\\\x01\\\\x01']\n",
      "4\n",
      "['\\\\x1a\\\\x00', 'PRR:\\\\x05\\\\x14', '\\\\x01\\\\x01\\\\x00\\\\x00\\\\x00\\\\x01\\\\x00\\\\x01\\\\x00\\\\x07\\\\x00\\\\xfc\\\\xff\\\\x01\\\\x00\\\\x00\\\\x00\\\\x015\\\\x052.547\\\\x00\\\\x02\\\\x00\\\\x05\\\\n', '\\\\x01\\\\x01']\n",
      "4\n",
      "['\\\\x1a\\\\x00', 'PRR:\\\\x05\\\\x14', '\\\\x01\\\\x01\\\\x00\\\\x00\\\\x00\\\\x01\\\\x00\\\\x01\\\\x00\\\\xf9\\\\xff\\\\xfd\\\\xff\\\\x01\\\\x00\\\\x00\\\\x00\\\\x016\\\\x052.702\\\\x00\\\\x02\\\\x00\\\\x05\\\\n', '\\\\x01\\\\x01']\n",
      "4\n",
      "['\\\\x1a\\\\x00', 'PRR:\\\\x05\\\\x14', '\\\\x01\\\\x01\\\\x00\\\\x00\\\\x00\\\\x01\\\\x00\\\\x01\\\\x00\\\\xfd\\\\xff\\\\xfd\\\\xff\\\\x01\\\\x00\\\\x00\\\\x00\\\\x017\\\\x052.700\\\\x00\\\\x02\\\\x00\\\\x05\\\\n', '\\\\x01\\\\x01']\n",
      "4\n",
      "['\\\\x1a\\\\x00', 'PRR:\\\\x05\\\\x14', '\\\\x01\\\\x01\\\\x00\\\\x00\\\\x00\\\\x01\\\\x00\\\\x01\\\\x00\\\\xfe\\\\xff\\\\xfd\\\\xff\\\\x01\\\\x00\\\\x00\\\\x00\\\\x018\\\\x052.101\\\\x00\\\\x02\\\\x00\\\\x05\\\\n', '\\\\x01\\\\x01']\n",
      "4\n",
      "['\\\\x1a\\\\x00', 'PRR:\\\\x05\\\\x14', '\\\\x01\\\\x01\\\\x00\\\\x00\\\\x00\\\\x01\\\\x00\\\\x01\\\\x00\\\\x03\\\\x00\\\\xfd\\\\xff\\\\x01\\\\x00\\\\x00\\\\x00\\\\x019\\\\x052.600\\\\x00\\\\x02\\\\x00\\\\x05\\\\n', '\\\\x01\\\\x01']\n",
      "4\n",
      "['\\\\x1b\\\\x00', 'PRR:\\\\x05\\\\x14', '\\\\x01\\\\x01\\\\x00\\\\x00\\\\x00\\\\x01\\\\x00\\\\x01\\\\x00\\\\x04\\\\x00\\\\xfd\\\\xff\\\\x01\\\\x00\\\\x00\\\\x00\\\\x0210\\\\x052.765\\\\x00\\\\x02\\\\x00\\\\x05\\\\n', '\\\\x01\\\\x01']\n",
      "4\n",
      "['\\\\x1b\\\\x00', 'PRR:\\\\x05\\\\x14', '\\\\x01\\\\x01\\\\x00\\\\x00\\\\x00\\\\x01\\\\x00\\\\x01\\\\x00\\\\x06\\\\x00\\\\xfd\\\\xff\\\\x01\\\\x00\\\\x00\\\\x00\\\\x0211\\\\x052.704\\\\x00\\\\x02\\\\x00\\\\x05\\\\n', '\\\\x01\\\\x01']\n",
      "4\n",
      "['\\\\x1b\\\\x00', 'PRR:\\\\x05\\\\x14', '\\\\x01\\\\x01\\\\x00\\\\x00\\\\x00\\\\x01\\\\x00\\\\x01\\\\x00\\\\xfa\\\\xff\\\\x00\\\\x00\\\\x01\\\\x00\\\\x00\\\\x00\\\\x0212\\\\x052.802\\\\x00\\\\x02\\\\x00\\\\x05\\\\n', '\\\\x01\\\\x01']\n",
      "3\n",
      "['\\\\x1b\\\\x00', 'PRR:\\\\x05\\\\x14', '\\\\x01\\\\x01\\\\x00\\\\x00\\\\x00\\\\x01\\\\x00\\\\x01\\\\x00\\\\xfc\\\\xff\\\\x00\\\\x00\\\\x01\\\\x00\\\\x00\\\\x00\\\\x0213\\\\x052.304\\\\']\n",
      "3\n",
      "['x00 \\\\x00', 'WRR:\\\\x02\\\\x14', '\\\\x01\\\\x021U\\\\xffW\\\\r\\\\x00\\\\x00\\\\x00\\\\x00\\\\x00\\\\x00\\\\x00\\\\xff\\\\xff\\\\xff\\\\xff\\\\r\\\\x00\\\\x00\\\\x00\\\\xff\\\\xff\\\\xff\\\\xff\\\\x00\\\\x00\\\\x00\\\\x00\\\\x00\\\\x00']\n",
      "3\n",
      "['\\\\x0e\\\\x00', 'HBR:\\\\x01(', '\\\\x01\\\\x01\\\\x01\\\\x00\\\\r\\\\x00\\\\x00\\\\x00P\\\\x04PASS']\n",
      "5\n",
      "['\\\\x0e\\\\x00', 'HBR:\\\\x01(', '\\\\xff\\\\x00\\\\x01\\\\x00\\\\r\\\\x00\\\\x00\\\\x00P\\\\x04PASS\\\\x0e\\\\x00\\\\x012', '\\\\x01\\\\x01\\\\x01\\\\x00\\\\r\\\\x00\\\\x00\\\\x00P\\\\x04PASS\\\\x0e\\\\x00\\\\x012', '\\\\xff\\\\x00\\\\x01\\\\x00\\\\r\\\\x00\\\\x00\\\\x00P\\\\x04PASS']\n",
      "3\n",
      "['\\\\x16\\\\x00', 'PCR:\\\\x01\\\\x1e', '\\\\x01\\\\x01\\\\r\\\\x00\\\\x00\\\\x00\\\\x00\\\\x00\\\\x00\\\\x00\\\\xff\\\\xff\\\\xff\\\\xff\\\\r\\\\x00\\\\x00\\\\x00\\\\xff\\\\xff\\\\xff\\\\xff']\n",
      "4\n",
      "['\\\\x16\\\\x00', 'PCR:\\\\x01\\\\x1e', '\\\\xff\\\\x00\\\\r\\\\x00\\\\x00\\\\x00\\\\x00\\\\x00\\\\x00\\\\x00\\\\xff\\\\xff\\\\xff\\\\xff\\\\r\\\\x00\\\\x00\\\\x00\\\\xff\\\\xff\\\\xff\\\\xff\\\\x07\\\\x00\\\\x01\\\\x14', \"1U\\\\xffW \\\\x00\\\\x00'\"]\n"
     ]
    },
    {
     "data": {
      "text/plain": [
       "['\\\\x16\\\\x00',\n",
       " 'PCR:\\\\x01\\\\x1e',\n",
       " '\\\\xff\\\\x00\\\\r\\\\x00\\\\x00\\\\x00\\\\x00\\\\x00\\\\x00\\\\x00\\\\xff\\\\xff\\\\xff\\\\xff\\\\r\\\\x00\\\\x00\\\\x00\\\\xff\\\\xff\\\\xff\\\\xff\\\\x07\\\\x00\\\\x01\\\\x14',\n",
       " \"1U\\\\xffW \\\\x00\\\\x00'\"]"
      ]
     },
     "execution_count": 935,
     "metadata": {},
     "output_type": "execute_result"
    }
   ],
   "source": [
    "extracted = extract_data(processed_data)\n",
    "extracted"
   ]
  },
  {
   "cell_type": "code",
   "execution_count": 434,
   "id": "39821e07",
   "metadata": {},
   "outputs": [
    {
     "data": {
      "text/html": [
       "<div>\n",
       "<style scoped>\n",
       "    .dataframe tbody tr th:only-of-type {\n",
       "        vertical-align: middle;\n",
       "    }\n",
       "\n",
       "    .dataframe tbody tr th {\n",
       "        vertical-align: top;\n",
       "    }\n",
       "\n",
       "    .dataframe thead th {\n",
       "        text-align: right;\n",
       "    }\n",
       "</style>\n",
       "<table border=\"1\" class=\"dataframe\">\n",
       "  <thead>\n",
       "    <tr style=\"text-align: right;\">\n",
       "      <th></th>\n",
       "      <th>0</th>\n",
       "      <th>rec_body</th>\n",
       "      <th>rec_length</th>\n",
       "      <th>rec_type</th>\n",
       "    </tr>\n",
       "  </thead>\n",
       "  <tbody>\n",
       "    <tr>\n",
       "      <th>0</th>\n",
       "      <td>\\x1a\\x00</td>\n",
       "      <td>NaN</td>\n",
       "      <td>NaN</td>\n",
       "      <td>NaN</td>\n",
       "    </tr>\n",
       "    <tr>\n",
       "      <th>1</th>\n",
       "      <td>PRR</td>\n",
       "      <td>NaN</td>\n",
       "      <td>NaN</td>\n",
       "      <td>NaN</td>\n",
       "    </tr>\n",
       "    <tr>\n",
       "      <th>2</th>\n",
       "      <td>\\x01\\x01\\x00\\x00\\x00\\x01\\x00\\x01\\x00\\xfb\\xff\\x...</td>\n",
       "      <td>NaN</td>\n",
       "      <td>NaN</td>\n",
       "      <td>NaN</td>\n",
       "    </tr>\n",
       "  </tbody>\n",
       "</table>\n",
       "</div>"
      ],
      "text/plain": [
       "                                                   0 rec_body rec_length  \\\n",
       "0                                           \\x1a\\x00      NaN        NaN   \n",
       "1                                                PRR      NaN        NaN   \n",
       "2  \\x01\\x01\\x00\\x00\\x00\\x01\\x00\\x01\\x00\\xfb\\xff\\x...      NaN        NaN   \n",
       "\n",
       "  rec_type  \n",
       "0      NaN  \n",
       "1      NaN  \n",
       "2      NaN  "
      ]
     },
     "execution_count": 434,
     "metadata": {},
     "output_type": "execute_result"
    }
   ],
   "source": [
    "df = pd.DataFrame(columns=['rec_length','rec_type','rec_body'])\n",
    "df.append(a)"
   ]
  },
  {
   "cell_type": "code",
   "execution_count": 593,
   "id": "3f5f3a1c",
   "metadata": {},
   "outputs": [],
   "source": [
    "a = [1,2,3]\n",
    "b = [4,5,6]"
   ]
  },
  {
   "cell_type": "code",
   "execution_count": 916,
   "id": "4bc1f0d2",
   "metadata": {},
   "outputs": [
    {
     "name": "stdout",
     "output_type": "stream",
     "text": [
      "\\x00\\n\n",
      "\\x00\\x14\n",
      "\\x01\\n\n",
      "\\x01\\x14\n",
      "\\x01\\x1e\n",
      "\\x01(\n",
      "\\x012\n",
      "\\x01<\n",
      "\\x01>\n",
      "\\x01?\n",
      "\\x01F\n",
      "\\x01P\n",
      "\\x02\\n\n",
      "\\x02\\x14\n",
      "\\x02\\x1e\n",
      "\\x05\\n\n",
      "\\x05\\x14\n",
      "\\n\\x1e\n",
      "\\x0f\\n\n",
      "\\x0f\\x0f\n",
      "\\x0f\\x14\n",
      "\\x14\\n\n",
      "\\x14\\x14\n",
      "2\\n\n",
      "2\\x1e\n",
      "{'FAR': [10], 'ATR': [29, 403], 'MIR': [172], 'MRR': [675, 3125], 'PCR': [2933, 3025], 'HBR': [2725, 2772], 'SBR': [612, 923, 1193, 2814, 2861], 'PMR': [516, 569, 623, 817, 870, 924], 'PGR': [], 'PLR': [], 'RDR': [], 'SDR': [423], 'WIR': [774], 'WRR': [2594], 'WCR': [687], 'PIR': [810, 1099, 1217, 1335, 1453, 1571, 1689, 1807, 1925, 2043, 2162, 2281, 2400], 'PRR': [1003, 1119, 1235, 1351, 1467, 1583, 1699, 1815, 1931, 2047, 2164, 2281, 2398], 'TSR': [], 'PTR': [], 'MPR': [], 'FTR': [], 'BPS': [], 'EPS': [], 'GDR': [327, 774], 'DTR': [690]}\n"
     ]
    }
   ],
   "source": [
    "dict_position = {}\n",
    "for key in dict_pack.keys():\n",
    "    header = struct_packing(dict_pack[key][0],dict_pack[key][1])\n",
    "    print(header)\n",
    "    group_list = str_row_data.split(header)\n",
    "    group_count = 0\n",
    "    dict_position[key]=[]\n",
    "    for num in range(0, len(group_list)-1):\n",
    "        group_count = group_count + len(group_list[num])\n",
    "        dict_position[key].append(group_count)\n",
    "\n",
    "print(dict_position)"
   ]
  },
  {
   "cell_type": "code",
   "execution_count": 898,
   "id": "0f39e797",
   "metadata": {},
   "outputs": [],
   "source": [
    "test_list = [1,2]"
   ]
  },
  {
   "cell_type": "code",
   "execution_count": 899,
   "id": "bf8852a4",
   "metadata": {},
   "outputs": [],
   "source": [
    "test_dict = {}\n",
    "test_dict['a']=[]"
   ]
  },
  {
   "cell_type": "code",
   "execution_count": 903,
   "id": "e1366468",
   "metadata": {},
   "outputs": [],
   "source": [
    "for n in test_list:\n",
    "    test_dict['a'].append(n)"
   ]
  },
  {
   "cell_type": "code",
   "execution_count": 904,
   "id": "02b6eb15",
   "metadata": {},
   "outputs": [
    {
     "data": {
      "text/plain": [
       "{'a': [1, 2, 1, 2]}"
      ]
     },
     "execution_count": 904,
     "metadata": {},
     "output_type": "execute_result"
    }
   ],
   "source": [
    "test_dict"
   ]
  },
  {
   "cell_type": "code",
   "execution_count": null,
   "id": "4dacd05e",
   "metadata": {},
   "outputs": [],
   "source": []
  }
 ],
 "metadata": {
  "kernelspec": {
   "display_name": "Python 3 (ipykernel)",
   "language": "python",
   "name": "python3"
  },
  "language_info": {
   "codemirror_mode": {
    "name": "ipython",
    "version": 3
   },
   "file_extension": ".py",
   "mimetype": "text/x-python",
   "name": "python",
   "nbconvert_exporter": "python",
   "pygments_lexer": "ipython3",
   "version": "3.8.8"
  }
 },
 "nbformat": 4,
 "nbformat_minor": 5
}
