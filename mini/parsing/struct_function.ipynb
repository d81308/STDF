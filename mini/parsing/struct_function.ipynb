{
 "cells": [
  {
   "cell_type": "code",
   "execution_count": 2,
   "id": "6c4c7902",
   "metadata": {},
   "outputs": [],
   "source": [
    "import struct"
   ]
  },
  {
   "cell_type": "code",
   "execution_count": 2,
   "id": "33566645",
   "metadata": {},
   "outputs": [],
   "source": [
    "fname=\"/Users/jianlin/Documents/Project_STDF_wafermap/main_Lot_1_Wafer_1_Oct_13_09h33m41s_STDF\""
   ]
  },
  {
   "cell_type": "code",
   "execution_count": 17,
   "id": "6b6304ac",
   "metadata": {},
   "outputs": [],
   "source": [
    "test=\"/Users/jianlin/Documents/Project_STDF_wafermap/test_read.txt\""
   ]
  },
  {
   "cell_type": "markdown",
   "id": "9b6eb047",
   "metadata": {},
   "source": [
    "first try"
   ]
  },
  {
   "cell_type": "code",
   "execution_count": 18,
   "id": "64cb6c0c",
   "metadata": {},
   "outputs": [
    {
     "name": "stdout",
     "output_type": "stream",
     "text": [
      "<class 'bytes'>\n",
      "b'hello'\n"
     ]
    }
   ],
   "source": [
    "with open(test, 'rb') as f:\n",
    "    data = f.read()\n",
    "\n",
    "print(type(data))\n",
    "print(data)"
   ]
  },
  {
   "cell_type": "markdown",
   "id": "3c407956",
   "metadata": {},
   "source": [
    "header of PRR"
   ]
  },
  {
   "cell_type": "code",
   "execution_count": 75,
   "id": "9277d4e4",
   "metadata": {},
   "outputs": [
    {
     "data": {
      "text/plain": [
       "b'\\x02\\x00\\x00\\n'"
      ]
     },
     "execution_count": 75,
     "metadata": {},
     "output_type": "execute_result"
    }
   ],
   "source": [
    "# header of FAR\n",
    "enc = struct.pack(\"BBBB\", 2,0,0,10)\n",
    "enc"
   ]
  },
  {
   "cell_type": "code",
   "execution_count": 54,
   "id": "8a24c316",
   "metadata": {},
   "outputs": [
    {
     "data": {
      "text/plain": [
       "b'\\x1a\\x00\\x05\\x14'"
      ]
     },
     "execution_count": 54,
     "metadata": {},
     "output_type": "execute_result"
    }
   ],
   "source": [
    "# header of PRR\n",
    "enc = struct.pack(\"BBBB\", 26,0,5,20)\n",
    "enc"
   ]
  },
  {
   "cell_type": "code",
   "execution_count": 48,
   "id": "0f62e26c",
   "metadata": {},
   "outputs": [
    {
     "data": {
      "text/plain": [
       "(26,)"
      ]
     },
     "execution_count": 48,
     "metadata": {},
     "output_type": "execute_result"
    }
   ],
   "source": [
    "# len of prr\n",
    "rec = b'\\x1a\\x00'\n",
    "dnc = struct.unpack(\"H\",rec)\n",
    "dnc"
   ]
  },
  {
   "cell_type": "code",
   "execution_count": 71,
   "id": "2da5fe97",
   "metadata": {},
   "outputs": [
    {
     "data": {
      "text/plain": [
       "b'\\x02\\x00\\x05\\n\\x01\\x01'"
      ]
     },
     "execution_count": 71,
     "metadata": {},
     "output_type": "execute_result"
    }
   ],
   "source": [
    "# header of PIR\n",
    "enc = struct.pack(\"BBBBBB\", 2,0,5,10,1,1)\n",
    "enc"
   ]
  },
  {
   "cell_type": "code",
   "execution_count": 55,
   "id": "84299091",
   "metadata": {},
   "outputs": [
    {
     "data": {
      "text/plain": [
       "(2,)"
      ]
     },
     "execution_count": 55,
     "metadata": {},
     "output_type": "execute_result"
    }
   ],
   "source": [
    "# len of pir\n",
    "rec = b'\\x02\\x00'\n",
    "dnc = struct.unpack(\"H\",rec)\n",
    "dnc"
   ]
  },
  {
   "cell_type": "markdown",
   "id": "17503b9d",
   "metadata": {},
   "source": [
    "### body of PRR"
   ]
  },
  {
   "cell_type": "code",
   "execution_count": 22,
   "id": "72b4a1fb",
   "metadata": {},
   "outputs": [],
   "source": [
    "dict_code_ctype = {\n",
    "    \"U1\": \"B\",\n",
    "    \"U2\": \"H\",\n",
    "    \"U4\": \"I\",\n",
    "    \"U8\": \"Q\",\n",
    "    \"I1\": \"b\",\n",
    "    \"I2\": \"h\",\n",
    "    \"I4\": \"i\",\n",
    "    \"I8\": \"q\",\n",
    "    \"R4\": \"f\",\n",
    "    \"R8\": \"d\",\n",
    "    \"B1\": \"B\",\n",
    "    \"C1\": \"c\",\n",
    "    \"N1\": \"B\"\n",
    "}"
   ]
  },
  {
   "cell_type": "code",
   "execution_count": 21,
   "id": "d17aa7f4",
   "metadata": {},
   "outputs": [],
   "source": [
    "prr = ['U1','U1','B1','U2','U2','U2','I2','I2','U4','Cn','Cn','Bn']"
   ]
  },
  {
   "cell_type": "code",
   "execution_count": null,
   "id": "f8895c90",
   "metadata": {},
   "outputs": [],
   "source": []
  }
 ],
 "metadata": {
  "kernelspec": {
   "display_name": "Python 3 (ipykernel)",
   "language": "python",
   "name": "python3"
  },
  "language_info": {
   "codemirror_mode": {
    "name": "ipython",
    "version": 3
   },
   "file_extension": ".py",
   "mimetype": "text/x-python",
   "name": "python",
   "nbconvert_exporter": "python",
   "pygments_lexer": "ipython3",
   "version": "3.8.8"
  }
 },
 "nbformat": 4,
 "nbformat_minor": 5
}
