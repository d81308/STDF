{
 "cells": [
  {
   "cell_type": "code",
   "execution_count": 2,
   "id": "6c4c7902",
   "metadata": {},
   "outputs": [],
   "source": [
    "import struct"
   ]
  },
  {
   "cell_type": "code",
   "execution_count": 77,
   "id": "33566645",
   "metadata": {},
   "outputs": [],
   "source": [
    "fname=\"/Users/jianlin/Documents/Project_STDF_wafermap/STDF_data/main_Lot_1_Wafer_1_Oct_13_09h33m41s_STDF.stdf\""
   ]
  },
  {
   "cell_type": "code",
   "execution_count": 78,
   "id": "5debf34c",
   "metadata": {},
   "outputs": [
    {
     "data": {
      "text/plain": [
       "b'\\x02\\x00\\x00\\n\\x02\\x04y\\x00\\x00\\x14\\xf8T\\xffWtdataformatter tester config; Ver: SmarTest s/w rev. 7.1.4.3 (E), 15-Oct-12; dataformatter 2.0.9 Oct 15 2012 18:37:15\\x82\\x00\\x01\\n\\xeaT\\xffW\\xf8T\\xffW\\x01 N \\xff\\xff \\x011\\x00\\x15localhost.localdomain\\t93000-SOC\\x05cp_32\\x00\\x00\\x07vincent\\x0593000 s/w rev. 7.1.4.3 (E), 15-Oct-12\\n\\x00\\x0525.25\\x00\\x00\\x00\\x00\\x00\\x00\\x00\\x00\\x00\\x00\\x00\\x00\\x00\\x00\\x00\\x00\\x00\\x00\\x14\\x00\\x01P\\x01\\x02\\x01\\x01\\x00\\x00\\x00\\x00\\x00\\x00\\x00\\x00\\x00\\x00\\x00\\x00\\x00\\x00\\x00\\x00\\x12\\x00\\x01<\\x01\\x00\\x01\\x00\\x03Xin\\x0510101\\x011\\x01\\x01\\x13\\x00\\x01<\\x02\\x00\\x02\\x00\\x04Xout\\x0510102\\x012\\x01\\x01\\x0e\\x00\\x01<\\x03\\x00\\x00\\x00\\x03VCC\\x0211\\x00\\x01\\x01\\x14\\x00\\x02\\x1e\\x00\\x00\\x00\\x00\\x00\\x00\\x00\\x00\\x00\\x00\\x00\\x00\\x00 \\x00\\x80\\x00\\x80  \\x07\\x00\\x02\\n\\x01\\x02\\xf8T\\xffW\\x00\\x02\\x00\\x05\\n\\x01\\x01\\x12\\x00\\x01<\\x01\\x00\\x01\\x00\\x03Xin\\x0510101\\x011\\x01\\x01\\x13\\x00\\x01<\\x02\\x00\\x02\\x00\\x04Xout\\x0510102\\x012\\x01\\x01\\x0e\\x00\\x01<\\x03\\x00\\x00\\x00\\x03VCC\\x0211\\x00\\x01\\x01\\x1a\\x00\\x05\\x14\\x01\\x01\\x00\\x00\\x00\\x01\\x00\\x01\\x00\\xfb\\xff\\xfc\\xff\\x03\\x02\\x00\\x00\\x011\\x050.000\\x00\\x02\\x00\\x05\\n\\x01\\x01\\x1a\\x00\\x05\\x14\\x01\\x01\\x00\\x00\\x00\\x01\\x00\\x01\\x00\\xff\\xff\\xfc\\xff\\x01\\x00\\x00\\x00\\x012\\x051.750\\x00\\x02\\x00\\x05\\n\\x01\\x01\\x1a\\x00\\x05\\x14\\x01\\x01\\x00\\x00\\x00\\x01\\x00\\x01\\x00\\x04\\x00\\xfc\\xff\\x01\\x00\\x00\\x00\\x013\\x052.201\\x00\\x02\\x00\\x05\\n\\x01\\x01\\x1a\\x00\\x05\\x14\\x01\\x01\\x00\\x00\\x00\\x01\\x00\\x01\\x00\\x06\\x00\\xfc\\xff\\x01\\x00\\x00\\x00\\x014\\x052.803\\x00\\x02\\x00\\x05\\n\\x01\\x01\\x1a\\x00\\x05\\x14\\x01\\x01\\x00\\x00\\x00\\x01\\x00\\x01\\x00\\x07\\x00\\xfc\\xff\\x01\\x00\\x00\\x00\\x015\\x052.547\\x00\\x02\\x00\\x05\\n\\x01\\x01\\x1a\\x00\\x05\\x14\\x01\\x01\\x00\\x00\\x00\\x01\\x00\\x01\\x00\\xf9\\xff\\xfd\\xff\\x01\\x00\\x00\\x00\\x016\\x052.702\\x00\\x02\\x00\\x05\\n\\x01\\x01\\x1a\\x00\\x05\\x14\\x01\\x01\\x00\\x00\\x00\\x01\\x00\\x01\\x00\\xfd\\xff\\xfd\\xff\\x01\\x00\\x00\\x00\\x017\\x052.700\\x00\\x02\\x00\\x05\\n\\x01\\x01\\x1a\\x00\\x05\\x14\\x01\\x01\\x00\\x00\\x00\\x01\\x00\\x01\\x00\\xfe\\xff\\xfd\\xff\\x01\\x00\\x00\\x00\\x018\\x052.101\\x00\\x02\\x00\\x05\\n\\x01\\x01\\x1a\\x00\\x05\\x14\\x01\\x01\\x00\\x00\\x00\\x01\\x00\\x01\\x00\\x03\\x00\\xfd\\xff\\x01\\x00\\x00\\x00\\x019\\x052.600\\x00\\x02\\x00\\x05\\n\\x01\\x01\\x1b\\x00\\x05\\x14\\x01\\x01\\x00\\x00\\x00\\x01\\x00\\x01\\x00\\x04\\x00\\xfd\\xff\\x01\\x00\\x00\\x00\\x0210\\x052.765\\x00\\x02\\x00\\x05\\n\\x01\\x01\\x1b\\x00\\x05\\x14\\x01\\x01\\x00\\x00\\x00\\x01\\x00\\x01\\x00\\x06\\x00\\xfd\\xff\\x01\\x00\\x00\\x00\\x0211\\x052.704\\x00\\x02\\x00\\x05\\n\\x01\\x01\\x1b\\x00\\x05\\x14\\x01\\x01\\x00\\x00\\x00\\x01\\x00\\x01\\x00\\xfa\\xff\\x00\\x00\\x01\\x00\\x00\\x00\\x0212\\x052.802\\x00\\x02\\x00\\x05\\n\\x01\\x01\\x1b\\x00\\x05\\x14\\x01\\x01\\x00\\x00\\x00\\x01\\x00\\x01\\x00\\xfc\\xff\\x00\\x00\\x01\\x00\\x00\\x00\\x0213\\x052.304\\x00 \\x00\\x02\\x14\\x01\\x021U\\xffW\\r\\x00\\x00\\x00\\x00\\x00\\x00\\x00\\xff\\xff\\xff\\xff\\r\\x00\\x00\\x00\\xff\\xff\\xff\\xff\\x00\\x00\\x00\\x00\\x00\\x00\\x0e\\x00\\x01(\\x01\\x01\\x01\\x00\\r\\x00\\x00\\x00P\\x04PASS\\x0e\\x00\\x01(\\xff\\x00\\x01\\x00\\r\\x00\\x00\\x00P\\x04PASS\\x0e\\x00\\x012\\x01\\x01\\x01\\x00\\r\\x00\\x00\\x00P\\x04PASS\\x0e\\x00\\x012\\xff\\x00\\x01\\x00\\r\\x00\\x00\\x00P\\x04PASS\\x16\\x00\\x01\\x1e\\x01\\x01\\r\\x00\\x00\\x00\\x00\\x00\\x00\\x00\\xff\\xff\\xff\\xff\\r\\x00\\x00\\x00\\xff\\xff\\xff\\xff\\x16\\x00\\x01\\x1e\\xff\\x00\\r\\x00\\x00\\x00\\x00\\x00\\x00\\x00\\xff\\xff\\xff\\xff\\r\\x00\\x00\\x00\\xff\\xff\\xff\\xff\\x07\\x00\\x01\\x141U\\xffW \\x00\\x00'"
      ]
     },
     "execution_count": 78,
     "metadata": {},
     "output_type": "execute_result"
    }
   ],
   "source": [
    "with open(fname,mode='rb') as file:\n",
    "    row_data = file.read()\n",
    "str_row_data=str(row_data)\n",
    "row_data"
   ]
  },
  {
   "cell_type": "markdown",
   "id": "3c407956",
   "metadata": {},
   "source": [
    "header of PRR"
   ]
  },
  {
   "cell_type": "code",
   "execution_count": 127,
   "id": "a87e0aa9",
   "metadata": {
    "scrolled": true
   },
   "outputs": [
    {
     "name": "stdout",
     "output_type": "stream",
     "text": [
      "b'\\n\\x14'\n"
     ]
    },
    {
     "data": {
      "text/plain": [
       "\"b'\\\\n\\\\x14'\""
      ]
     },
     "execution_count": 127,
     "metadata": {},
     "output_type": "execute_result"
    }
   ],
   "source": [
    "# header of FAR\n",
    "enc = struct.pack(\"<\", 10,20)\n",
    "print(enc)\n",
    "str(enc)"
   ]
  },
  {
   "cell_type": "code",
   "execution_count": 121,
   "id": "94c02868",
   "metadata": {},
   "outputs": [
    {
     "data": {
      "text/plain": [
       "(0, 1, 50)"
      ]
     },
     "execution_count": 121,
     "metadata": {},
     "output_type": "execute_result"
    }
   ],
   "source": [
    "# len of prr\n",
    "rec = b'\\x00\\x012'\n",
    "dnc = struct.unpack(\"<BBB\",rec)\n",
    "dnc"
   ]
  },
  {
   "cell_type": "markdown",
   "id": "2a7dda5e",
   "metadata": {},
   "source": [
    "## parsing PRR"
   ]
  },
  {
   "cell_type": "code",
   "execution_count": 54,
   "id": "8a24c316",
   "metadata": {},
   "outputs": [
    {
     "data": {
      "text/plain": [
       "b'\\x1a\\x00\\x05\\x14'"
      ]
     },
     "execution_count": 54,
     "metadata": {},
     "output_type": "execute_result"
    }
   ],
   "source": [
    "# header of PRR\n",
    "enc = struct.pack(\"BBBB\", 26,0,5,20)\n",
    "enc"
   ]
  },
  {
   "cell_type": "code",
   "execution_count": 48,
   "id": "145deca9",
   "metadata": {},
   "outputs": [
    {
     "data": {
      "text/plain": [
       "(26,)"
      ]
     },
     "execution_count": 48,
     "metadata": {},
     "output_type": "execute_result"
    }
   ],
   "source": [
    "# len of prr\n",
    "rec = b'\\x1a\\x00'\n",
    "dnc = struct.unpack(\"H\",rec)\n",
    "dnc"
   ]
  },
  {
   "cell_type": "code",
   "execution_count": 71,
   "id": "2da5fe97",
   "metadata": {},
   "outputs": [
    {
     "data": {
      "text/plain": [
       "b'\\x02\\x00\\x05\\n\\x01\\x01'"
      ]
     },
     "execution_count": 71,
     "metadata": {},
     "output_type": "execute_result"
    }
   ],
   "source": [
    "# header of PIR\n",
    "enc = struct.pack(\"BBBBBB\", 2,0,5,10,1,1)\n",
    "enc"
   ]
  },
  {
   "cell_type": "code",
   "execution_count": 55,
   "id": "eb58ba71",
   "metadata": {},
   "outputs": [
    {
     "data": {
      "text/plain": [
       "(2,)"
      ]
     },
     "execution_count": 55,
     "metadata": {},
     "output_type": "execute_result"
    }
   ],
   "source": [
    "# len of pir\n",
    "rec = b'\\x02\\x00'\n",
    "dnc = struct.unpack(\"H\",rec)\n",
    "dnc"
   ]
  },
  {
   "cell_type": "markdown",
   "id": "cd2888a9",
   "metadata": {},
   "source": [
    "### body of PRR"
   ]
  },
  {
   "cell_type": "code",
   "execution_count": 22,
   "id": "0243fd66",
   "metadata": {},
   "outputs": [],
   "source": [
    "dict_code_ctype = {\n",
    "    \"U1\": \"B\",\n",
    "    \"U2\": \"H\",\n",
    "    \"U4\": \"I\",\n",
    "    \"U8\": \"Q\",\n",
    "    \"I1\": \"b\",\n",
    "    \"I2\": \"h\",\n",
    "    \"I4\": \"i\",\n",
    "    \"I8\": \"q\",\n",
    "    \"R4\": \"f\",\n",
    "    \"R8\": \"d\",\n",
    "    \"B1\": \"B\",\n",
    "    \"C1\": \"c\",\n",
    "    \"N1\": \"B\"\n",
    "}"
   ]
  },
  {
   "cell_type": "code",
   "execution_count": 21,
   "id": "dd996b53",
   "metadata": {},
   "outputs": [],
   "source": [
    "prr = ['U1','U1','B1','U2','U2','U2','I2','I2','U4','Cn','Cn','Bn']"
   ]
  },
  {
   "cell_type": "code",
   "execution_count": null,
   "id": "8b16596a",
   "metadata": {},
   "outputs": [],
   "source": []
  }
 ],
 "metadata": {
  "kernelspec": {
   "display_name": "Python 3 (ipykernel)",
   "language": "python",
   "name": "python3"
  },
  "language_info": {
   "codemirror_mode": {
    "name": "ipython",
    "version": 3
   },
   "file_extension": ".py",
   "mimetype": "text/x-python",
   "name": "python",
   "nbconvert_exporter": "python",
   "pygments_lexer": "ipython3",
   "version": "3.8.8"
  }
 },
 "nbformat": 4,
 "nbformat_minor": 5
}
