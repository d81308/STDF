{
 "cells": [
  {
   "cell_type": "code",
   "execution_count": 1,
   "id": "6c4c7902",
   "metadata": {},
   "outputs": [],
   "source": [
    "import struct"
   ]
  },
  {
   "cell_type": "code",
   "execution_count": 2,
   "id": "33566645",
   "metadata": {},
   "outputs": [],
   "source": [
    "fname=\"/Users/jianlin/Documents/Project_STDF_wafermap/main_Lot_1_Wafer_1_Oct_13_09h33m41s_STDF\""
   ]
  },
  {
   "cell_type": "code",
   "execution_count": 17,
   "id": "6b6304ac",
   "metadata": {},
   "outputs": [],
   "source": [
    "test=\"/Users/jianlin/Documents/Project_STDF_wafermap/test_read.txt\""
   ]
  },
  {
   "cell_type": "markdown",
   "id": "9b6eb047",
   "metadata": {},
   "source": [
    "first try"
   ]
  },
  {
   "cell_type": "code",
   "execution_count": 18,
   "id": "64cb6c0c",
   "metadata": {},
   "outputs": [
    {
     "name": "stdout",
     "output_type": "stream",
     "text": [
      "<class 'bytes'>\n",
      "b'hello'\n"
     ]
    }
   ],
   "source": [
    "with open(test, 'rb') as f:\n",
    "    data = f.read()\n",
    "\n",
    "print(type(data))\n",
    "print(data)"
   ]
  },
  {
   "cell_type": "markdown",
   "id": "3c407956",
   "metadata": {},
   "source": [
    "read by 16-up"
   ]
  },
  {
   "cell_type": "code",
   "execution_count": 59,
   "id": "8a24c316",
   "metadata": {},
   "outputs": [
    {
     "data": {
      "text/plain": [
       "b'\\x01\\x00\\x00\\x00\\xe8\\x03\\x00\\x00\\x03\\x00\\x00\\x00'"
      ]
     },
     "execution_count": 59,
     "metadata": {},
     "output_type": "execute_result"
    }
   ],
   "source": [
    "enc = struct.pack(\"iii\", 1,1000,3)\n",
    "enc"
   ]
  },
  {
   "cell_type": "code",
   "execution_count": 44,
   "id": "2da5fe97",
   "metadata": {},
   "outputs": [
    {
     "data": {
      "text/plain": [
       "(1, 2, 3)"
      ]
     },
     "execution_count": 44,
     "metadata": {},
     "output_type": "execute_result"
    }
   ],
   "source": [
    "dec = struct.unpack('iii',enc)\n",
    "dec"
   ]
  },
  {
   "cell_type": "code",
   "execution_count": null,
   "id": "c575e0ac",
   "metadata": {},
   "outputs": [],
   "source": []
  }
 ],
 "metadata": {
  "kernelspec": {
   "display_name": "Python 3 (ipykernel)",
   "language": "python",
   "name": "python3"
  },
  "language_info": {
   "codemirror_mode": {
    "name": "ipython",
    "version": 3
   },
   "file_extension": ".py",
   "mimetype": "text/x-python",
   "name": "python",
   "nbconvert_exporter": "python",
   "pygments_lexer": "ipython3",
   "version": "3.8.8"
  }
 },
 "nbformat": 4,
 "nbformat_minor": 5
}
