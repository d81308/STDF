{
 "cells": [
  {
   "cell_type": "code",
   "execution_count": 1,
   "id": "8d65692d",
   "metadata": {},
   "outputs": [],
   "source": [
    "import pandas as pd\n",
    "import struct"
   ]
  },
  {
   "cell_type": "code",
   "execution_count": 2,
   "id": "067e8793",
   "metadata": {},
   "outputs": [],
   "source": [
    "fname=\"/Users/jianlin/Documents/Project_STDF_wafermap/STDF_data/main_Lot_1_Wafer_1_Oct_13_09h33m41s_STDF.stdf\""
   ]
  },
  {
   "cell_type": "code",
   "execution_count": 20,
   "id": "8196301e",
   "metadata": {},
   "outputs": [
    {
     "ename": "UnicodeDecodeError",
     "evalue": "'utf-8' codec can't decode byte 0xf8 in position 10: invalid start byte",
     "output_type": "error",
     "traceback": [
      "\u001b[0;31m---------------------------------------------------------------------------\u001b[0m",
      "\u001b[0;31mUnicodeDecodeError\u001b[0m                        Traceback (most recent call last)",
      "Cell \u001b[0;32mIn[20], line 4\u001b[0m\n\u001b[1;32m      2\u001b[0m     row_data \u001b[38;5;241m=\u001b[39m file\u001b[38;5;241m.\u001b[39mread()\n\u001b[1;32m      3\u001b[0m \u001b[38;5;66;03m#str_row_data=str(row_data)\u001b[39;00m\n\u001b[0;32m----> 4\u001b[0m str_row_data \u001b[38;5;241m=\u001b[39m \u001b[43mrow_data\u001b[49m\u001b[38;5;241;43m.\u001b[39;49m\u001b[43mdecode\u001b[49m\u001b[43m(\u001b[49m\u001b[38;5;124;43m'\u001b[39;49m\u001b[38;5;124;43mutf-8\u001b[39;49m\u001b[38;5;124;43m'\u001b[39;49m\u001b[43m)\u001b[49m\n\u001b[1;32m      5\u001b[0m str_row_data\n",
      "\u001b[0;31mUnicodeDecodeError\u001b[0m: 'utf-8' codec can't decode byte 0xf8 in position 10: invalid start byte"
     ]
    }
   ],
   "source": [
    "with open(fname,mode='rb') as file:\n",
    "    row_data = file.read()\n",
    "#str_row_data=str(row_data)\n",
    "str_row_data"
   ]
  },
  {
   "cell_type": "markdown",
   "id": "3750fdd6",
   "metadata": {},
   "source": [
    "# Filter Method"
   ]
  },
  {
   "cell_type": "code",
   "execution_count": 4,
   "id": "fea4db62",
   "metadata": {},
   "outputs": [],
   "source": [
    "dict_pack = {\n",
    "    'FAR':[0,10],\n",
    "    'ATR':[0,20],\n",
    "    'MIR':[1,10],\n",
    "    'MRR':[1,20],\n",
    "    'PCR':[1,30],\n",
    "    'HBR':[1,40],\n",
    "    'SBR':[1,50],\n",
    "    'PMR':[1,60],\n",
    "    'PGR':[1,62],\n",
    "    'PLR':[1,63],\n",
    "    'RDR':[1,70],\n",
    "    'SDR':[1,80],\n",
    "    'WIR':[2,10],\n",
    "    'WRR':[2,20],\n",
    "    'WCR':[2,30],\n",
    "    'PIR':[5,10],\n",
    "    'PRR':[5,20],\n",
    "    'TSR':[10,30],\n",
    "    'PTR':[15,10],\n",
    "    'MPR':[15,15],\n",
    "    'FTR':[15,20],\n",
    "    'BPS':[20,10],\n",
    "    'EPS':[20,20],\n",
    "    'GDR':[50,10],\n",
    "    'DTR':[50,30]\n",
    "}\n",
    "#dict_pack['PRR'][0]"
   ]
  },
  {
   "cell_type": "code",
   "execution_count": 18,
   "id": "93ac55f7",
   "metadata": {},
   "outputs": [],
   "source": [
    "def struct_packing(rtype,subtype):\n",
    "    packing = str(struct.pack(\"BB\",rtype,subtype))\n",
    "    return packing[2:len(packing)-1]\n",
    "\n",
    "def data_mark(string_row_data,key_header,key):\n",
    "    key_list = string_row_data.split(key_header)    #will cut key_header\n",
    "\n",
    "    for n in range(0,len(dict_position[key])):\n",
    "        if dict_position[key][n][1]==1:            \n",
    "            key_list[n] = key_list[n][:len(key_list[n])-8] + \"|\" + key_list[n][len(key_list[n])-8:]\n",
    "            key_list[n] = key_list[n]+\"%\"+key+\":\"+key_header\n",
    "        else:\n",
    "            key_list[n] = key_list[n]+key_header\n",
    "    \n",
    "    return \"%\".join(key_list)\n",
    "\n",
    "\n",
    "def debug_by_positionrule_2():\n",
    "    #/need execute before data_marking/\n",
    "    #position locate\n",
    "    dict_position = {}\n",
    "\n",
    "    for key in dict_pack.keys():\n",
    "        header = struct_packing(dict_pack[key][0],dict_pack[key][1])\n",
    "        print(str_row_data)\n",
    "        group_list = str_row_data.split(header)\n",
    "        group_count = 0\n",
    "        dict_position[key]=[]\n",
    "        for num in range(0, len(group_list)-1):\n",
    "            group_count = group_count + len(group_list[num])\n",
    "            add_group = [group_count,1]\n",
    "            dict_position[key].append(add_group)\n",
    "    \n",
    "    #ATR:bewteen FAR,MIR\n",
    "    if dict_position['ATR'][0][0] < dict_position['ATR'][1][0]:\n",
    "        dict_position['ATR'][1][1]=0\n",
    "    #MRR:need last\n",
    "    elif dict_position['MRR'][0][0] < dict_position['MRR'][1][0]:\n",
    "        dict_position['MRR'][0][1]=0\n",
    "    #SBR:after HBR\n",
    "    for l in dict_position['SBR']:\n",
    "        if l[0] < dict_position['HBR'][0][0]:\n",
    "            l[1]=0\n",
    "    #PIR:after PRR\n",
    "    for l in dict_position['PIR']:\n",
    "        if l[0] < dict_position['PRR'][0][0]:\n",
    "            l[1]=0\n",
    "    \n",
    "    return dict_position\n",
    "\n",
    "\n",
    "def extract_data(processed_data):\n",
    "    record_type_split = processed_data.split(\"|\")\n",
    "    for data in range(1,len(record_type_split)):\n",
    "        data_extracted = record_type_split[data].split(\"%\")\n",
    "    return data_extracted\n",
    "\n"
   ]
  },
  {
   "cell_type": "markdown",
   "id": "4ad0960a",
   "metadata": {},
   "source": [
    "# execute"
   ]
  },
  {
   "cell_type": "code",
   "execution_count": 19,
   "id": "a1606027",
   "metadata": {},
   "outputs": [
    {
     "name": "stdout",
     "output_type": "stream",
     "text": [
      "b'\\x02\\x00\\x00\\n\\x02\\x04y\\x00\\x00\\x14\\xf8T\\xffWtdataformatter tester config; Ver: SmarTest s/w rev. 7.1.4.3 (E), 15-Oct-12; dataformatter 2.0.9 Oct 15 2012 18:37:15\\x82\\x00\\x01\\n\\xeaT\\xffW\\xf8T\\xffW\\x01 N \\xff\\xff \\x011\\x00\\x15localhost.localdomain\\t93000-SOC\\x05cp_32\\x00\\x00\\x07vincent\\x0593000 s/w rev. 7.1.4.3 (E), 15-Oct-12\\n\\x00\\x0525.25\\x00\\x00\\x00\\x00\\x00\\x00\\x00\\x00\\x00\\x00\\x00\\x00\\x00\\x00\\x00\\x00\\x00\\x00\\x14\\x00\\x01P\\x01\\x02\\x01\\x01\\x00\\x00\\x00\\x00\\x00\\x00\\x00\\x00\\x00\\x00\\x00\\x00\\x00\\x00\\x00\\x00\\x12\\x00\\x01<\\x01\\x00\\x01\\x00\\x03Xin\\x0510101\\x011\\x01\\x01\\x13\\x00\\x01<\\x02\\x00\\x02\\x00\\x04Xout\\x0510102\\x012\\x01\\x01\\x0e\\x00\\x01<\\x03\\x00\\x00\\x00\\x03VCC\\x0211\\x00\\x01\\x01\\x14\\x00\\x02\\x1e\\x00\\x00\\x00\\x00\\x00\\x00\\x00\\x00\\x00\\x00\\x00\\x00\\x00 \\x00\\x80\\x00\\x80  \\x07\\x00\\x02\\n\\x01\\x02\\xf8T\\xffW\\x00\\x02\\x00\\x05\\n\\x01\\x01\\x12\\x00\\x01<\\x01\\x00\\x01\\x00\\x03Xin\\x0510101\\x011\\x01\\x01\\x13\\x00\\x01<\\x02\\x00\\x02\\x00\\x04Xout\\x0510102\\x012\\x01\\x01\\x0e\\x00\\x01<\\x03\\x00\\x00\\x00\\x03VCC\\x0211\\x00\\x01\\x01\\x1a\\x00\\x05\\x14\\x01\\x01\\x00\\x00\\x00\\x01\\x00\\x01\\x00\\xfb\\xff\\xfc\\xff\\x03\\x02\\x00\\x00\\x011\\x050.000\\x00\\x02\\x00\\x05\\n\\x01\\x01\\x1a\\x00\\x05\\x14\\x01\\x01\\x00\\x00\\x00\\x01\\x00\\x01\\x00\\xff\\xff\\xfc\\xff\\x01\\x00\\x00\\x00\\x012\\x051.750\\x00\\x02\\x00\\x05\\n\\x01\\x01\\x1a\\x00\\x05\\x14\\x01\\x01\\x00\\x00\\x00\\x01\\x00\\x01\\x00\\x04\\x00\\xfc\\xff\\x01\\x00\\x00\\x00\\x013\\x052.201\\x00\\x02\\x00\\x05\\n\\x01\\x01\\x1a\\x00\\x05\\x14\\x01\\x01\\x00\\x00\\x00\\x01\\x00\\x01\\x00\\x06\\x00\\xfc\\xff\\x01\\x00\\x00\\x00\\x014\\x052.803\\x00\\x02\\x00\\x05\\n\\x01\\x01\\x1a\\x00\\x05\\x14\\x01\\x01\\x00\\x00\\x00\\x01\\x00\\x01\\x00\\x07\\x00\\xfc\\xff\\x01\\x00\\x00\\x00\\x015\\x052.547\\x00\\x02\\x00\\x05\\n\\x01\\x01\\x1a\\x00\\x05\\x14\\x01\\x01\\x00\\x00\\x00\\x01\\x00\\x01\\x00\\xf9\\xff\\xfd\\xff\\x01\\x00\\x00\\x00\\x016\\x052.702\\x00\\x02\\x00\\x05\\n\\x01\\x01\\x1a\\x00\\x05\\x14\\x01\\x01\\x00\\x00\\x00\\x01\\x00\\x01\\x00\\xfd\\xff\\xfd\\xff\\x01\\x00\\x00\\x00\\x017\\x052.700\\x00\\x02\\x00\\x05\\n\\x01\\x01\\x1a\\x00\\x05\\x14\\x01\\x01\\x00\\x00\\x00\\x01\\x00\\x01\\x00\\xfe\\xff\\xfd\\xff\\x01\\x00\\x00\\x00\\x018\\x052.101\\x00\\x02\\x00\\x05\\n\\x01\\x01\\x1a\\x00\\x05\\x14\\x01\\x01\\x00\\x00\\x00\\x01\\x00\\x01\\x00\\x03\\x00\\xfd\\xff\\x01\\x00\\x00\\x00\\x019\\x052.600\\x00\\x02\\x00\\x05\\n\\x01\\x01\\x1b\\x00\\x05\\x14\\x01\\x01\\x00\\x00\\x00\\x01\\x00\\x01\\x00\\x04\\x00\\xfd\\xff\\x01\\x00\\x00\\x00\\x0210\\x052.765\\x00\\x02\\x00\\x05\\n\\x01\\x01\\x1b\\x00\\x05\\x14\\x01\\x01\\x00\\x00\\x00\\x01\\x00\\x01\\x00\\x06\\x00\\xfd\\xff\\x01\\x00\\x00\\x00\\x0211\\x052.704\\x00\\x02\\x00\\x05\\n\\x01\\x01\\x1b\\x00\\x05\\x14\\x01\\x01\\x00\\x00\\x00\\x01\\x00\\x01\\x00\\xfa\\xff\\x00\\x00\\x01\\x00\\x00\\x00\\x0212\\x052.802\\x00\\x02\\x00\\x05\\n\\x01\\x01\\x1b\\x00\\x05\\x14\\x01\\x01\\x00\\x00\\x00\\x01\\x00\\x01\\x00\\xfc\\xff\\x00\\x00\\x01\\x00\\x00\\x00\\x0213\\x052.304\\x00 \\x00\\x02\\x14\\x01\\x021U\\xffW\\r\\x00\\x00\\x00\\x00\\x00\\x00\\x00\\xff\\xff\\xff\\xff\\r\\x00\\x00\\x00\\xff\\xff\\xff\\xff\\x00\\x00\\x00\\x00\\x00\\x00\\x0e\\x00\\x01(\\x01\\x01\\x01\\x00\\r\\x00\\x00\\x00P\\x04PASS\\x0e\\x00\\x01(\\xff\\x00\\x01\\x00\\r\\x00\\x00\\x00P\\x04PASS\\x0e\\x00\\x012\\x01\\x01\\x01\\x00\\r\\x00\\x00\\x00P\\x04PASS\\x0e\\x00\\x012\\xff\\x00\\x01\\x00\\r\\x00\\x00\\x00P\\x04PASS\\x16\\x00\\x01\\x1e\\x01\\x01\\r\\x00\\x00\\x00\\x00\\x00\\x00\\x00\\xff\\xff\\xff\\xff\\r\\x00\\x00\\x00\\xff\\xff\\xff\\xff\\x16\\x00\\x01\\x1e\\xff\\x00\\r\\x00\\x00\\x00\\x00\\x00\\x00\\x00\\xff\\xff\\xff\\xff\\r\\x00\\x00\\x00\\xff\\xff\\xff\\xff\\x07\\x00\\x01\\x141U\\xffW \\x00\\x00'\n"
     ]
    },
    {
     "ename": "TypeError",
     "evalue": "a bytes-like object is required, not 'str'",
     "output_type": "error",
     "traceback": [
      "\u001b[0;31m---------------------------------------------------------------------------\u001b[0m",
      "\u001b[0;31mTypeError\u001b[0m                                 Traceback (most recent call last)",
      "Cell \u001b[0;32mIn[19], line 7\u001b[0m\n\u001b[1;32m      4\u001b[0m \u001b[38;5;66;03m#str_row_data=str(row_data)\u001b[39;00m\n\u001b[1;32m      5\u001b[0m str_row_data\u001b[38;5;241m=\u001b[39mrow_data\n\u001b[0;32m----> 7\u001b[0m dict_position \u001b[38;5;241m=\u001b[39m \u001b[43mdebug_by_positionrule_2\u001b[49m\u001b[43m(\u001b[49m\u001b[43m)\u001b[49m\n\u001b[1;32m      9\u001b[0m \u001b[38;5;66;03m# data mark\u001b[39;00m\n\u001b[1;32m     10\u001b[0m processed_data \u001b[38;5;241m=\u001b[39m str_row_data\n",
      "Cell \u001b[0;32mIn[18], line 26\u001b[0m, in \u001b[0;36mdebug_by_positionrule_2\u001b[0;34m()\u001b[0m\n\u001b[1;32m     24\u001b[0m header \u001b[38;5;241m=\u001b[39m struct_packing(dict_pack[key][\u001b[38;5;241m0\u001b[39m],dict_pack[key][\u001b[38;5;241m1\u001b[39m])\n\u001b[1;32m     25\u001b[0m \u001b[38;5;28mprint\u001b[39m(str_row_data)\n\u001b[0;32m---> 26\u001b[0m group_list \u001b[38;5;241m=\u001b[39m \u001b[43mstr_row_data\u001b[49m\u001b[38;5;241;43m.\u001b[39;49m\u001b[43msplit\u001b[49m\u001b[43m(\u001b[49m\u001b[43mheader\u001b[49m\u001b[43m)\u001b[49m\n\u001b[1;32m     27\u001b[0m group_count \u001b[38;5;241m=\u001b[39m \u001b[38;5;241m0\u001b[39m\n\u001b[1;32m     28\u001b[0m dict_position[key]\u001b[38;5;241m=\u001b[39m[]\n",
      "\u001b[0;31mTypeError\u001b[0m: a bytes-like object is required, not 'str'"
     ]
    }
   ],
   "source": [
    "# read binary data\n",
    "with open(fname,mode='rb') as file:\n",
    "    row_data = file.read()\n",
    "#str_row_data=str(row_data)\n",
    "str_row_data=row_data\n",
    "\n",
    "dict_position = debug_by_positionrule_2()\n",
    "\n",
    "# data mark\n",
    "processed_data = str_row_data\n",
    "for num_key in range(0,25):\n",
    "    key = list(dict_pack.keys())[num_key]\n",
    "    header = struct_packing(dict_pack[key][0],dict_pack[key][1])\n",
    "    processed_data = data_mark(processed_data,header,key)\n",
    "processed_data"
   ]
  },
  {
   "cell_type": "code",
   "execution_count": 7,
   "id": "3a01a1e9",
   "metadata": {
    "scrolled": true
   },
   "outputs": [
    {
     "name": "stdout",
     "output_type": "stream",
     "text": [
      "3 ['\\\\x02\\\\x00', 'FAR:\\\\x00\\\\n', '\\\\x02\\\\']\n",
      "3 ['x04y\\\\x00', 'ATR:\\\\x00\\\\x14', '\\\\xf8T\\\\xffWtdataformatter tester config; Ver: SmarTest s/w rev. 7.1.4.3 (E), 15-Oct-12; dataformatter 2.0.9 Oct 15 2012 18:37:15']\n",
      "3 ['\\\\x82\\\\x00', 'MIR:\\\\x01\\\\n', '\\\\xeaT\\\\xffW\\\\xf8T\\\\xffW\\\\x01 N \\\\xff\\\\xff \\\\x011\\\\x00\\\\x15localhost.localdomain\\\\t93000-SOC\\\\x05cp_32\\\\x00\\\\x00\\\\x07vincent\\\\x0593000 s/w rev. 7.1.4.3 (E), ']\n",
      "3 ['15-Oct-1', 'GDR:2\\\\n', '\\\\x00\\\\x0525.25\\\\x00\\\\x00\\\\x00\\\\x00\\\\x00\\\\x00\\\\x00\\\\x00\\\\x00\\\\x00\\\\x00\\\\x00\\\\x00\\\\x00\\\\x00\\\\x00\\\\x00\\\\x00\\\\']\n",
      "4 ['x14', '\\\\x00', 'SDR:\\\\x01P', '\\\\x01\\\\x02\\\\x01\\\\x01\\\\x00\\\\x00\\\\x00\\\\x00\\\\x00\\\\x00\\\\x00\\\\x00\\\\x00\\\\x00\\\\x00\\\\x00\\\\x00\\\\x00\\\\x00\\\\x00']\n",
      "3 ['\\\\x12\\\\x00', 'PMR:\\\\x01<', '\\\\x01\\\\x00\\\\x01\\\\x00\\\\x03Xin\\\\x0510101\\\\x011\\\\x01\\\\x01']\n",
      "4 ['\\\\x13\\\\x00', 'PMR:\\\\x01<', '\\\\x02\\\\x00\\\\x02\\\\x00\\\\x04Xout\\\\x0510102\\\\x012', '\\\\x01\\\\x01']\n",
      "3 ['\\\\x0e\\\\x00', 'PMR:\\\\x01<', '\\\\x03\\\\x00\\\\x00\\\\x00\\\\x03VCC\\\\x0211']\n",
      "2 ['\\\\x00\\\\x01', 'MRR:\\\\x01\\\\']\n",
      "2 ['x14', '\\\\x00']\n",
      "5 ['', 'WCR:\\\\x0', 'DTR:2\\\\x1e', '', '\\\\x00\\\\x00\\\\x00\\\\x00\\\\x00\\\\x00\\\\x00\\\\x00\\\\x00\\\\x00\\\\x00\\\\x00\\\\x00 \\\\x00\\\\x80\\\\x00\\\\x80  ']\n",
      "1 ['\\\\x07\\\\x00']\n",
      "6 ['', 'WIR:\\\\x0', 'GDR:2\\\\n', '', '\\\\x01\\\\x02\\\\xf8T\\\\xffW\\\\x00\\\\x02\\\\x00\\\\x05\\\\n', '\\\\x01\\\\x01']\n",
      "3 ['\\\\x12\\\\x00', 'PMR:\\\\x01<', '\\\\x01\\\\x00\\\\x01\\\\x00\\\\x03Xin\\\\x0510101\\\\x011\\\\x01\\\\x01']\n",
      "4 ['\\\\x13\\\\x00', 'PMR:\\\\x01<', '\\\\x02\\\\x00\\\\x02\\\\x00\\\\x04Xout\\\\x0510102\\\\x012', '\\\\x01\\\\x01']\n",
      "3 ['\\\\x0e\\\\x00', 'PMR:\\\\x01<', '\\\\x03\\\\x00\\\\x00\\\\x00\\\\x03VCC\\\\x0211\\\\x00\\\\x01\\\\x01']\n",
      "3 ['\\\\x1a\\\\x00', 'PRR:\\\\x05\\\\x14', '\\\\x01\\\\x01\\\\x00\\\\x00\\\\x00\\\\x01\\\\x00\\\\x01\\\\x00\\\\xfb\\\\xff\\\\xfc\\\\xff\\\\x03\\\\x02\\\\x00\\\\x00\\\\x011\\\\x050.000\\\\x00']\n",
      "3 ['\\\\x02\\\\x00', 'PIR:\\\\x05\\\\n', '\\\\x01\\\\x01']\n",
      "4 ['\\\\x1a\\\\x00', 'PRR:\\\\x05\\\\x14', '\\\\x01\\\\x01\\\\x00\\\\x00\\\\x00\\\\x01\\\\x00\\\\x01\\\\x00\\\\xff\\\\xff\\\\xfc\\\\xff\\\\x01\\\\x00\\\\x00\\\\x00\\\\x012', '\\\\x051.750\\\\x00']\n",
      "3 ['\\\\x02\\\\x00', 'PIR:\\\\x05\\\\n', '\\\\x01\\\\x01']\n",
      "3 ['\\\\x1a\\\\x00', 'PRR:\\\\x05\\\\x14', '\\\\x01\\\\x01\\\\x00\\\\x00\\\\x00\\\\x01\\\\x00\\\\x01\\\\x00\\\\x04\\\\x00\\\\xfc\\\\xff\\\\x01\\\\x00\\\\x00\\\\x00\\\\x013\\\\x052.201\\\\x00']\n",
      "3 ['\\\\x02\\\\x00', 'PIR:\\\\x05\\\\n', '\\\\x01\\\\x01']\n",
      "3 ['\\\\x1a\\\\x00', 'PRR:\\\\x05\\\\x14', '\\\\x01\\\\x01\\\\x00\\\\x00\\\\x00\\\\x01\\\\x00\\\\x01\\\\x00\\\\x06\\\\x00\\\\xfc\\\\xff\\\\x01\\\\x00\\\\x00\\\\x00\\\\x014\\\\x052.803\\\\x00']\n",
      "3 ['\\\\x02\\\\x00', 'PIR:\\\\x05\\\\n', '\\\\x01\\\\x01']\n",
      "3 ['\\\\x1a\\\\x00', 'PRR:\\\\x05\\\\x14', '\\\\x01\\\\x01\\\\x00\\\\x00\\\\x00\\\\x01\\\\x00\\\\x01\\\\x00\\\\x07\\\\x00\\\\xfc\\\\xff\\\\x01\\\\x00\\\\x00\\\\x00\\\\x015\\\\x052.547\\\\x00']\n",
      "3 ['\\\\x02\\\\x00', 'PIR:\\\\x05\\\\n', '\\\\x01\\\\x01']\n",
      "3 ['\\\\x1a\\\\x00', 'PRR:\\\\x05\\\\x14', '\\\\x01\\\\x01\\\\x00\\\\x00\\\\x00\\\\x01\\\\x00\\\\x01\\\\x00\\\\xf9\\\\xff\\\\xfd\\\\xff\\\\x01\\\\x00\\\\x00\\\\x00\\\\x016\\\\x052.702\\\\x00']\n",
      "3 ['\\\\x02\\\\x00', 'PIR:\\\\x05\\\\n', '\\\\x01\\\\x01']\n",
      "3 ['\\\\x1a\\\\x00', 'PRR:\\\\x05\\\\x14', '\\\\x01\\\\x01\\\\x00\\\\x00\\\\x00\\\\x01\\\\x00\\\\x01\\\\x00\\\\xfd\\\\xff\\\\xfd\\\\xff\\\\x01\\\\x00\\\\x00\\\\x00\\\\x017\\\\x052.700\\\\x00']\n",
      "3 ['\\\\x02\\\\x00', 'PIR:\\\\x05\\\\n', '\\\\x01\\\\x01']\n",
      "3 ['\\\\x1a\\\\x00', 'PRR:\\\\x05\\\\x14', '\\\\x01\\\\x01\\\\x00\\\\x00\\\\x00\\\\x01\\\\x00\\\\x01\\\\x00\\\\xfe\\\\xff\\\\xfd\\\\xff\\\\x01\\\\x00\\\\x00\\\\x00\\\\x018\\\\x052.101\\\\x00']\n",
      "3 ['\\\\x02\\\\x00', 'PIR:\\\\x05\\\\n', '\\\\x01\\\\x01']\n",
      "3 ['\\\\x1a\\\\x00', 'PRR:\\\\x05\\\\x14', '\\\\x01\\\\x01\\\\x00\\\\x00\\\\x00\\\\x01\\\\x00\\\\x01\\\\x00\\\\x03\\\\x00\\\\xfd\\\\xff\\\\x01\\\\x00\\\\x00\\\\x00\\\\x019\\\\x052.600\\\\x00']\n",
      "3 ['\\\\x02\\\\x00', 'PIR:\\\\x05\\\\n', '\\\\x01\\\\x01']\n",
      "3 ['\\\\x1b\\\\x00', 'PRR:\\\\x05\\\\x14', '\\\\x01\\\\x01\\\\x00\\\\x00\\\\x00\\\\x01\\\\x00\\\\x01\\\\x00\\\\x04\\\\x00\\\\xfd\\\\xff\\\\x01\\\\x00\\\\x00\\\\x00\\\\x0210\\\\x052.765\\\\x00']\n",
      "3 ['\\\\x02\\\\x00', 'PIR:\\\\x05\\\\n', '\\\\x01\\\\x01']\n",
      "3 ['\\\\x1b\\\\x00', 'PRR:\\\\x05\\\\x14', '\\\\x01\\\\x01\\\\x00\\\\x00\\\\x00\\\\x01\\\\x00\\\\x01\\\\x00\\\\x06\\\\x00\\\\xfd\\\\xff\\\\x01\\\\x00\\\\x00\\\\x00\\\\x0211\\\\x052.704\\\\x00']\n",
      "3 ['\\\\x02\\\\x00', 'PIR:\\\\x05\\\\n', '\\\\x01\\\\x01']\n",
      "3 ['\\\\x1b\\\\x00', 'PRR:\\\\x05\\\\x14', '\\\\x01\\\\x01\\\\x00\\\\x00\\\\x00\\\\x01\\\\x00\\\\x01\\\\x00\\\\xfa\\\\xff\\\\x00\\\\x00\\\\x01\\\\x00\\\\x00\\\\x00\\\\x0212\\\\x052.802\\\\x00']\n",
      "3 ['\\\\x02\\\\x00', 'PIR:\\\\x05\\\\n', '\\\\x01\\\\x01']\n",
      "3 ['\\\\x1b\\\\x00', 'PRR:\\\\x05\\\\x14', '\\\\x01\\\\x01\\\\x00\\\\x00\\\\x00\\\\x01\\\\x00\\\\x01\\\\x00\\\\xfc\\\\xff\\\\x00\\\\x00\\\\x01\\\\x00\\\\x00\\\\x00\\\\x0213\\\\x052.304\\\\']\n",
      "3 ['x00 \\\\x00', 'WRR:\\\\x02\\\\x14', '\\\\x01\\\\x021U\\\\xffW\\\\r\\\\x00\\\\x00\\\\x00\\\\x00\\\\x00\\\\x00\\\\x00\\\\xff\\\\xff\\\\xff\\\\xff\\\\r\\\\x00\\\\x00\\\\x00\\\\xff\\\\xff\\\\xff\\\\xff\\\\x00\\\\x00\\\\x00\\\\x00\\\\x00\\\\x00']\n",
      "3 ['\\\\x0e\\\\x00', 'HBR:\\\\x01(', '\\\\x01\\\\x01\\\\x01\\\\x00\\\\r\\\\x00\\\\x00\\\\x00P\\\\x04PASS']\n",
      "3 ['\\\\x0e\\\\x00', 'HBR:\\\\x01(', '\\\\xff\\\\x00\\\\x01\\\\x00\\\\r\\\\x00\\\\x00\\\\x00P\\\\x04PASS']\n",
      "3 ['\\\\x0e\\\\x00', 'SBR:\\\\x012', '\\\\x01\\\\x01\\\\x01\\\\x00\\\\r\\\\x00\\\\x00\\\\x00P\\\\x04PASS']\n",
      "3 ['\\\\x0e\\\\x00', 'SBR:\\\\x012', '\\\\xff\\\\x00\\\\x01\\\\x00\\\\r\\\\x00\\\\x00\\\\x00P\\\\x04PASS']\n",
      "3 ['\\\\x16\\\\x00', 'PCR:\\\\x01\\\\x1e', '\\\\x01\\\\x01\\\\r\\\\x00\\\\x00\\\\x00\\\\x00\\\\x00\\\\x00\\\\x00\\\\xff\\\\xff\\\\xff\\\\xff\\\\r\\\\x00\\\\x00\\\\x00\\\\xff\\\\xff\\\\xff\\\\xff']\n",
      "3 ['\\\\x16\\\\x00', 'PCR:\\\\x01\\\\x1e', '\\\\xff\\\\x00\\\\r\\\\x00\\\\x00\\\\x00\\\\x00\\\\x00\\\\x00\\\\x00\\\\xff\\\\xff\\\\xff\\\\xff\\\\r\\\\x00\\\\x00\\\\x00\\\\xff\\\\xff\\\\xff\\\\xff']\n",
      "3 ['\\\\x07\\\\x00', 'MRR:\\\\x01\\\\x14', \"1U\\\\xffW \\\\x00\\\\x00'\"]\n"
     ]
    }
   ],
   "source": [
    "#check data integrity\n",
    "record_type_split = processed_data.split(\"|\")\n",
    "for data in range(1,len(record_type_split)):\n",
    "    data_extracted = record_type_split[data].split(\"%\")\n",
    "    print(len(data_extracted),data_extracted)"
   ]
  },
  {
   "cell_type": "code",
   "execution_count": 8,
   "id": "f620dd5b",
   "metadata": {},
   "outputs": [
    {
     "name": "stdout",
     "output_type": "stream",
     "text": [
      "h ['\\\\x02\\\\x00', 'x04y\\\\x00', '\\\\x82\\\\x00', '15-Oct-1', '\\\\x12\\\\x00', '\\\\x0e\\\\x00', '\\\\x12\\\\x00', '\\\\x0e\\\\x00', '\\\\x1a\\\\x00', '\\\\x02\\\\x00', '\\\\x02\\\\x00', '\\\\x1a\\\\x00', '\\\\x02\\\\x00', '\\\\x1a\\\\x00', '\\\\x02\\\\x00', '\\\\x1a\\\\x00', '\\\\x02\\\\x00', '\\\\x1a\\\\x00', '\\\\x02\\\\x00', '\\\\x1a\\\\x00', '\\\\x02\\\\x00', '\\\\x1a\\\\x00', '\\\\x02\\\\x00', '\\\\x1a\\\\x00', '\\\\x02\\\\x00', '\\\\x1b\\\\x00', '\\\\x02\\\\x00', '\\\\x1b\\\\x00', '\\\\x02\\\\x00', '\\\\x1b\\\\x00', '\\\\x02\\\\x00', '\\\\x1b\\\\x00', 'x00 \\\\x00', '\\\\x0e\\\\x00', '\\\\x0e\\\\x00', '\\\\x0e\\\\x00', '\\\\x0e\\\\x00', '\\\\x16\\\\x00', '\\\\x16\\\\x00', '\\\\x07\\\\x00']\n",
      "\n",
      "r ['FAR', 'ATR', 'MIR', 'GDR', 'PMR', 'PMR', 'PMR', 'PMR', 'PRR', 'PIR', 'PIR', 'PRR', 'PIR', 'PRR', 'PIR', 'PRR', 'PIR', 'PRR', 'PIR', 'PRR', 'PIR', 'PRR', 'PIR', 'PRR', 'PIR', 'PRR', 'PIR', 'PRR', 'PIR', 'PRR', 'PIR', 'PRR', 'WRR', 'HBR', 'HBR', 'SBR', 'SBR', 'PCR', 'PCR', 'MRR']\n",
      "\n",
      "b ['\\\\x02\\\\', '\\\\xf8T\\\\xffWtdataformatter tester config; Ver: SmarTest s/w rev. 7.1.4.3 (E), 15-Oct-12; dataformatter 2.0.9 Oct 15 2012 18:37:15', '\\\\xeaT\\\\xffW\\\\xf8T\\\\xffW\\\\x01 N \\\\xff\\\\xff \\\\x011\\\\x00\\\\x15localhost.localdomain\\\\t93000-SOC\\\\x05cp_32\\\\x00\\\\x00\\\\x07vincent\\\\x0593000 s/w rev. 7.1.4.3 (E), ', '\\\\x00\\\\x0525.25\\\\x00\\\\x00\\\\x00\\\\x00\\\\x00\\\\x00\\\\x00\\\\x00\\\\x00\\\\x00\\\\x00\\\\x00\\\\x00\\\\x00\\\\x00\\\\x00\\\\x00\\\\x00\\\\', '\\\\x01\\\\x00\\\\x01\\\\x00\\\\x03Xin\\\\x0510101\\\\x011\\\\x01\\\\x01', '\\\\x03\\\\x00\\\\x00\\\\x00\\\\x03VCC\\\\x0211', '\\\\x01\\\\x00\\\\x01\\\\x00\\\\x03Xin\\\\x0510101\\\\x011\\\\x01\\\\x01', '\\\\x03\\\\x00\\\\x00\\\\x00\\\\x03VCC\\\\x0211\\\\x00\\\\x01\\\\x01', '\\\\x01\\\\x01\\\\x00\\\\x00\\\\x00\\\\x01\\\\x00\\\\x01\\\\x00\\\\xfb\\\\xff\\\\xfc\\\\xff\\\\x03\\\\x02\\\\x00\\\\x00\\\\x011\\\\x050.000\\\\x00', '\\\\x01\\\\x01', '\\\\x01\\\\x01', '\\\\x01\\\\x01\\\\x00\\\\x00\\\\x00\\\\x01\\\\x00\\\\x01\\\\x00\\\\x04\\\\x00\\\\xfc\\\\xff\\\\x01\\\\x00\\\\x00\\\\x00\\\\x013\\\\x052.201\\\\x00', '\\\\x01\\\\x01', '\\\\x01\\\\x01\\\\x00\\\\x00\\\\x00\\\\x01\\\\x00\\\\x01\\\\x00\\\\x06\\\\x00\\\\xfc\\\\xff\\\\x01\\\\x00\\\\x00\\\\x00\\\\x014\\\\x052.803\\\\x00', '\\\\x01\\\\x01', '\\\\x01\\\\x01\\\\x00\\\\x00\\\\x00\\\\x01\\\\x00\\\\x01\\\\x00\\\\x07\\\\x00\\\\xfc\\\\xff\\\\x01\\\\x00\\\\x00\\\\x00\\\\x015\\\\x052.547\\\\x00', '\\\\x01\\\\x01', '\\\\x01\\\\x01\\\\x00\\\\x00\\\\x00\\\\x01\\\\x00\\\\x01\\\\x00\\\\xf9\\\\xff\\\\xfd\\\\xff\\\\x01\\\\x00\\\\x00\\\\x00\\\\x016\\\\x052.702\\\\x00', '\\\\x01\\\\x01', '\\\\x01\\\\x01\\\\x00\\\\x00\\\\x00\\\\x01\\\\x00\\\\x01\\\\x00\\\\xfd\\\\xff\\\\xfd\\\\xff\\\\x01\\\\x00\\\\x00\\\\x00\\\\x017\\\\x052.700\\\\x00', '\\\\x01\\\\x01', '\\\\x01\\\\x01\\\\x00\\\\x00\\\\x00\\\\x01\\\\x00\\\\x01\\\\x00\\\\xfe\\\\xff\\\\xfd\\\\xff\\\\x01\\\\x00\\\\x00\\\\x00\\\\x018\\\\x052.101\\\\x00', '\\\\x01\\\\x01', '\\\\x01\\\\x01\\\\x00\\\\x00\\\\x00\\\\x01\\\\x00\\\\x01\\\\x00\\\\x03\\\\x00\\\\xfd\\\\xff\\\\x01\\\\x00\\\\x00\\\\x00\\\\x019\\\\x052.600\\\\x00', '\\\\x01\\\\x01', '\\\\x01\\\\x01\\\\x00\\\\x00\\\\x00\\\\x01\\\\x00\\\\x01\\\\x00\\\\x04\\\\x00\\\\xfd\\\\xff\\\\x01\\\\x00\\\\x00\\\\x00\\\\x0210\\\\x052.765\\\\x00', '\\\\x01\\\\x01', '\\\\x01\\\\x01\\\\x00\\\\x00\\\\x00\\\\x01\\\\x00\\\\x01\\\\x00\\\\x06\\\\x00\\\\xfd\\\\xff\\\\x01\\\\x00\\\\x00\\\\x00\\\\x0211\\\\x052.704\\\\x00', '\\\\x01\\\\x01', '\\\\x01\\\\x01\\\\x00\\\\x00\\\\x00\\\\x01\\\\x00\\\\x01\\\\x00\\\\xfa\\\\xff\\\\x00\\\\x00\\\\x01\\\\x00\\\\x00\\\\x00\\\\x0212\\\\x052.802\\\\x00', '\\\\x01\\\\x01', '\\\\x01\\\\x01\\\\x00\\\\x00\\\\x00\\\\x01\\\\x00\\\\x01\\\\x00\\\\xfc\\\\xff\\\\x00\\\\x00\\\\x01\\\\x00\\\\x00\\\\x00\\\\x0213\\\\x052.304\\\\', '\\\\x01\\\\x021U\\\\xffW\\\\r\\\\x00\\\\x00\\\\x00\\\\x00\\\\x00\\\\x00\\\\x00\\\\xff\\\\xff\\\\xff\\\\xff\\\\r\\\\x00\\\\x00\\\\x00\\\\xff\\\\xff\\\\xff\\\\xff\\\\x00\\\\x00\\\\x00\\\\x00\\\\x00\\\\x00', '\\\\x01\\\\x01\\\\x01\\\\x00\\\\r\\\\x00\\\\x00\\\\x00P\\\\x04PASS', '\\\\xff\\\\x00\\\\x01\\\\x00\\\\r\\\\x00\\\\x00\\\\x00P\\\\x04PASS', '\\\\x01\\\\x01\\\\x01\\\\x00\\\\r\\\\x00\\\\x00\\\\x00P\\\\x04PASS', '\\\\xff\\\\x00\\\\x01\\\\x00\\\\r\\\\x00\\\\x00\\\\x00P\\\\x04PASS', '\\\\x01\\\\x01\\\\r\\\\x00\\\\x00\\\\x00\\\\x00\\\\x00\\\\x00\\\\x00\\\\xff\\\\xff\\\\xff\\\\xff\\\\r\\\\x00\\\\x00\\\\x00\\\\xff\\\\xff\\\\xff\\\\xff', '\\\\xff\\\\x00\\\\r\\\\x00\\\\x00\\\\x00\\\\x00\\\\x00\\\\x00\\\\x00\\\\xff\\\\xff\\\\xff\\\\xff\\\\r\\\\x00\\\\x00\\\\x00\\\\xff\\\\xff\\\\xff\\\\xff', \"1U\\\\xffW \\\\x00\\\\x00'\"]\n",
      "\n",
      "m [['x14', '\\\\x00', 'SDR:\\\\x01P', '\\\\x01\\\\x02\\\\x01\\\\x01\\\\x00\\\\x00\\\\x00\\\\x00\\\\x00\\\\x00\\\\x00\\\\x00\\\\x00\\\\x00\\\\x00\\\\x00\\\\x00\\\\x00\\\\x00\\\\x00'], ['\\\\x13\\\\x00', 'PMR:\\\\x01<', '\\\\x02\\\\x00\\\\x02\\\\x00\\\\x04Xout\\\\x0510102\\\\x012', '\\\\x01\\\\x01'], ['\\\\x00\\\\x01', 'MRR:\\\\x01\\\\'], ['x14', '\\\\x00'], ['', 'WCR:\\\\x0', 'DTR:2\\\\x1e', '', '\\\\x00\\\\x00\\\\x00\\\\x00\\\\x00\\\\x00\\\\x00\\\\x00\\\\x00\\\\x00\\\\x00\\\\x00\\\\x00 \\\\x00\\\\x80\\\\x00\\\\x80  '], ['\\\\x07\\\\x00'], ['', 'WIR:\\\\x0', 'GDR:2\\\\n', '', '\\\\x01\\\\x02\\\\xf8T\\\\xffW\\\\x00\\\\x02\\\\x00\\\\x05\\\\n', '\\\\x01\\\\x01'], ['\\\\x13\\\\x00', 'PMR:\\\\x01<', '\\\\x02\\\\x00\\\\x02\\\\x00\\\\x04Xout\\\\x0510102\\\\x012', '\\\\x01\\\\x01'], ['\\\\x1a\\\\x00', 'PRR:\\\\x05\\\\x14', '\\\\x01\\\\x01\\\\x00\\\\x00\\\\x00\\\\x01\\\\x00\\\\x01\\\\x00\\\\xff\\\\xff\\\\xfc\\\\xff\\\\x01\\\\x00\\\\x00\\\\x00\\\\x012', '\\\\x051.750\\\\x00']]\n"
     ]
    }
   ],
   "source": [
    "head_part = []\n",
    "record_type = []\n",
    "body_part = []\n",
    "missing_data = []\n",
    "\n",
    "record_type_split = processed_data.split(\"|\")\n",
    "for data in range(1,len(record_type_split)):\n",
    "    data_extracted = record_type_split[data].split(\"%\")\n",
    "        \n",
    "    if len(data_extracted) == 3:\n",
    "        head_part.append(data_extracted[0])\n",
    "        record_type.append(data_extracted[1].split(\":\")[0])\n",
    "        body_part.append(data_extracted[2])\n",
    "    else:\n",
    "        missing_data.append(data_extracted)       \n",
    "        \n",
    "print(\"h\",head_part)\n",
    "print(\"\\nr\",record_type)\n",
    "print(\"\\nb\",body_part)\n",
    "print(\"\\nm\",missing_data)\n"
   ]
  },
  {
   "cell_type": "code",
   "execution_count": 9,
   "id": "1e3b3c4a",
   "metadata": {
    "scrolled": true
   },
   "outputs": [],
   "source": [
    "zip_data = zip(head_part,record_type,body_part)\n",
    "list_data = list(zip_data)"
   ]
  },
  {
   "cell_type": "code",
   "execution_count": 10,
   "id": "0307f12e",
   "metadata": {},
   "outputs": [
    {
     "data": {
      "text/html": [
       "<div>\n",
       "<style scoped>\n",
       "    .dataframe tbody tr th:only-of-type {\n",
       "        vertical-align: middle;\n",
       "    }\n",
       "\n",
       "    .dataframe tbody tr th {\n",
       "        vertical-align: top;\n",
       "    }\n",
       "\n",
       "    .dataframe thead th {\n",
       "        text-align: right;\n",
       "    }\n",
       "</style>\n",
       "<table border=\"1\" class=\"dataframe\">\n",
       "  <thead>\n",
       "    <tr style=\"text-align: right;\">\n",
       "      <th></th>\n",
       "      <th>rec_length</th>\n",
       "      <th>rec_type</th>\n",
       "      <th>rec_body</th>\n",
       "    </tr>\n",
       "  </thead>\n",
       "  <tbody>\n",
       "    <tr>\n",
       "      <th>0</th>\n",
       "      <td>\\x02\\x00</td>\n",
       "      <td>FAR</td>\n",
       "      <td>\\x02\\</td>\n",
       "    </tr>\n",
       "    <tr>\n",
       "      <th>1</th>\n",
       "      <td>x04y\\x00</td>\n",
       "      <td>ATR</td>\n",
       "      <td>\\xf8T\\xffWtdataformatter tester config; Ver: S...</td>\n",
       "    </tr>\n",
       "    <tr>\n",
       "      <th>2</th>\n",
       "      <td>\\x82\\x00</td>\n",
       "      <td>MIR</td>\n",
       "      <td>\\xeaT\\xffW\\xf8T\\xffW\\x01 N \\xff\\xff \\x011\\x00\\...</td>\n",
       "    </tr>\n",
       "    <tr>\n",
       "      <th>3</th>\n",
       "      <td>15-Oct-1</td>\n",
       "      <td>GDR</td>\n",
       "      <td>\\x00\\x0525.25\\x00\\x00\\x00\\x00\\x00\\x00\\x00\\x00\\...</td>\n",
       "    </tr>\n",
       "    <tr>\n",
       "      <th>4</th>\n",
       "      <td>\\x12\\x00</td>\n",
       "      <td>PMR</td>\n",
       "      <td>\\x01\\x00\\x01\\x00\\x03Xin\\x0510101\\x011\\x01\\x01</td>\n",
       "    </tr>\n",
       "    <tr>\n",
       "      <th>5</th>\n",
       "      <td>\\x0e\\x00</td>\n",
       "      <td>PMR</td>\n",
       "      <td>\\x03\\x00\\x00\\x00\\x03VCC\\x0211</td>\n",
       "    </tr>\n",
       "    <tr>\n",
       "      <th>6</th>\n",
       "      <td>\\x12\\x00</td>\n",
       "      <td>PMR</td>\n",
       "      <td>\\x01\\x00\\x01\\x00\\x03Xin\\x0510101\\x011\\x01\\x01</td>\n",
       "    </tr>\n",
       "    <tr>\n",
       "      <th>7</th>\n",
       "      <td>\\x0e\\x00</td>\n",
       "      <td>PMR</td>\n",
       "      <td>\\x03\\x00\\x00\\x00\\x03VCC\\x0211\\x00\\x01\\x01</td>\n",
       "    </tr>\n",
       "    <tr>\n",
       "      <th>8</th>\n",
       "      <td>\\x1a\\x00</td>\n",
       "      <td>PRR</td>\n",
       "      <td>\\x01\\x01\\x00\\x00\\x00\\x01\\x00\\x01\\x00\\xfb\\xff\\x...</td>\n",
       "    </tr>\n",
       "    <tr>\n",
       "      <th>9</th>\n",
       "      <td>\\x02\\x00</td>\n",
       "      <td>PIR</td>\n",
       "      <td>\\x01\\x01</td>\n",
       "    </tr>\n",
       "    <tr>\n",
       "      <th>10</th>\n",
       "      <td>\\x02\\x00</td>\n",
       "      <td>PIR</td>\n",
       "      <td>\\x01\\x01</td>\n",
       "    </tr>\n",
       "    <tr>\n",
       "      <th>11</th>\n",
       "      <td>\\x1a\\x00</td>\n",
       "      <td>PRR</td>\n",
       "      <td>\\x01\\x01\\x00\\x00\\x00\\x01\\x00\\x01\\x00\\x04\\x00\\x...</td>\n",
       "    </tr>\n",
       "    <tr>\n",
       "      <th>12</th>\n",
       "      <td>\\x02\\x00</td>\n",
       "      <td>PIR</td>\n",
       "      <td>\\x01\\x01</td>\n",
       "    </tr>\n",
       "    <tr>\n",
       "      <th>13</th>\n",
       "      <td>\\x1a\\x00</td>\n",
       "      <td>PRR</td>\n",
       "      <td>\\x01\\x01\\x00\\x00\\x00\\x01\\x00\\x01\\x00\\x06\\x00\\x...</td>\n",
       "    </tr>\n",
       "    <tr>\n",
       "      <th>14</th>\n",
       "      <td>\\x02\\x00</td>\n",
       "      <td>PIR</td>\n",
       "      <td>\\x01\\x01</td>\n",
       "    </tr>\n",
       "    <tr>\n",
       "      <th>15</th>\n",
       "      <td>\\x1a\\x00</td>\n",
       "      <td>PRR</td>\n",
       "      <td>\\x01\\x01\\x00\\x00\\x00\\x01\\x00\\x01\\x00\\x07\\x00\\x...</td>\n",
       "    </tr>\n",
       "    <tr>\n",
       "      <th>16</th>\n",
       "      <td>\\x02\\x00</td>\n",
       "      <td>PIR</td>\n",
       "      <td>\\x01\\x01</td>\n",
       "    </tr>\n",
       "    <tr>\n",
       "      <th>17</th>\n",
       "      <td>\\x1a\\x00</td>\n",
       "      <td>PRR</td>\n",
       "      <td>\\x01\\x01\\x00\\x00\\x00\\x01\\x00\\x01\\x00\\xf9\\xff\\x...</td>\n",
       "    </tr>\n",
       "    <tr>\n",
       "      <th>18</th>\n",
       "      <td>\\x02\\x00</td>\n",
       "      <td>PIR</td>\n",
       "      <td>\\x01\\x01</td>\n",
       "    </tr>\n",
       "    <tr>\n",
       "      <th>19</th>\n",
       "      <td>\\x1a\\x00</td>\n",
       "      <td>PRR</td>\n",
       "      <td>\\x01\\x01\\x00\\x00\\x00\\x01\\x00\\x01\\x00\\xfd\\xff\\x...</td>\n",
       "    </tr>\n",
       "    <tr>\n",
       "      <th>20</th>\n",
       "      <td>\\x02\\x00</td>\n",
       "      <td>PIR</td>\n",
       "      <td>\\x01\\x01</td>\n",
       "    </tr>\n",
       "    <tr>\n",
       "      <th>21</th>\n",
       "      <td>\\x1a\\x00</td>\n",
       "      <td>PRR</td>\n",
       "      <td>\\x01\\x01\\x00\\x00\\x00\\x01\\x00\\x01\\x00\\xfe\\xff\\x...</td>\n",
       "    </tr>\n",
       "    <tr>\n",
       "      <th>22</th>\n",
       "      <td>\\x02\\x00</td>\n",
       "      <td>PIR</td>\n",
       "      <td>\\x01\\x01</td>\n",
       "    </tr>\n",
       "    <tr>\n",
       "      <th>23</th>\n",
       "      <td>\\x1a\\x00</td>\n",
       "      <td>PRR</td>\n",
       "      <td>\\x01\\x01\\x00\\x00\\x00\\x01\\x00\\x01\\x00\\x03\\x00\\x...</td>\n",
       "    </tr>\n",
       "    <tr>\n",
       "      <th>24</th>\n",
       "      <td>\\x02\\x00</td>\n",
       "      <td>PIR</td>\n",
       "      <td>\\x01\\x01</td>\n",
       "    </tr>\n",
       "    <tr>\n",
       "      <th>25</th>\n",
       "      <td>\\x1b\\x00</td>\n",
       "      <td>PRR</td>\n",
       "      <td>\\x01\\x01\\x00\\x00\\x00\\x01\\x00\\x01\\x00\\x04\\x00\\x...</td>\n",
       "    </tr>\n",
       "    <tr>\n",
       "      <th>26</th>\n",
       "      <td>\\x02\\x00</td>\n",
       "      <td>PIR</td>\n",
       "      <td>\\x01\\x01</td>\n",
       "    </tr>\n",
       "    <tr>\n",
       "      <th>27</th>\n",
       "      <td>\\x1b\\x00</td>\n",
       "      <td>PRR</td>\n",
       "      <td>\\x01\\x01\\x00\\x00\\x00\\x01\\x00\\x01\\x00\\x06\\x00\\x...</td>\n",
       "    </tr>\n",
       "    <tr>\n",
       "      <th>28</th>\n",
       "      <td>\\x02\\x00</td>\n",
       "      <td>PIR</td>\n",
       "      <td>\\x01\\x01</td>\n",
       "    </tr>\n",
       "    <tr>\n",
       "      <th>29</th>\n",
       "      <td>\\x1b\\x00</td>\n",
       "      <td>PRR</td>\n",
       "      <td>\\x01\\x01\\x00\\x00\\x00\\x01\\x00\\x01\\x00\\xfa\\xff\\x...</td>\n",
       "    </tr>\n",
       "    <tr>\n",
       "      <th>30</th>\n",
       "      <td>\\x02\\x00</td>\n",
       "      <td>PIR</td>\n",
       "      <td>\\x01\\x01</td>\n",
       "    </tr>\n",
       "    <tr>\n",
       "      <th>31</th>\n",
       "      <td>\\x1b\\x00</td>\n",
       "      <td>PRR</td>\n",
       "      <td>\\x01\\x01\\x00\\x00\\x00\\x01\\x00\\x01\\x00\\xfc\\xff\\x...</td>\n",
       "    </tr>\n",
       "    <tr>\n",
       "      <th>32</th>\n",
       "      <td>x00 \\x00</td>\n",
       "      <td>WRR</td>\n",
       "      <td>\\x01\\x021U\\xffW\\r\\x00\\x00\\x00\\x00\\x00\\x00\\x00\\...</td>\n",
       "    </tr>\n",
       "    <tr>\n",
       "      <th>33</th>\n",
       "      <td>\\x0e\\x00</td>\n",
       "      <td>HBR</td>\n",
       "      <td>\\x01\\x01\\x01\\x00\\r\\x00\\x00\\x00P\\x04PASS</td>\n",
       "    </tr>\n",
       "    <tr>\n",
       "      <th>34</th>\n",
       "      <td>\\x0e\\x00</td>\n",
       "      <td>HBR</td>\n",
       "      <td>\\xff\\x00\\x01\\x00\\r\\x00\\x00\\x00P\\x04PASS</td>\n",
       "    </tr>\n",
       "    <tr>\n",
       "      <th>35</th>\n",
       "      <td>\\x0e\\x00</td>\n",
       "      <td>SBR</td>\n",
       "      <td>\\x01\\x01\\x01\\x00\\r\\x00\\x00\\x00P\\x04PASS</td>\n",
       "    </tr>\n",
       "    <tr>\n",
       "      <th>36</th>\n",
       "      <td>\\x0e\\x00</td>\n",
       "      <td>SBR</td>\n",
       "      <td>\\xff\\x00\\x01\\x00\\r\\x00\\x00\\x00P\\x04PASS</td>\n",
       "    </tr>\n",
       "    <tr>\n",
       "      <th>37</th>\n",
       "      <td>\\x16\\x00</td>\n",
       "      <td>PCR</td>\n",
       "      <td>\\x01\\x01\\r\\x00\\x00\\x00\\x00\\x00\\x00\\x00\\xff\\xff...</td>\n",
       "    </tr>\n",
       "    <tr>\n",
       "      <th>38</th>\n",
       "      <td>\\x16\\x00</td>\n",
       "      <td>PCR</td>\n",
       "      <td>\\xff\\x00\\r\\x00\\x00\\x00\\x00\\x00\\x00\\x00\\xff\\xff...</td>\n",
       "    </tr>\n",
       "    <tr>\n",
       "      <th>39</th>\n",
       "      <td>\\x07\\x00</td>\n",
       "      <td>MRR</td>\n",
       "      <td>1U\\xffW \\x00\\x00'</td>\n",
       "    </tr>\n",
       "  </tbody>\n",
       "</table>\n",
       "</div>"
      ],
      "text/plain": [
       "   rec_length rec_type                                           rec_body\n",
       "0    \\x02\\x00      FAR                                              \\x02\\\n",
       "1    x04y\\x00      ATR  \\xf8T\\xffWtdataformatter tester config; Ver: S...\n",
       "2    \\x82\\x00      MIR  \\xeaT\\xffW\\xf8T\\xffW\\x01 N \\xff\\xff \\x011\\x00\\...\n",
       "3    15-Oct-1      GDR  \\x00\\x0525.25\\x00\\x00\\x00\\x00\\x00\\x00\\x00\\x00\\...\n",
       "4    \\x12\\x00      PMR      \\x01\\x00\\x01\\x00\\x03Xin\\x0510101\\x011\\x01\\x01\n",
       "5    \\x0e\\x00      PMR                      \\x03\\x00\\x00\\x00\\x03VCC\\x0211\n",
       "6    \\x12\\x00      PMR      \\x01\\x00\\x01\\x00\\x03Xin\\x0510101\\x011\\x01\\x01\n",
       "7    \\x0e\\x00      PMR          \\x03\\x00\\x00\\x00\\x03VCC\\x0211\\x00\\x01\\x01\n",
       "8    \\x1a\\x00      PRR  \\x01\\x01\\x00\\x00\\x00\\x01\\x00\\x01\\x00\\xfb\\xff\\x...\n",
       "9    \\x02\\x00      PIR                                           \\x01\\x01\n",
       "10   \\x02\\x00      PIR                                           \\x01\\x01\n",
       "11   \\x1a\\x00      PRR  \\x01\\x01\\x00\\x00\\x00\\x01\\x00\\x01\\x00\\x04\\x00\\x...\n",
       "12   \\x02\\x00      PIR                                           \\x01\\x01\n",
       "13   \\x1a\\x00      PRR  \\x01\\x01\\x00\\x00\\x00\\x01\\x00\\x01\\x00\\x06\\x00\\x...\n",
       "14   \\x02\\x00      PIR                                           \\x01\\x01\n",
       "15   \\x1a\\x00      PRR  \\x01\\x01\\x00\\x00\\x00\\x01\\x00\\x01\\x00\\x07\\x00\\x...\n",
       "16   \\x02\\x00      PIR                                           \\x01\\x01\n",
       "17   \\x1a\\x00      PRR  \\x01\\x01\\x00\\x00\\x00\\x01\\x00\\x01\\x00\\xf9\\xff\\x...\n",
       "18   \\x02\\x00      PIR                                           \\x01\\x01\n",
       "19   \\x1a\\x00      PRR  \\x01\\x01\\x00\\x00\\x00\\x01\\x00\\x01\\x00\\xfd\\xff\\x...\n",
       "20   \\x02\\x00      PIR                                           \\x01\\x01\n",
       "21   \\x1a\\x00      PRR  \\x01\\x01\\x00\\x00\\x00\\x01\\x00\\x01\\x00\\xfe\\xff\\x...\n",
       "22   \\x02\\x00      PIR                                           \\x01\\x01\n",
       "23   \\x1a\\x00      PRR  \\x01\\x01\\x00\\x00\\x00\\x01\\x00\\x01\\x00\\x03\\x00\\x...\n",
       "24   \\x02\\x00      PIR                                           \\x01\\x01\n",
       "25   \\x1b\\x00      PRR  \\x01\\x01\\x00\\x00\\x00\\x01\\x00\\x01\\x00\\x04\\x00\\x...\n",
       "26   \\x02\\x00      PIR                                           \\x01\\x01\n",
       "27   \\x1b\\x00      PRR  \\x01\\x01\\x00\\x00\\x00\\x01\\x00\\x01\\x00\\x06\\x00\\x...\n",
       "28   \\x02\\x00      PIR                                           \\x01\\x01\n",
       "29   \\x1b\\x00      PRR  \\x01\\x01\\x00\\x00\\x00\\x01\\x00\\x01\\x00\\xfa\\xff\\x...\n",
       "30   \\x02\\x00      PIR                                           \\x01\\x01\n",
       "31   \\x1b\\x00      PRR  \\x01\\x01\\x00\\x00\\x00\\x01\\x00\\x01\\x00\\xfc\\xff\\x...\n",
       "32   x00 \\x00      WRR  \\x01\\x021U\\xffW\\r\\x00\\x00\\x00\\x00\\x00\\x00\\x00\\...\n",
       "33   \\x0e\\x00      HBR            \\x01\\x01\\x01\\x00\\r\\x00\\x00\\x00P\\x04PASS\n",
       "34   \\x0e\\x00      HBR            \\xff\\x00\\x01\\x00\\r\\x00\\x00\\x00P\\x04PASS\n",
       "35   \\x0e\\x00      SBR            \\x01\\x01\\x01\\x00\\r\\x00\\x00\\x00P\\x04PASS\n",
       "36   \\x0e\\x00      SBR            \\xff\\x00\\x01\\x00\\r\\x00\\x00\\x00P\\x04PASS\n",
       "37   \\x16\\x00      PCR  \\x01\\x01\\r\\x00\\x00\\x00\\x00\\x00\\x00\\x00\\xff\\xff...\n",
       "38   \\x16\\x00      PCR  \\xff\\x00\\r\\x00\\x00\\x00\\x00\\x00\\x00\\x00\\xff\\xff...\n",
       "39   \\x07\\x00      MRR                                  1U\\xffW \\x00\\x00'"
      ]
     },
     "execution_count": 10,
     "metadata": {},
     "output_type": "execute_result"
    }
   ],
   "source": [
    "df = pd.DataFrame(list_data,columns=['rec_length','rec_type','rec_body'])\n",
    "df"
   ]
  },
  {
   "cell_type": "code",
   "execution_count": 11,
   "id": "54353a01",
   "metadata": {},
   "outputs": [
    {
     "data": {
      "text/plain": [
       "'\\\\x01\\\\x01\\\\x00\\\\x00\\\\x00\\\\x01\\\\x00\\\\x01\\\\x00\\\\xfb\\\\xff\\\\xfc\\\\xff\\\\x03\\\\x02\\\\x00\\\\x00\\\\x011\\\\x050.000\\\\x00'"
      ]
     },
     "execution_count": 11,
     "metadata": {},
     "output_type": "execute_result"
    }
   ],
   "source": [
    "df.loc[8].rec_body"
   ]
  },
  {
   "cell_type": "code",
   "execution_count": 12,
   "id": "04d14a6f",
   "metadata": {},
   "outputs": [
    {
     "data": {
      "text/plain": [
       "rec_length                                             \\x1a\\x00\n",
       "rec_type                                                    PRR\n",
       "rec_body      \\x01\\x01\\x00\\x00\\x00\\x01\\x00\\x01\\x00\\xfb\\xff\\x...\n",
       "Name: 8, dtype: object"
      ]
     },
     "execution_count": 12,
     "metadata": {},
     "output_type": "execute_result"
    }
   ],
   "source": [
    "df[df.rec_type=='PRR'].iloc[0]"
   ]
  },
  {
   "cell_type": "code",
   "execution_count": 13,
   "id": "bfdacb88",
   "metadata": {},
   "outputs": [],
   "source": [
    "prr = ['U1','U1','B1','U2','U2','U2','I2','I2','U4','Cn','Cn','Bn']\n",
    "fmt = \"BBBHHHhhL\""
   ]
  },
  {
   "cell_type": "code",
   "execution_count": 14,
   "id": "0056f40b",
   "metadata": {},
   "outputs": [
    {
     "ename": "SyntaxError",
     "evalue": "unexpected character after line continuation character (3322058373.py, line 1)",
     "output_type": "error",
     "traceback": [
      "\u001b[0;36m  Cell \u001b[0;32mIn[14], line 1\u001b[0;36m\u001b[0m\n\u001b[0;31m    1|1|0|0|1|1|-5|-4|515|1|0.000|[]\\n\u001b[0m\n\u001b[0m                                      ^\u001b[0m\n\u001b[0;31mSyntaxError\u001b[0m\u001b[0;31m:\u001b[0m unexpected character after line continuation character\n"
     ]
    }
   ],
   "source": [
    "1|1|0|0|1|1|-5|-4|515|1|0.000|[]\\n\n",
    "1,1,0,0,1,1,-5,-4,515,1,0.000,0\n"
   ]
  },
  {
   "cell_type": "code",
   "execution_count": 26,
   "id": "848ea51d",
   "metadata": {},
   "outputs": [
    {
     "name": "stdout",
     "output_type": "stream",
     "text": [
      "b'\\x01\\x01\\x00\\x00\\x00\\x01\\x00\\x01\\x00\\xfb\\xff\\xfc\\xff\\x03\\x02\\x00\\x00\\x00'\n"
     ]
    },
    {
     "data": {
      "text/plain": [
       "\"b'\\\\x01\\\\x01\\\\x00\\\\x00\\\\x00\\\\x01\\\\x00\\\\x01\\\\x00\\\\xfb\\\\xff\\\\xfc\\\\xff\\\\x03\\\\x02\\\\x00\\\\x00\\\\x00'\""
      ]
     },
     "execution_count": 26,
     "metadata": {},
     "output_type": "execute_result"
    }
   ],
   "source": [
    "# header of FAR\n",
    "enc = struct.pack(\"<BBBHHHhhLx\", 1,1,0,0,1,1,-5,-4,515,)\n",
    "print(enc)\n",
    "str(enc)"
   ]
  },
  {
   "cell_type": "code",
   "execution_count": null,
   "id": "13ea425f",
   "metadata": {},
   "outputs": [],
   "source": [
    "data = \"\\x0C\\x00Maximilianus\\xf4\\x01\".encode('latin1')\n",
    "number = struct.unpack('<h', data[:2])[0]\n",
    "print('number:', number)\n",
    "data = data[2:]\n",
    "print('text:', data[:number].decode())"
   ]
  },
  {
   "cell_type": "code",
   "execution_count": null,
   "id": "da33e405",
   "metadata": {},
   "outputs": [],
   "source": [
    "df.loc[8].rec_body"
   ]
  },
  {
   "cell_type": "code",
   "execution_count": null,
   "id": "f3e4ef20",
   "metadata": {},
   "outputs": [],
   "source": [
    "df.loc[8].rec_body.encode('latin1')"
   ]
  },
  {
   "cell_type": "code",
   "execution_count": 29,
   "id": "ede63f90",
   "metadata": {},
   "outputs": [
    {
     "name": "stdout",
     "output_type": "stream",
     "text": [
      "b'\\x01\\x01\\x00\\x00\\x00\\x01\\x00\\x01\\x00\\xfb\\xff\\xfc\\xff\\x03\\x02\\x00\\x00\\x00'\n"
     ]
    },
    {
     "ename": "PyperclipException",
     "evalue": "only str, int, float, and bool values can be copied to the clipboard, not NoneType",
     "output_type": "error",
     "traceback": [
      "\u001b[0;31m---------------------------------------------------------------------------\u001b[0m",
      "\u001b[0;31mPyperclipException\u001b[0m                        Traceback (most recent call last)",
      "Cell \u001b[0;32mIn[29], line 3\u001b[0m\n\u001b[1;32m      1\u001b[0m \u001b[38;5;28;01mimport\u001b[39;00m \u001b[38;5;21;01mpyperclip\u001b[39;00m\n\u001b[1;32m      2\u001b[0m s1 \u001b[38;5;241m=\u001b[39m \u001b[38;5;28mprint\u001b[39m(enc)\n\u001b[0;32m----> 3\u001b[0m \u001b[43mpyperclip\u001b[49m\u001b[38;5;241;43m.\u001b[39;49m\u001b[43mcopy\u001b[49m\u001b[43m(\u001b[49m\u001b[43ms1\u001b[49m\u001b[43m)\u001b[49m\n",
      "File \u001b[0;32m~/opt/anaconda3/lib/python3.8/site-packages/pyperclip/__init__.py:118\u001b[0m, in \u001b[0;36minit_osx_pbcopy_clipboard.<locals>.copy_osx_pbcopy\u001b[0;34m(text)\u001b[0m\n\u001b[1;32m    117\u001b[0m \u001b[38;5;28;01mdef\u001b[39;00m \u001b[38;5;21mcopy_osx_pbcopy\u001b[39m(text):\n\u001b[0;32m--> 118\u001b[0m     text \u001b[38;5;241m=\u001b[39m \u001b[43m_stringifyText\u001b[49m\u001b[43m(\u001b[49m\u001b[43mtext\u001b[49m\u001b[43m)\u001b[49m \u001b[38;5;66;03m# Converts non-str values to str.\u001b[39;00m\n\u001b[1;32m    119\u001b[0m     p \u001b[38;5;241m=\u001b[39m subprocess\u001b[38;5;241m.\u001b[39mPopen([\u001b[38;5;124m'\u001b[39m\u001b[38;5;124mpbcopy\u001b[39m\u001b[38;5;124m'\u001b[39m, \u001b[38;5;124m'\u001b[39m\u001b[38;5;124mw\u001b[39m\u001b[38;5;124m'\u001b[39m],\n\u001b[1;32m    120\u001b[0m                          stdin\u001b[38;5;241m=\u001b[39msubprocess\u001b[38;5;241m.\u001b[39mPIPE, close_fds\u001b[38;5;241m=\u001b[39m\u001b[38;5;28;01mTrue\u001b[39;00m)\n\u001b[1;32m    121\u001b[0m     p\u001b[38;5;241m.\u001b[39mcommunicate(\u001b[38;5;28minput\u001b[39m\u001b[38;5;241m=\u001b[39mtext\u001b[38;5;241m.\u001b[39mencode(ENCODING))\n",
      "File \u001b[0;32m~/opt/anaconda3/lib/python3.8/site-packages/pyperclip/__init__.py:111\u001b[0m, in \u001b[0;36m_stringifyText\u001b[0;34m(text)\u001b[0m\n\u001b[1;32m    109\u001b[0m     acceptedTypes \u001b[38;5;241m=\u001b[39m (\u001b[38;5;28mstr\u001b[39m, \u001b[38;5;28mint\u001b[39m, \u001b[38;5;28mfloat\u001b[39m, \u001b[38;5;28mbool\u001b[39m)\n\u001b[1;32m    110\u001b[0m \u001b[38;5;28;01mif\u001b[39;00m \u001b[38;5;129;01mnot\u001b[39;00m \u001b[38;5;28misinstance\u001b[39m(text, acceptedTypes):\n\u001b[0;32m--> 111\u001b[0m     \u001b[38;5;28;01mraise\u001b[39;00m PyperclipException(\u001b[38;5;124m'\u001b[39m\u001b[38;5;124monly str, int, float, and bool values can be copied to the clipboard, not \u001b[39m\u001b[38;5;132;01m%s\u001b[39;00m\u001b[38;5;124m'\u001b[39m \u001b[38;5;241m%\u001b[39m (text\u001b[38;5;241m.\u001b[39m\u001b[38;5;18m__class__\u001b[39m\u001b[38;5;241m.\u001b[39m\u001b[38;5;18m__name__\u001b[39m))\n\u001b[1;32m    112\u001b[0m \u001b[38;5;28;01mreturn\u001b[39;00m STR_OR_UNICODE(text)\n",
      "\u001b[0;31mPyperclipException\u001b[0m: only str, int, float, and bool values can be copied to the clipboard, not NoneType"
     ]
    }
   ],
   "source": [
    "import pyperclip\n",
    "s1 = print(enc)\n",
    "pyperclip.copy(s1)"
   ]
  },
  {
   "cell_type": "code",
   "execution_count": null,
   "id": "1ef393f4",
   "metadata": {},
   "outputs": [],
   "source": []
  }
 ],
 "metadata": {
  "kernelspec": {
   "display_name": "Python 3 (ipykernel)",
   "language": "python",
   "name": "python3"
  },
  "language_info": {
   "codemirror_mode": {
    "name": "ipython",
    "version": 3
   },
   "file_extension": ".py",
   "mimetype": "text/x-python",
   "name": "python",
   "nbconvert_exporter": "python",
   "pygments_lexer": "ipython3",
   "version": "3.8.8"
  }
 },
 "nbformat": 4,
 "nbformat_minor": 5
}
