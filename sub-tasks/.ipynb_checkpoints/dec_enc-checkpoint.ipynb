{
 "cells": [
  {
   "cell_type": "markdown",
   "id": "2fc9e47c",
   "metadata": {},
   "source": [
    "### resources\n",
    "https://en.wikiversity.org/wiki/Python_Concepts/Bytes_objects_and_Bytearrays"
   ]
  },
  {
   "cell_type": "code",
   "execution_count": 1,
   "id": "1df447b7",
   "metadata": {},
   "outputs": [],
   "source": [
    "import pandas as pd\n",
    "import numpy as np\n",
    "import struct\n",
    "import os\n",
    "import matplotlib.pyplot as plt"
   ]
  },
  {
   "cell_type": "code",
   "execution_count": 204,
   "id": "66853380",
   "metadata": {},
   "outputs": [],
   "source": [
    "row=b'\\x01\\x01\\x00\\x00\\x00\\x01\\x00\\x01\\x00\\xfb\\xff\\xfc\\xff\\x03\\x02\\x00\\x00\\x011\\x050.000\\x00'\n",
    "str_row = str(row)"
   ]
  },
  {
   "cell_type": "markdown",
   "id": "e9bcce8b",
   "metadata": {},
   "source": [
    "# string to bytes"
   ]
  },
  {
   "cell_type": "code",
   "execution_count": 233,
   "id": "025a1b90",
   "metadata": {},
   "outputs": [
    {
     "name": "stdout",
     "output_type": "stream",
     "text": [
      "['01', '01', '00', '00', '00', '01', '00', '01', '00', 'fb', 'ff', 'fc', 'ff', '03', '02', '00', '00', '011', '050.000', '00']\n"
     ]
    }
   ],
   "source": [
    "str_list = str_row[3:len(str_row)-1].replace(\"x\",\"\").split(\"\\\\\")\n",
    "#str_list = str_row[3:len(str_row)-1].replace(\"x\",\"\").replace(\"\\\\\",\"\")\n",
    "print(str_list)"
   ]
  },
  {
   "cell_type": "code",
   "execution_count": 193,
   "id": "db9d5f58",
   "metadata": {},
   "outputs": [
    {
     "data": {
      "text/plain": [
       "b'\\x01\\x01\\x00\\x00\\x00\\x01\\x00\\x01\\x00\\xfb\\xff\\xfc\\xff\\x03\\x02\\x00\\x00\\x01\\x10P'"
      ]
     },
     "execution_count": 193,
     "metadata": {},
     "output_type": "execute_result"
    }
   ],
   "source": [
    "dec = bytes.fromhex(str_list[:40])\n",
    "dec"
   ]
  },
  {
   "cell_type": "code",
   "execution_count": 285,
   "id": "76575284",
   "metadata": {},
   "outputs": [
    {
     "name": "stdout",
     "output_type": "stream",
     "text": [
      "b'\\x01\\x01\\x00\\x00\\x00\\x01\\x00\\x01\\x00\\xfb\\xff\\xfc\\xff\\x03\\x02\\x00\\x00\\x00'\n",
      "[['01', 1], ['05', 0.0]]\n"
     ]
    }
   ],
   "source": [
    "form_data=b''\n",
    "non_form_list=[]\n",
    "for c in str_list:\n",
    "    #unpack form\n",
    "    if len(c) == 2:\n",
    "        form_data += bytes.fromhex(c)\n",
    "    #unknown form\n",
    "    else:\n",
    "        non_form_list.append([c[:2],c[2:]])\n",
    "\n",
    "non_form_list[0][1] = int(non_form_list[0][1])\n",
    "non_form_list[1][1] = float(non_form_list[1][1])\n",
    "        \n",
    "print(form_data)\n",
    "print(non_form_list)"
   ]
  },
  {
   "cell_type": "code",
   "execution_count": null,
   "id": "611d8ed4",
   "metadata": {},
   "outputs": [],
   "source": []
  },
  {
   "cell_type": "code",
   "execution_count": 286,
   "id": "b300f85b",
   "metadata": {},
   "outputs": [
    {
     "name": "stdout",
     "output_type": "stream",
     "text": [
      "[1, 1, 0, 0, 1, 1, -5, -4, 515, 1, 0.0, 0]\n"
     ]
    }
   ],
   "source": [
    "pos=9\n",
    "\n",
    "unpack_form_data = struct.unpack(\"<BBBHHHhhLB\",form_data)\n",
    "list_unpack_form_data = list(unpack_form_data)\n",
    "\n",
    "for i in range(len(non_form_list)):\n",
    "    list_unpack_form_data.insert(i + pos, non_form_list[i][1])\n",
    "    \n",
    "print(list_unpack_form_data)"
   ]
  },
  {
   "cell_type": "code",
   "execution_count": null,
   "id": "4f3af8b2",
   "metadata": {},
   "outputs": [],
   "source": []
  },
  {
   "cell_type": "code",
   "execution_count": 274,
   "id": "3a4f6ecf",
   "metadata": {},
   "outputs": [],
   "source": [
    "string = '0.100'"
   ]
  },
  {
   "cell_type": "code",
   "execution_count": 279,
   "id": "8153b553",
   "metadata": {},
   "outputs": [
    {
     "data": {
      "text/plain": [
       "str"
      ]
     },
     "execution_count": 279,
     "metadata": {},
     "output_type": "execute_result"
    }
   ],
   "source": [
    "f_str = format(float(string), '.3f')\n",
    "type(f_str)"
   ]
  },
  {
   "cell_type": "code",
   "execution_count": null,
   "id": "8e212d13",
   "metadata": {},
   "outputs": [],
   "source": []
  }
 ],
 "metadata": {
  "kernelspec": {
   "display_name": "Python 3 (ipykernel)",
   "language": "python",
   "name": "python3"
  },
  "language_info": {
   "codemirror_mode": {
    "name": "ipython",
    "version": 3
   },
   "file_extension": ".py",
   "mimetype": "text/x-python",
   "name": "python",
   "nbconvert_exporter": "python",
   "pygments_lexer": "ipython3",
   "version": "3.8.8"
  }
 },
 "nbformat": 4,
 "nbformat_minor": 5
}
