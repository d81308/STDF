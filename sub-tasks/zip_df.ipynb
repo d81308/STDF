{
 "cells": [
  {
   "cell_type": "code",
   "execution_count": 1,
   "id": "45179838",
   "metadata": {},
   "outputs": [],
   "source": [
    "import pandas as pd"
   ]
  },
  {
   "cell_type": "code",
   "execution_count": 7,
   "id": "54015bd5",
   "metadata": {},
   "outputs": [],
   "source": [
    "col_name = ['a','b','c']\n",
    "list1 = [1,2,3]\n",
    "list2 = [4,5,6]\n",
    "list3 = [7,8,9]\n",
    "list_group = [list1,list2,list3]"
   ]
  },
  {
   "cell_type": "code",
   "execution_count": 14,
   "id": "3109b029",
   "metadata": {},
   "outputs": [
    {
     "data": {
      "text/plain": [
       "{'a': [], 'b': [], 'c': []}"
      ]
     },
     "execution_count": 14,
     "metadata": {},
     "output_type": "execute_result"
    }
   ],
   "source": [
    "dict_group = {}\n",
    "for name in col_name:\n",
    "    dict_group[name]=[]\n",
    "dict_group"
   ]
  },
  {
   "cell_type": "code",
   "execution_count": 15,
   "id": "8cc0fad8",
   "metadata": {},
   "outputs": [
    {
     "name": "stdout",
     "output_type": "stream",
     "text": [
      "[1, 2, 3]\n",
      "[4, 5, 6]\n",
      "[7, 8, 9]\n"
     ]
    },
    {
     "data": {
      "text/plain": [
       "{'a': [1, 4, 7], 'b': [2, 5, 8], 'c': [3, 6, 9]}"
      ]
     },
     "execution_count": 15,
     "metadata": {},
     "output_type": "execute_result"
    }
   ],
   "source": [
    "for list in list_group:\n",
    "    print(list)\n",
    "    for n in range(0,len(list)):\n",
    "        dict_group[col_name[n]].append(list[n])\n",
    "dict_group"
   ]
  },
  {
   "cell_type": "code",
   "execution_count": 21,
   "id": "b70940b3",
   "metadata": {},
   "outputs": [],
   "source": [
    "col_name = ['a','b','c']\n",
    "def zip_list(list_group,col_name):\n",
    "    # create col_name of df\n",
    "    dict_group = {}\n",
    "    for name in col_name:\n",
    "        dict_group[name]=[]\n",
    "    \n",
    "    for list in list_group:\n",
    "        for n in range(0,len(list)):\n",
    "            dict_group[col_name[n]].append(list[n])\n",
    "    return dict_group"
   ]
  },
  {
   "cell_type": "code",
   "execution_count": 19,
   "id": "f6312e40",
   "metadata": {},
   "outputs": [
    {
     "name": "stdout",
     "output_type": "stream",
     "text": [
      "[1, 2, 3]\n",
      "[4, 5, 6]\n",
      "[7, 8, 9]\n"
     ]
    }
   ],
   "source": [
    "dict_group = zip_list(list_group)"
   ]
  },
  {
   "cell_type": "code",
   "execution_count": 18,
   "id": "6fd183b7",
   "metadata": {},
   "outputs": [],
   "source": [
    "def dict2df(dict):\n",
    "    df = pd.DataFrame()\n",
    "    for key in dict.keys():\n",
    "        df[key]=dict[key]\n",
    "    return df"
   ]
  },
  {
   "cell_type": "code",
   "execution_count": 20,
   "id": "a5486087",
   "metadata": {},
   "outputs": [
    {
     "data": {
      "text/html": [
       "<div>\n",
       "<style scoped>\n",
       "    .dataframe tbody tr th:only-of-type {\n",
       "        vertical-align: middle;\n",
       "    }\n",
       "\n",
       "    .dataframe tbody tr th {\n",
       "        vertical-align: top;\n",
       "    }\n",
       "\n",
       "    .dataframe thead th {\n",
       "        text-align: right;\n",
       "    }\n",
       "</style>\n",
       "<table border=\"1\" class=\"dataframe\">\n",
       "  <thead>\n",
       "    <tr style=\"text-align: right;\">\n",
       "      <th></th>\n",
       "      <th>a</th>\n",
       "      <th>b</th>\n",
       "      <th>c</th>\n",
       "    </tr>\n",
       "  </thead>\n",
       "  <tbody>\n",
       "    <tr>\n",
       "      <th>0</th>\n",
       "      <td>1</td>\n",
       "      <td>2</td>\n",
       "      <td>3</td>\n",
       "    </tr>\n",
       "    <tr>\n",
       "      <th>1</th>\n",
       "      <td>4</td>\n",
       "      <td>5</td>\n",
       "      <td>6</td>\n",
       "    </tr>\n",
       "    <tr>\n",
       "      <th>2</th>\n",
       "      <td>7</td>\n",
       "      <td>8</td>\n",
       "      <td>9</td>\n",
       "    </tr>\n",
       "  </tbody>\n",
       "</table>\n",
       "</div>"
      ],
      "text/plain": [
       "   a  b  c\n",
       "0  1  2  3\n",
       "1  4  5  6\n",
       "2  7  8  9"
      ]
     },
     "execution_count": 20,
     "metadata": {},
     "output_type": "execute_result"
    }
   ],
   "source": [
    "dict2df(dict_group)"
   ]
  },
  {
   "cell_type": "code",
   "execution_count": null,
   "id": "12e9a6db",
   "metadata": {},
   "outputs": [],
   "source": []
  }
 ],
 "metadata": {
  "kernelspec": {
   "display_name": "Python 3 (ipykernel)",
   "language": "python",
   "name": "python3"
  },
  "language_info": {
   "codemirror_mode": {
    "name": "ipython",
    "version": 3
   },
   "file_extension": ".py",
   "mimetype": "text/x-python",
   "name": "python",
   "nbconvert_exporter": "python",
   "pygments_lexer": "ipython3",
   "version": "3.8.8"
  }
 },
 "nbformat": 4,
 "nbformat_minor": 5
}
