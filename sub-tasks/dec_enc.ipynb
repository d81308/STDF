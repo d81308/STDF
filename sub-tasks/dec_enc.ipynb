{
 "cells": [
  {
   "cell_type": "markdown",
   "id": "2fc9e47c",
   "metadata": {},
   "source": [
    "### resources\n",
    "https://en.wikiversity.org/wiki/Python_Concepts/Bytes_objects_and_Bytearrays"
   ]
  },
  {
   "cell_type": "code",
   "execution_count": 12,
   "id": "1df447b7",
   "metadata": {},
   "outputs": [],
   "source": [
    "import pandas as pd\n",
    "import numpy as np\n",
    "import struct\n",
    "import os\n",
    "import matplotlib.pyplot as plt"
   ]
  },
  {
   "cell_type": "code",
   "execution_count": 1,
   "id": "66853380",
   "metadata": {},
   "outputs": [
    {
     "data": {
      "text/plain": [
       "\"b'\\\\x01\\\\x01\\\\x00\\\\x00\\\\x00\\\\x01\\\\x00\\\\x01\\\\x00\\\\xfb\\\\xff\\\\xfc\\\\xff\\\\x03\\\\x02\\\\x00\\\\x00\\\\x011\\\\x050.000\\\\x00'\""
      ]
     },
     "execution_count": 1,
     "metadata": {},
     "output_type": "execute_result"
    }
   ],
   "source": [
    "row=b'\\x01\\x01\\x00\\x00\\x00\\x01\\x00\\x01\\x00\\xfb\\xff\\xfc\\xff\\x03\\x02\\x00\\x00\\x011\\x050.000\\x00'\n",
    "str_row = str(row)\n",
    "str_row"
   ]
  },
  {
   "cell_type": "markdown",
   "id": "e9bcce8b",
   "metadata": {},
   "source": [
    "# string to bytes"
   ]
  },
  {
   "cell_type": "code",
   "execution_count": 21,
   "id": "d60fb400",
   "metadata": {},
   "outputs": [],
   "source": [
    "str_row = '\\\\x01\\\\x01\\\\x00\\\\x00\\\\x00\\\\x01\\\\x00\\\\x01\\\\x00\\\\x06\\\\x00\\\\xfc\\\\xff\\\\x01\\\\x00\\\\x00\\\\x00\\\\x014\\\\x052.803\\\\x00'\n"
   ]
  },
  {
   "cell_type": "code",
   "execution_count": 22,
   "id": "025a1b90",
   "metadata": {},
   "outputs": [
    {
     "name": "stdout",
     "output_type": "stream",
     "text": [
      "['01', '01', '00', '00', '00', '01', '00', '01', '00', '06', '00', 'fc', 'ff', '01', '00', '00', '00', '014', '052.803', '0']\n"
     ]
    }
   ],
   "source": [
    "#str_list = str_row[3:len(str_row)-1].replace(\"x\",\"\").split(\"\\\\\")\n",
    "#str_list = str_row[3:len(str_row)-1].replace(\"x\",\"\").replace(\"\\\\\",\"\")\n",
    "str_list = str_row[2:len(str_row)-1].replace(\"x\",\"\").split(\"\\\\\")\n",
    "print(str_list)"
   ]
  },
  {
   "cell_type": "code",
   "execution_count": 193,
   "id": "db9d5f58",
   "metadata": {},
   "outputs": [
    {
     "data": {
      "text/plain": [
       "b'\\x01\\x01\\x00\\x00\\x00\\x01\\x00\\x01\\x00\\xfb\\xff\\xfc\\xff\\x03\\x02\\x00\\x00\\x01\\x10P'"
      ]
     },
     "execution_count": 193,
     "metadata": {},
     "output_type": "execute_result"
    }
   ],
   "source": [
    "dec = bytes.fromhex(str_list[:40])\n",
    "dec"
   ]
  },
  {
   "cell_type": "code",
   "execution_count": 23,
   "id": "76575284",
   "metadata": {},
   "outputs": [
    {
     "name": "stdout",
     "output_type": "stream",
     "text": [
      "b'\\x01\\x01\\x00\\x00\\x00\\x01\\x00\\x01\\x00\\x06\\x00\\xfc\\xff\\x01\\x00\\x00\\x00'\n",
      "[['01', 4], ['05', 2.803], ['0', '']]\n"
     ]
    }
   ],
   "source": [
    "form_data=b''\n",
    "non_form_list=[]\n",
    "for c in str_list:\n",
    "    #unpack form\n",
    "    if len(c) == 2:\n",
    "        form_data += bytes.fromhex(c)\n",
    "    #unknown form\n",
    "    else:\n",
    "        non_form_list.append([c[:2],c[2:]])\n",
    "\n",
    "non_form_list[0][1] = int(non_form_list[0][1])\n",
    "non_form_list[1][1] = float(non_form_list[1][1])\n",
    "        \n",
    "print(form_data)\n",
    "print(non_form_list)"
   ]
  },
  {
   "cell_type": "code",
   "execution_count": null,
   "id": "611d8ed4",
   "metadata": {},
   "outputs": [],
   "source": []
  },
  {
   "cell_type": "code",
   "execution_count": 26,
   "id": "b300f85b",
   "metadata": {},
   "outputs": [
    {
     "ename": "error",
     "evalue": "unpack requires a buffer of 18 bytes",
     "output_type": "error",
     "traceback": [
      "\u001b[0;31m---------------------------------------------------------------------------\u001b[0m",
      "\u001b[0;31merror\u001b[0m                                     Traceback (most recent call last)",
      "Cell \u001b[0;32mIn[26], line 3\u001b[0m\n\u001b[1;32m      1\u001b[0m pos\u001b[38;5;241m=\u001b[39m\u001b[38;5;241m9\u001b[39m\n\u001b[0;32m----> 3\u001b[0m unpack_form_data \u001b[38;5;241m=\u001b[39m \u001b[43mstruct\u001b[49m\u001b[38;5;241;43m.\u001b[39;49m\u001b[43munpack\u001b[49m\u001b[43m(\u001b[49m\u001b[38;5;124;43m\"\u001b[39;49m\u001b[38;5;124;43m<BBBHHHhhLB\u001b[39;49m\u001b[38;5;124;43m\"\u001b[39;49m\u001b[43m,\u001b[49m\u001b[43mform_data\u001b[49m\u001b[43m)\u001b[49m\n\u001b[1;32m      4\u001b[0m list_unpack_form_data \u001b[38;5;241m=\u001b[39m \u001b[38;5;28mlist\u001b[39m(unpack_form_data)\n\u001b[1;32m      6\u001b[0m \u001b[38;5;28;01mfor\u001b[39;00m i \u001b[38;5;129;01min\u001b[39;00m \u001b[38;5;28mrange\u001b[39m(\u001b[38;5;28mlen\u001b[39m(non_form_list)):\n",
      "\u001b[0;31merror\u001b[0m: unpack requires a buffer of 18 bytes"
     ]
    }
   ],
   "source": [
    "pos=9\n",
    "\n",
    "unpack_form_data = struct.unpack(\"<BBBHHHhhLB\",form_data)\n",
    "list_unpack_form_data = list(unpack_form_data)\n",
    "\n",
    "for i in range(len(non_form_list)):\n",
    "    list_unpack_form_data.insert(i + pos, non_form_list[i][1])\n",
    "    \n",
    "print(list_unpack_form_data)"
   ]
  },
  {
   "cell_type": "code",
   "execution_count": null,
   "id": "4f3af8b2",
   "metadata": {},
   "outputs": [],
   "source": []
  },
  {
   "cell_type": "code",
   "execution_count": 31,
   "id": "3d6760d1",
   "metadata": {},
   "outputs": [],
   "source": [
    "def unpack_prr_body(str_row):\n",
    "    form_data=b''\n",
    "    non_form_list=[]\n",
    "    \n",
    "    #split_row\n",
    "    str_list = str_row[2:len(str_row)-1].replace(\"x\",\"\").split(\"\\\\\")\n",
    "    \n",
    "    #detect unform part\n",
    "    for c in str_list:\n",
    "        #unpack form\n",
    "        if len(c) == 2:\n",
    "            form_data += bytes.fromhex(c)\n",
    "        #unknown form\n",
    "        else:\n",
    "            non_form_list.append([c[:2],c[2:]])\n",
    "\n",
    "    non_form_list[0][1] = int(non_form_list[0][1])\n",
    "    non_form_list[1][1] = float(non_form_list[1][1])\n",
    "    \n",
    "    #unpack body_record\n",
    "    pos=9\n",
    "\n",
    "    unpack_form_data = struct.unpack(\"<BBBHHHhhL\",form_data)\n",
    "    list_unpack_form_data = list(unpack_form_data)\n",
    "\n",
    "    for i in range(len(non_form_list)):\n",
    "        list_unpack_form_data.insert(i + pos, non_form_list[i][1])\n",
    "\n",
    "    return list_unpack_form_data"
   ]
  },
  {
   "cell_type": "code",
   "execution_count": 30,
   "id": "4b3621bd",
   "metadata": {},
   "outputs": [
    {
     "ename": "error",
     "evalue": "unpack requires a buffer of 18 bytes",
     "output_type": "error",
     "traceback": [
      "\u001b[0;31m---------------------------------------------------------------------------\u001b[0m",
      "\u001b[0;31merror\u001b[0m                                     Traceback (most recent call last)",
      "Cell \u001b[0;32mIn[30], line 1\u001b[0m\n\u001b[0;32m----> 1\u001b[0m \u001b[43munpack_body\u001b[49m\u001b[43m(\u001b[49m\u001b[43mstr_row\u001b[49m\u001b[43m)\u001b[49m\n",
      "Cell \u001b[0;32mIn[10], line 23\u001b[0m, in \u001b[0;36munpack_body\u001b[0;34m(str_row)\u001b[0m\n\u001b[1;32m     20\u001b[0m \u001b[38;5;66;03m#unpack body_record\u001b[39;00m\n\u001b[1;32m     21\u001b[0m pos\u001b[38;5;241m=\u001b[39m\u001b[38;5;241m9\u001b[39m\n\u001b[0;32m---> 23\u001b[0m unpack_form_data \u001b[38;5;241m=\u001b[39m \u001b[43mstruct\u001b[49m\u001b[38;5;241;43m.\u001b[39;49m\u001b[43munpack\u001b[49m\u001b[43m(\u001b[49m\u001b[38;5;124;43m\"\u001b[39;49m\u001b[38;5;124;43m<BBBHHHhhLB\u001b[39;49m\u001b[38;5;124;43m\"\u001b[39;49m\u001b[43m,\u001b[49m\u001b[43mform_data\u001b[49m\u001b[43m)\u001b[49m\n\u001b[1;32m     24\u001b[0m list_unpack_form_data \u001b[38;5;241m=\u001b[39m \u001b[38;5;28mlist\u001b[39m(unpack_form_data)\n\u001b[1;32m     26\u001b[0m \u001b[38;5;28;01mfor\u001b[39;00m i \u001b[38;5;129;01min\u001b[39;00m \u001b[38;5;28mrange\u001b[39m(\u001b[38;5;28mlen\u001b[39m(non_form_list)):\n",
      "\u001b[0;31merror\u001b[0m: unpack requires a buffer of 18 bytes"
     ]
    }
   ],
   "source": [
    "unpack_body(str_row)"
   ]
  },
  {
   "cell_type": "code",
   "execution_count": 27,
   "id": "3dca3d92",
   "metadata": {},
   "outputs": [],
   "source": [
    "a = b'\\x01\\x01\\x00\\x00\\x00\\x01\\x00\\x01\\x00\\x06\\x00\\xfc\\xff\\x01\\x00\\x00\\x00'"
   ]
  },
  {
   "cell_type": "code",
   "execution_count": 29,
   "id": "5578fd70",
   "metadata": {},
   "outputs": [
    {
     "data": {
      "text/plain": [
       "(1, 1, 0, 0, 1, 1, 6, -4, 1)"
      ]
     },
     "execution_count": 29,
     "metadata": {},
     "output_type": "execute_result"
    }
   ],
   "source": [
    "struct.unpack(\"<BBBHHHhhL\",a)"
   ]
  },
  {
   "cell_type": "code",
   "execution_count": null,
   "id": "89338421",
   "metadata": {},
   "outputs": [],
   "source": []
  }
 ],
 "metadata": {
  "kernelspec": {
   "display_name": "Python 3 (ipykernel)",
   "language": "python",
   "name": "python3"
  },
  "language_info": {
   "codemirror_mode": {
    "name": "ipython",
    "version": 3
   },
   "file_extension": ".py",
   "mimetype": "text/x-python",
   "name": "python",
   "nbconvert_exporter": "python",
   "pygments_lexer": "ipython3",
   "version": "3.8.8"
  }
 },
 "nbformat": 4,
 "nbformat_minor": 5
}
